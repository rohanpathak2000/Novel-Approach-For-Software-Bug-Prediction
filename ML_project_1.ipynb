{
  "nbformat": 4,
  "nbformat_minor": 5,
  "metadata": {
    "kernelspec": {
      "display_name": "Python 3",
      "language": "python",
      "name": "python3"
    },
    "language_info": {
      "codemirror_mode": {
        "name": "ipython",
        "version": 3
      },
      "file_extension": ".py",
      "mimetype": "text/x-python",
      "name": "python",
      "nbconvert_exporter": "python",
      "pygments_lexer": "ipython3",
      "version": "3.8.8"
    },
    "colab": {
      "name": "ML_project.ipynb",
      "provenance": [],
      "collapsed_sections": []
    }
  },
  "cells": [
    {
      "cell_type": "code",
      "metadata": {
        "id": "f05cc379"
      },
      "source": [
        "import pandas as pd\n",
        "import numpy as np "
      ],
      "id": "f05cc379",
      "execution_count": 2,
      "outputs": []
    },
    {
      "cell_type": "code",
      "metadata": {
        "colab": {
          "resources": {
            "http://localhost:8080/nbextensions/google.colab/files.js": {
              "data": "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",
              "ok": true,
              "headers": [
                [
                  "content-type",
                  "application/javascript"
                ]
              ],
              "status": 200,
              "status_text": ""
            }
          },
          "base_uri": "https://localhost:8080/",
          "height": 174
        },
        "id": "dHJcEi1p9Zmw",
        "outputId": "b83ddb0d-eb1f-4c15-e21c-171ddf367b2d"
      },
      "source": [
        "from google.colab import files\n",
        "uploaded = files.upload()"
      ],
      "id": "dHJcEi1p9Zmw",
      "execution_count": 1,
      "outputs": [
        {
          "output_type": "display_data",
          "data": {
            "text/html": [
              "\n",
              "     <input type=\"file\" id=\"files-f917a257-4d89-414b-b2f1-dd47e42e6fcb\" name=\"files[]\" multiple disabled\n",
              "        style=\"border:none\" />\n",
              "     <output id=\"result-f917a257-4d89-414b-b2f1-dd47e42e6fcb\">\n",
              "      Upload widget is only available when the cell has been executed in the\n",
              "      current browser session. Please rerun this cell to enable.\n",
              "      </output>\n",
              "      <script src=\"/nbextensions/google.colab/files.js\"></script> "
            ],
            "text/plain": [
              "<IPython.core.display.HTML object>"
            ]
          },
          "metadata": {}
        },
        {
          "output_type": "stream",
          "name": "stdout",
          "text": [
            "Saving bug-metrics.csv to bug-metrics.csv\n",
            "Saving change-metrics.csv to change-metrics.csv\n",
            "Saving complexity-code-change.csv to complexity-code-change.csv\n",
            "Saving lin-ent.csv to lin-ent.csv\n"
          ]
        }
      ]
    },
    {
      "cell_type": "code",
      "metadata": {
        "colab": {
          "base_uri": "https://localhost:8080/",
          "height": 223
        },
        "id": "673b9e00",
        "outputId": "cee1e69f-5fb7-458f-c3cb-7c4062e145dc"
      },
      "source": [
        "df1 = pd.read_csv('bug-metrics.csv')\n",
        "df1 = df1.drop(columns = ['nonTrivialBugs', 'majorBugs', 'criticalBugs', 'highPriorityBugs'])\n",
        "df2 = pd.read_csv('change-metrics.csv')\n",
        "df2 = df2.drop(columns = ['nonTrivialBugs', 'majorBugs', 'criticalBugs', 'highPriorityBugs'])\n",
        "##print(df1.columns)\n",
        "##print(df2.columns)\n",
        "df = pd.merge(df1, df2, on = ['classname','bugs'])\n",
        "df.head()\n",
        "#df.describe()"
      ],
      "id": "673b9e00",
      "execution_count": 3,
      "outputs": [
        {
          "output_type": "execute_result",
          "data": {
            "text/html": [
              "<div>\n",
              "<style scoped>\n",
              "    .dataframe tbody tr th:only-of-type {\n",
              "        vertical-align: middle;\n",
              "    }\n",
              "\n",
              "    .dataframe tbody tr th {\n",
              "        vertical-align: top;\n",
              "    }\n",
              "\n",
              "    .dataframe thead th {\n",
              "        text-align: right;\n",
              "    }\n",
              "</style>\n",
              "<table border=\"1\" class=\"dataframe\">\n",
              "  <thead>\n",
              "    <tr style=\"text-align: right;\">\n",
              "      <th></th>\n",
              "      <th>classname</th>\n",
              "      <th>numberOfBugsFoundUntil:</th>\n",
              "      <th>numberOfNonTrivialBugsFoundUntil:</th>\n",
              "      <th>numberOfMajorBugsFoundUntil:</th>\n",
              "      <th>numberOfCriticalBugsFoundUntil:</th>\n",
              "      <th>numberOfHighPriorityBugsFoundUntil:</th>\n",
              "      <th>bugs</th>\n",
              "      <th>numberOfVersionsUntil:</th>\n",
              "      <th>numberOfFixesUntil:</th>\n",
              "      <th>numberOfRefactoringsUntil:</th>\n",
              "      <th>numberOfAuthorsUntil:</th>\n",
              "      <th>linesAddedUntil:</th>\n",
              "      <th>maxLinesAddedUntil:</th>\n",
              "      <th>avgLinesAddedUntil:</th>\n",
              "      <th>linesRemovedUntil:</th>\n",
              "      <th>maxLinesRemovedUntil:</th>\n",
              "      <th>avgLinesRemovedUntil:</th>\n",
              "      <th>codeChurnUntil:</th>\n",
              "      <th>maxCodeChurnUntil:</th>\n",
              "      <th>avgCodeChurnUntil:</th>\n",
              "      <th>ageWithRespectTo:</th>\n",
              "      <th>weightedAgeWithRespectTo:</th>\n",
              "    </tr>\n",
              "  </thead>\n",
              "  <tbody>\n",
              "    <tr>\n",
              "      <th>0</th>\n",
              "      <td>org::eclipse::jdt::internal::core::search::ind...</td>\n",
              "      <td>3</td>\n",
              "      <td>2</td>\n",
              "      <td>0</td>\n",
              "      <td>0</td>\n",
              "      <td>0</td>\n",
              "      <td>0</td>\n",
              "      <td>65</td>\n",
              "      <td>4</td>\n",
              "      <td>0</td>\n",
              "      <td>8</td>\n",
              "      <td>608</td>\n",
              "      <td>158</td>\n",
              "      <td>9.35385</td>\n",
              "      <td>566</td>\n",
              "      <td>158</td>\n",
              "      <td>8.70769</td>\n",
              "      <td>42</td>\n",
              "      <td>15</td>\n",
              "      <td>0.646154</td>\n",
              "      <td>350.571</td>\n",
              "      <td>63.0609</td>\n",
              "    </tr>\n",
              "    <tr>\n",
              "      <th>1</th>\n",
              "      <td>org::eclipse::jdt::internal::compiler::codegen...</td>\n",
              "      <td>0</td>\n",
              "      <td>0</td>\n",
              "      <td>0</td>\n",
              "      <td>0</td>\n",
              "      <td>0</td>\n",
              "      <td>0</td>\n",
              "      <td>2</td>\n",
              "      <td>0</td>\n",
              "      <td>0</td>\n",
              "      <td>2</td>\n",
              "      <td>10</td>\n",
              "      <td>10</td>\n",
              "      <td>5.00000</td>\n",
              "      <td>0</td>\n",
              "      <td>0</td>\n",
              "      <td>0.00000</td>\n",
              "      <td>10</td>\n",
              "      <td>10</td>\n",
              "      <td>5.000000</td>\n",
              "      <td>117.714</td>\n",
              "      <td>0.0000</td>\n",
              "    </tr>\n",
              "    <tr>\n",
              "      <th>2</th>\n",
              "      <td>org::eclipse::jdt::internal::compiler::ast::AS...</td>\n",
              "      <td>55</td>\n",
              "      <td>48</td>\n",
              "      <td>6</td>\n",
              "      <td>4</td>\n",
              "      <td>2</td>\n",
              "      <td>1</td>\n",
              "      <td>120</td>\n",
              "      <td>10</td>\n",
              "      <td>0</td>\n",
              "      <td>12</td>\n",
              "      <td>1361</td>\n",
              "      <td>99</td>\n",
              "      <td>11.34170</td>\n",
              "      <td>768</td>\n",
              "      <td>77</td>\n",
              "      <td>6.40000</td>\n",
              "      <td>593</td>\n",
              "      <td>66</td>\n",
              "      <td>4.941670</td>\n",
              "      <td>238.429</td>\n",
              "      <td>104.2040</td>\n",
              "    </tr>\n",
              "    <tr>\n",
              "      <th>3</th>\n",
              "      <td>org::eclipse::jdt::internal::compiler::lookup:...</td>\n",
              "      <td>3</td>\n",
              "      <td>3</td>\n",
              "      <td>0</td>\n",
              "      <td>0</td>\n",
              "      <td>0</td>\n",
              "      <td>0</td>\n",
              "      <td>28</td>\n",
              "      <td>4</td>\n",
              "      <td>0</td>\n",
              "      <td>5</td>\n",
              "      <td>138</td>\n",
              "      <td>39</td>\n",
              "      <td>4.92857</td>\n",
              "      <td>123</td>\n",
              "      <td>39</td>\n",
              "      <td>4.39286</td>\n",
              "      <td>15</td>\n",
              "      <td>23</td>\n",
              "      <td>0.535714</td>\n",
              "      <td>367.000</td>\n",
              "      <td>112.6780</td>\n",
              "    </tr>\n",
              "    <tr>\n",
              "      <th>4</th>\n",
              "      <td>org::eclipse::jdt::internal::eval::CodeSnippet...</td>\n",
              "      <td>15</td>\n",
              "      <td>13</td>\n",
              "      <td>1</td>\n",
              "      <td>1</td>\n",
              "      <td>0</td>\n",
              "      <td>0</td>\n",
              "      <td>93</td>\n",
              "      <td>17</td>\n",
              "      <td>0</td>\n",
              "      <td>8</td>\n",
              "      <td>1870</td>\n",
              "      <td>684</td>\n",
              "      <td>20.10750</td>\n",
              "      <td>1881</td>\n",
              "      <td>692</td>\n",
              "      <td>20.22580</td>\n",
              "      <td>-11</td>\n",
              "      <td>18</td>\n",
              "      <td>-0.118280</td>\n",
              "      <td>367.000</td>\n",
              "      <td>54.9702</td>\n",
              "    </tr>\n",
              "  </tbody>\n",
              "</table>\n",
              "</div>"
            ],
            "text/plain": [
              "                                           classname  ...  weightedAgeWithRespectTo:\n",
              "0  org::eclipse::jdt::internal::core::search::ind...  ...                    63.0609\n",
              "1  org::eclipse::jdt::internal::compiler::codegen...  ...                     0.0000\n",
              "2  org::eclipse::jdt::internal::compiler::ast::AS...  ...                   104.2040\n",
              "3  org::eclipse::jdt::internal::compiler::lookup:...  ...                   112.6780\n",
              "4  org::eclipse::jdt::internal::eval::CodeSnippet...  ...                    54.9702\n",
              "\n",
              "[5 rows x 22 columns]"
            ]
          },
          "metadata": {},
          "execution_count": 3
        }
      ]
    },
    {
      "cell_type": "code",
      "metadata": {
        "colab": {
          "base_uri": "https://localhost:8080/"
        },
        "id": "1c107ca6",
        "outputId": "a09a5c43-d526-479c-8622-04e98c53902e"
      },
      "source": [
        "df3 = pd.read_csv('lin-ent.csv')\n",
        "df3 = df3.drop(columns = ['nonTrivialBugs', 'majorBugs', 'criticalBugs', 'highPriorityBugs'])\n",
        "print(df3.columns)\n",
        "print(df.columns)\n",
        "#cols_to_use = df3.columns.difference(df.columns)\n",
        "df = pd.merge(df, df3, on = ['classname', 'bugs'] )"
      ],
      "id": "1c107ca6",
      "execution_count": 4,
      "outputs": [
        {
          "output_type": "stream",
          "name": "stdout",
          "text": [
            "Index(['classname', 'cbo ', 'dit', 'fanIn', 'fanOut', 'lcom', 'noc',\n",
            "       'numberOfAttributes', 'numberOfAttributesInherited',\n",
            "       'numberOfLinesOfCode', 'numberOfMethods', 'numberOfMethodsInherited',\n",
            "       'numberOfPrivateAttributes', 'numberOfPrivateMethods',\n",
            "       'numberOfPublicAttributes', 'numberOfPublicMethods', 'rfc', 'wmc',\n",
            "       'bugs'],\n",
            "      dtype='object')\n",
            "Index(['classname', 'numberOfBugsFoundUntil:',\n",
            "       'numberOfNonTrivialBugsFoundUntil:', 'numberOfMajorBugsFoundUntil:',\n",
            "       'numberOfCriticalBugsFoundUntil:',\n",
            "       'numberOfHighPriorityBugsFoundUntil:', 'bugs',\n",
            "       ' numberOfVersionsUntil: ', ' numberOfFixesUntil: ',\n",
            "       ' numberOfRefactoringsUntil: ', ' numberOfAuthorsUntil: ',\n",
            "       ' linesAddedUntil: ', ' maxLinesAddedUntil: ', ' avgLinesAddedUntil: ',\n",
            "       ' linesRemovedUntil: ', ' maxLinesRemovedUntil: ',\n",
            "       ' avgLinesRemovedUntil: ', ' codeChurnUntil: ', ' maxCodeChurnUntil: ',\n",
            "       ' avgCodeChurnUntil: ', ' ageWithRespectTo: ',\n",
            "       'weightedAgeWithRespectTo:'],\n",
            "      dtype='object')\n"
          ]
        }
      ]
    },
    {
      "cell_type": "code",
      "metadata": {
        "colab": {
          "base_uri": "https://localhost:8080/"
        },
        "id": "f02a8790",
        "outputId": "b19ae6c5-2b2f-4221-85d0-d579da4a8aa4"
      },
      "source": [
        "df.head()\n",
        "print(df.columns)"
      ],
      "id": "f02a8790",
      "execution_count": 5,
      "outputs": [
        {
          "output_type": "stream",
          "name": "stdout",
          "text": [
            "Index(['classname', 'numberOfBugsFoundUntil:',\n",
            "       'numberOfNonTrivialBugsFoundUntil:', 'numberOfMajorBugsFoundUntil:',\n",
            "       'numberOfCriticalBugsFoundUntil:',\n",
            "       'numberOfHighPriorityBugsFoundUntil:', 'bugs',\n",
            "       ' numberOfVersionsUntil: ', ' numberOfFixesUntil: ',\n",
            "       ' numberOfRefactoringsUntil: ', ' numberOfAuthorsUntil: ',\n",
            "       ' linesAddedUntil: ', ' maxLinesAddedUntil: ', ' avgLinesAddedUntil: ',\n",
            "       ' linesRemovedUntil: ', ' maxLinesRemovedUntil: ',\n",
            "       ' avgLinesRemovedUntil: ', ' codeChurnUntil: ', ' maxCodeChurnUntil: ',\n",
            "       ' avgCodeChurnUntil: ', ' ageWithRespectTo: ',\n",
            "       'weightedAgeWithRespectTo:', 'cbo ', 'dit', 'fanIn', 'fanOut', 'lcom',\n",
            "       'noc', 'numberOfAttributes', 'numberOfAttributesInherited',\n",
            "       'numberOfLinesOfCode', 'numberOfMethods', 'numberOfMethodsInherited',\n",
            "       'numberOfPrivateAttributes', 'numberOfPrivateMethods',\n",
            "       'numberOfPublicAttributes', 'numberOfPublicMethods', 'rfc', 'wmc'],\n",
            "      dtype='object')\n"
          ]
        }
      ]
    },
    {
      "cell_type": "code",
      "metadata": {
        "colab": {
          "base_uri": "https://localhost:8080/"
        },
        "id": "ded40597",
        "outputId": "79204ae1-0016-4b04-ebe8-9cea24a4841b"
      },
      "source": [
        "df4 = pd.read_csv('complexity-code-change.csv')\n",
        "print(df4.columns)"
      ],
      "id": "ded40597",
      "execution_count": 6,
      "outputs": [
        {
          "output_type": "stream",
          "name": "stdout",
          "text": [
            "Index(['classname', 'CvsEntropy', 'CvsWEntropy', 'CvsLinEntropy',\n",
            "       'CvsLogEntropy', 'CvsExpEntropy'],\n",
            "      dtype='object')\n"
          ]
        }
      ]
    },
    {
      "cell_type": "code",
      "metadata": {
        "scrolled": true,
        "colab": {
          "base_uri": "https://localhost:8080/"
        },
        "id": "abf0818c",
        "outputId": "c88a9a6d-169e-4a3c-eb3e-567b5f4a1704"
      },
      "source": [
        "df = pd.merge(df, df4, on='classname')\n",
        "print(df.columns)"
      ],
      "id": "abf0818c",
      "execution_count": 7,
      "outputs": [
        {
          "output_type": "stream",
          "name": "stdout",
          "text": [
            "Index(['classname', 'numberOfBugsFoundUntil:',\n",
            "       'numberOfNonTrivialBugsFoundUntil:', 'numberOfMajorBugsFoundUntil:',\n",
            "       'numberOfCriticalBugsFoundUntil:',\n",
            "       'numberOfHighPriorityBugsFoundUntil:', 'bugs',\n",
            "       ' numberOfVersionsUntil: ', ' numberOfFixesUntil: ',\n",
            "       ' numberOfRefactoringsUntil: ', ' numberOfAuthorsUntil: ',\n",
            "       ' linesAddedUntil: ', ' maxLinesAddedUntil: ', ' avgLinesAddedUntil: ',\n",
            "       ' linesRemovedUntil: ', ' maxLinesRemovedUntil: ',\n",
            "       ' avgLinesRemovedUntil: ', ' codeChurnUntil: ', ' maxCodeChurnUntil: ',\n",
            "       ' avgCodeChurnUntil: ', ' ageWithRespectTo: ',\n",
            "       'weightedAgeWithRespectTo:', 'cbo ', 'dit', 'fanIn', 'fanOut', 'lcom',\n",
            "       'noc', 'numberOfAttributes', 'numberOfAttributesInherited',\n",
            "       'numberOfLinesOfCode', 'numberOfMethods', 'numberOfMethodsInherited',\n",
            "       'numberOfPrivateAttributes', 'numberOfPrivateMethods',\n",
            "       'numberOfPublicAttributes', 'numberOfPublicMethods', 'rfc', 'wmc',\n",
            "       'CvsEntropy', 'CvsWEntropy', 'CvsLinEntropy', 'CvsLogEntropy',\n",
            "       'CvsExpEntropy'],\n",
            "      dtype='object')\n"
          ]
        }
      ]
    },
    {
      "cell_type": "code",
      "metadata": {
        "id": "4b8b0d4b"
      },
      "source": [
        "from sklearn.preprocessing import MinMaxScaler\n",
        "\n",
        "# --> Debugging statements\n",
        "\n",
        "from sklearn.model_selection import train_test_split\n",
        "##print(df.columns)\n",
        "\n",
        "# classname has no use and the unnamed column was created due to a wrongly placed space\n",
        "# will clear it in the future\n",
        "df = df.drop(columns=['classname'])\n",
        "\n",
        "##print(df.dtypes)\n",
        "df.dropna()\n",
        "\n",
        "#Removing the actual bug count column to extract the metrics\n",
        "X = df.loc[:, df.columns != 'bugs']\n",
        "Y = df['bugs']\n",
        "\n",
        "##print(X.dtypes)\n",
        "\n",
        "X = X.apply(pd.to_numeric)\n",
        "##print(X.head())\n",
        "X_asDF = X\n",
        "\n",
        "# Feature Scaling\n",
        "scaler = MinMaxScaler()\n",
        "X = scaler.fit_transform(X)\n",
        "\n",
        "Y = [(float(i)-min(Y))/(max(Y)-min(Y)) for i in Y]"
      ],
      "id": "4b8b0d4b",
      "execution_count": 8,
      "outputs": []
    },
    {
      "cell_type": "code",
      "metadata": {
        "scrolled": false,
        "colab": {
          "base_uri": "https://localhost:8080/"
        },
        "id": "470fe138",
        "outputId": "15334270-9d34-4170-e490-ec1d6b7648ca"
      },
      "source": [
        "X_train, X_test, Y_train, Y_test = train_test_split(X, Y, test_size=0.2, random_state=1)\n",
        "feature_scores = {}\n",
        "r_scores = []\n",
        "\n",
        "from sklearn.linear_model import LinearRegression\n",
        "import operator\n",
        "\n",
        "reg = LinearRegression()\n",
        "\n",
        "for i in range(X_train.shape[1]):\n",
        "    reg.fit(X_train[:,i].reshape(-1,1),Y_train)\n",
        "    feature_scores[i] = reg.score(X_train[:,i].reshape(-1,1),Y_train)\n",
        "\n",
        "sorted_feature_scores = dict( sorted(feature_scores.items(), key=operator.itemgetter(1),reverse=True))\n",
        "\n",
        "\n",
        "dict_items = sorted_feature_scores.items()\n",
        "\n",
        "top_n_metrics = list(dict_items)[:5]\n",
        "#print(top_n_metrics)\n",
        "#print(X_asDF.columns[top_n_metrics[0][0]])\n",
        "\n",
        "list_keys = [x[0] for x in top_n_metrics]\n",
        "#print(list_keys)\n",
        "X_train_for_multiple  = X_train[:,list_keys]\n",
        "X_test_for_multiple = X_test[:,list_keys]\n",
        "reg.fit(X_train_for_multiple, Y_train)\n",
        "\n",
        "rU = reg.score(X_train_for_multiple, Y_train)\n",
        "print(rU)"
      ],
      "id": "470fe138",
      "execution_count": 9,
      "outputs": [
        {
          "output_type": "stream",
          "name": "stdout",
          "text": [
            "0.5490264761576464\n"
          ]
        }
      ]
    },
    {
      "cell_type": "code",
      "metadata": {
        "colab": {
          "base_uri": "https://localhost:8080/"
        },
        "id": "d767d366",
        "outputId": "d3108e25-9be8-4f49-818a-3611bd05622a"
      },
      "source": [
        "d = []\n",
        "for i in list_keys:\n",
        "    remaining_features = [j for j in list_keys if j != i ]\n",
        "    X_train_remaining = X_train[:,remaining_features]\n",
        "    # X_test_remaining = X_test[:,remaining_features]\n",
        "    reg.fit(X_train_remaining, Y_train)\n",
        "    train_score = reg.score(X_train_remaining, Y_train)\n",
        "    print(train_score)\n",
        "    d.append(rU-train_score)"
      ],
      "id": "d767d366",
      "execution_count": 10,
      "outputs": [
        {
          "output_type": "stream",
          "name": "stdout",
          "text": [
            "0.5404712079771785\n",
            "0.5421514586147131\n",
            "0.5458549186309056\n",
            "0.5487521962280311\n",
            "0.5462662534821191\n"
          ]
        }
      ]
    },
    {
      "cell_type": "code",
      "metadata": {
        "colab": {
          "base_uri": "https://localhost:8080/"
        },
        "id": "44d5e35c",
        "outputId": "f87bbd64-d269-4cb3-88fe-fa3b89c70a85"
      },
      "source": [
        "norm_d = [(float(i)-min(d))/(max(d)-min(d)) for i in d]\n",
        "print(norm_d)\n",
        "#Weights should be mapped to elements in the list_keys\n",
        "#norm_d are the normalized weights of the n metrics\n",
        "\n",
        "Y_pred = []\n",
        "\n",
        "#print(list_keys)\n",
        "for features_test in X_test:\n",
        "    tot = 0\n",
        "    for (i, wt) in zip(list_keys, norm_d):\n",
        "        tot = tot + features_test[i] * wt\n",
        "    Y_pred.append(tot)\n",
        "    \n",
        "  "
      ],
      "id": "44d5e35c",
      "execution_count": 11,
      "outputs": [
        {
          "output_type": "stream",
          "name": "stdout",
          "text": [
            "[1.0, 0.7970953965112021, 0.3498709947846084, 0.0, 0.3001988012307622]\n"
          ]
        }
      ]
    },
    {
      "cell_type": "code",
      "metadata": {
        "colab": {
          "base_uri": "https://localhost:8080/"
        },
        "id": "09993170",
        "outputId": "e6508c53-8a6e-47fa-f61a-d53e585ac1b0"
      },
      "source": [
        "## The paper doesn't mention normalising again but some values don't lie in the range of 0 to 1\n",
        "## Hence normalising again\n",
        "Y_pred = [(float(i)-min(Y_pred))/(max(Y_pred)-min(Y_pred)) for i in Y_pred]\n",
        "Y_pred_final = [round(i,4) for i in Y_pred]\n",
        "Y_test_final = [round(i,4) for i in Y_test]\n",
        "for(predicted, actual) in zip(Y_pred_final, Y_test_final):\n",
        "    print(f\"{predicted} - {actual}\") \n",
        "    print()"
      ],
      "id": "09993170",
      "execution_count": 12,
      "outputs": [
        {
          "output_type": "stream",
          "name": "stdout",
          "text": [
            "0.5328 - 0.1111\n",
            "\n",
            "0.0169 - 0.0\n",
            "\n",
            "0.185 - 0.0\n",
            "\n",
            "0.0 - 0.0\n",
            "\n",
            "0.0128 - 0.0\n",
            "\n",
            "0.0006 - 0.0\n",
            "\n",
            "0.0047 - 0.0\n",
            "\n",
            "0.0874 - 0.1111\n",
            "\n",
            "0.0024 - 0.0\n",
            "\n",
            "0.0349 - 0.0\n",
            "\n",
            "0.0071 - 0.0\n",
            "\n",
            "0.0196 - 0.0\n",
            "\n",
            "0.0 - 0.1111\n",
            "\n",
            "0.0 - 0.0\n",
            "\n",
            "0.0131 - 0.0\n",
            "\n",
            "0.0071 - 0.1111\n",
            "\n",
            "0.0172 - 0.0\n",
            "\n",
            "0.0101 - 0.0\n",
            "\n",
            "0.0508 - 0.0\n",
            "\n",
            "0.0 - 0.0\n",
            "\n",
            "0.0024 - 0.0\n",
            "\n",
            "0.0192 - 0.0\n",
            "\n",
            "0.0573 - 0.2222\n",
            "\n",
            "0.0024 - 0.0\n",
            "\n",
            "0.0139 - 0.0\n",
            "\n",
            "0.0 - 0.0\n",
            "\n",
            "0.0406 - 0.0\n",
            "\n",
            "0.1552 - 0.0\n",
            "\n",
            "0.0024 - 0.0\n",
            "\n",
            "0.0965 - 0.0\n",
            "\n",
            "0.0 - 0.0\n",
            "\n",
            "0.0024 - 0.0\n",
            "\n",
            "0.0144 - 0.0\n",
            "\n",
            "0.0518 - 0.0\n",
            "\n",
            "0.1261 - 0.0\n",
            "\n",
            "0.0213 - 0.0\n",
            "\n",
            "0.0077 - 0.0\n",
            "\n",
            "0.0342 - 0.0\n",
            "\n",
            "0.0024 - 0.0\n",
            "\n",
            "0.0 - 0.0\n",
            "\n",
            "0.0 - 0.2222\n",
            "\n",
            "0.0231 - 0.0\n",
            "\n",
            "0.1525 - 0.0\n",
            "\n",
            "0.0676 - 0.0\n",
            "\n",
            "0.1014 - 0.0\n",
            "\n",
            "0.0102 - 0.0\n",
            "\n",
            "0.1016 - 0.1111\n",
            "\n",
            "0.032 - 0.0\n",
            "\n",
            "0.277 - 0.4444\n",
            "\n",
            "0.1871 - 0.4444\n",
            "\n",
            "0.0238 - 0.1111\n",
            "\n",
            "0.0359 - 0.1111\n",
            "\n",
            "0.0071 - 0.0\n",
            "\n",
            "0.0 - 0.0\n",
            "\n",
            "0.0179 - 0.0\n",
            "\n",
            "0.0449 - 0.0\n",
            "\n",
            "0.0 - 0.0\n",
            "\n",
            "0.0439 - 0.0\n",
            "\n",
            "0.0125 - 0.1111\n",
            "\n",
            "0.1912 - 0.2222\n",
            "\n",
            "0.0 - 0.0\n",
            "\n",
            "0.1995 - 0.5556\n",
            "\n",
            "0.0366 - 0.0\n",
            "\n",
            "0.0 - 0.0\n",
            "\n",
            "0.0256 - 0.0\n",
            "\n",
            "0.4213 - 0.1111\n",
            "\n",
            "0.0136 - 0.0\n",
            "\n",
            "0.0095 - 0.0\n",
            "\n",
            "0.0 - 0.0\n",
            "\n",
            "0.0047 - 0.0\n",
            "\n",
            "0.106 - 0.1111\n",
            "\n",
            "0.0663 - 0.0\n",
            "\n",
            "0.3281 - 0.3333\n",
            "\n",
            "0.0024 - 0.0\n",
            "\n",
            "0.0 - 0.0\n",
            "\n",
            "0.0 - 0.0\n",
            "\n",
            "0.0 - 0.1111\n",
            "\n",
            "0.1445 - 0.1111\n",
            "\n",
            "0.0172 - 0.0\n",
            "\n",
            "0.008 - 0.1111\n",
            "\n",
            "0.0172 - 0.0\n",
            "\n",
            "0.058 - 0.0\n",
            "\n",
            "0.0351 - 0.0\n",
            "\n",
            "0.0314 - 0.0\n",
            "\n",
            "0.0378 - 0.0\n",
            "\n",
            "0.0312 - 0.0\n",
            "\n",
            "0.2194 - 0.0\n",
            "\n",
            "0.0172 - 0.0\n",
            "\n",
            "0.0162 - 0.0\n",
            "\n",
            "0.0 - 0.0\n",
            "\n",
            "0.0299 - 0.0\n",
            "\n",
            "0.0024 - 0.0\n",
            "\n",
            "0.0042 - 0.0\n",
            "\n",
            "0.0125 - 0.0\n",
            "\n",
            "0.0496 - 0.0\n",
            "\n",
            "0.0121 - 0.0\n",
            "\n",
            "0.0077 - 0.0\n",
            "\n",
            "0.0006 - 0.0\n",
            "\n",
            "0.1186 - 0.2222\n",
            "\n",
            "0.1599 - 0.1111\n",
            "\n",
            "0.0006 - 0.0\n",
            "\n",
            "0.0517 - 0.0\n",
            "\n",
            "0.1166 - 0.0\n",
            "\n",
            "0.0125 - 0.0\n",
            "\n",
            "0.0283 - 0.0\n",
            "\n",
            "0.0024 - 0.1111\n",
            "\n",
            "0.0024 - 0.0\n",
            "\n",
            "0.0446 - 0.2222\n",
            "\n",
            "0.0134 - 0.0\n",
            "\n",
            "0.0102 - 0.0\n",
            "\n",
            "0.0828 - 0.0\n",
            "\n",
            "0.1146 - 0.1111\n",
            "\n",
            "0.0887 - 0.0\n",
            "\n",
            "0.0024 - 0.0\n",
            "\n",
            "0.0024 - 0.0\n",
            "\n",
            "0.1229 - 0.1111\n",
            "\n",
            "0.0 - 0.0\n",
            "\n",
            "0.0102 - 0.0\n",
            "\n",
            "0.0106 - 0.0\n",
            "\n",
            "0.0334 - 0.0\n",
            "\n",
            "0.0024 - 0.0\n",
            "\n",
            "0.0188 - 0.0\n",
            "\n",
            "0.0182 - 0.0\n",
            "\n",
            "0.0684 - 0.2222\n",
            "\n",
            "0.0398 - 0.0\n",
            "\n",
            "0.011 - 0.1111\n",
            "\n",
            "0.005 - 0.0\n",
            "\n",
            "0.0719 - 0.0\n",
            "\n",
            "0.009 - 0.0\n",
            "\n",
            "0.0111 - 0.0\n",
            "\n",
            "0.113 - 0.2222\n",
            "\n",
            "0.0164 - 0.0\n",
            "\n",
            "0.0169 - 0.0\n",
            "\n",
            "0.3009 - 0.1111\n",
            "\n",
            "0.0088 - 0.0\n",
            "\n",
            "0.0699 - 0.0\n",
            "\n",
            "0.0627 - 0.0\n",
            "\n",
            "0.0454 - 0.0\n",
            "\n",
            "0.0036 - 0.0\n",
            "\n",
            "0.0952 - 0.1111\n",
            "\n",
            "0.0229 - 0.1111\n",
            "\n",
            "0.0 - 0.0\n",
            "\n",
            "0.2608 - 0.0\n",
            "\n",
            "0.0024 - 0.0\n",
            "\n",
            "0.0092 - 0.0\n",
            "\n",
            "0.0359 - 0.0\n",
            "\n",
            "0.0 - 0.0\n",
            "\n",
            "0.0024 - 0.0\n",
            "\n",
            "0.0137 - 0.0\n",
            "\n",
            "0.0308 - 0.0\n",
            "\n",
            "0.0047 - 0.0\n",
            "\n",
            "0.0604 - 0.0\n",
            "\n",
            "0.0539 - 0.0\n",
            "\n",
            "0.0024 - 0.0\n",
            "\n",
            "0.0238 - 0.1111\n",
            "\n",
            "0.0064 - 0.0\n",
            "\n",
            "0.1478 - 0.0\n",
            "\n",
            "0.0196 - 0.0\n",
            "\n",
            "0.0522 - 0.2222\n",
            "\n",
            "0.0047 - 0.0\n",
            "\n",
            "0.0264 - 0.0\n",
            "\n",
            "0.0685 - 0.0\n",
            "\n",
            "0.0334 - 0.0\n",
            "\n",
            "0.0047 - 0.0\n",
            "\n",
            "0.0135 - 0.0\n",
            "\n",
            "0.0071 - 0.0\n",
            "\n",
            "0.0612 - 0.0\n",
            "\n",
            "0.0908 - 0.0\n",
            "\n",
            "0.3781 - 0.4444\n",
            "\n",
            "0.044 - 0.0\n",
            "\n",
            "0.0997 - 0.0\n",
            "\n",
            "0.028 - 0.0\n",
            "\n",
            "0.006 - 0.0\n",
            "\n",
            "0.268 - 0.1111\n",
            "\n",
            "1.0 - 0.7778\n",
            "\n",
            "0.0 - 0.0\n",
            "\n",
            "0.0024 - 0.0\n",
            "\n",
            "0.0393 - 0.0\n",
            "\n",
            "0.037 - 0.0\n",
            "\n",
            "0.0 - 0.0\n",
            "\n",
            "0.0047 - 0.0\n",
            "\n",
            "0.4019 - 0.6667\n",
            "\n",
            "0.0097 - 0.0\n",
            "\n",
            "0.0148 - 0.0\n",
            "\n",
            "0.0453 - 0.0\n",
            "\n",
            "0.1097 - 0.0\n",
            "\n",
            "0.0144 - 0.0\n",
            "\n",
            "0.0452 - 0.0\n",
            "\n",
            "0.0232 - 0.0\n",
            "\n",
            "0.0225 - 0.0\n",
            "\n",
            "0.0069 - 0.0\n",
            "\n",
            "0.0 - 0.0\n",
            "\n",
            "0.0379 - 0.0\n",
            "\n",
            "0.0243 - 0.0\n",
            "\n",
            "0.1895 - 0.3333\n",
            "\n",
            "0.0054 - 0.0\n",
            "\n",
            "0.0772 - 0.0\n",
            "\n",
            "0.1258 - 0.3333\n",
            "\n",
            "0.0101 - 0.0\n",
            "\n",
            "0.1648 - 0.1111\n",
            "\n"
          ]
        }
      ]
    },
    {
      "cell_type": "code",
      "metadata": {
        "colab": {
          "base_uri": "https://localhost:8080/"
        },
        "id": "6fbabc7b",
        "outputId": "73e43add-3842-4b57-9e17-595974c0993f"
      },
      "source": [
        "## For comparison and visualization \n",
        "# For Linear\n",
        "print(Y_pred[:5])"
      ],
      "id": "6fbabc7b",
      "execution_count": 13,
      "outputs": [
        {
          "output_type": "stream",
          "name": "stdout",
          "text": [
            "[0.5327692852842286, 0.016902332412571705, 0.18495033531538785, 0.0, 0.012806328811375573]\n"
          ]
        }
      ]
    },
    {
      "cell_type": "code",
      "metadata": {
        "colab": {
          "base_uri": "https://localhost:8080/"
        },
        "id": "74c69a6d",
        "outputId": "34d7c695-c438-488a-ebf1-52dcf47073a1"
      },
      "source": [
        "print(set(Y_test_final))"
      ],
      "id": "74c69a6d",
      "execution_count": 17,
      "outputs": [
        {
          "output_type": "stream",
          "name": "stdout",
          "text": [
            "{0.1111, 0.0, 0.4444, 0.5556, 0.2222, 0.3333, 0.7778, 0.6667}\n"
          ]
        }
      ]
    },
    {
      "cell_type": "code",
      "metadata": {
        "colab": {
          "base_uri": "https://localhost:8080/"
        },
        "id": "u2g79UOT-AKy",
        "outputId": "4b82173c-9501-4d0d-9e73-d7eef5e0f18f"
      },
      "source": [
        "a=[]\n",
        "for i in Y_test_final:\n",
        "  if i>0.08:\n",
        "    a.append(1)\n",
        "  else:\n",
        "    a.append(0)\n",
        "print(a)"
      ],
      "id": "u2g79UOT-AKy",
      "execution_count": 47,
      "outputs": [
        {
          "output_type": "stream",
          "name": "stdout",
          "text": [
            "[1, 0, 0, 0, 0, 0, 0, 1, 0, 0, 0, 0, 1, 0, 0, 1, 0, 0, 0, 0, 0, 0, 1, 0, 0, 0, 0, 0, 0, 0, 0, 0, 0, 0, 0, 0, 0, 0, 0, 0, 1, 0, 0, 0, 0, 0, 1, 0, 1, 1, 1, 1, 0, 0, 0, 0, 0, 0, 1, 1, 0, 1, 0, 0, 0, 1, 0, 0, 0, 0, 1, 0, 1, 0, 0, 0, 1, 1, 0, 1, 0, 0, 0, 0, 0, 0, 0, 0, 0, 0, 0, 0, 0, 0, 0, 0, 0, 0, 1, 1, 0, 0, 0, 0, 0, 1, 0, 1, 0, 0, 0, 1, 0, 0, 0, 1, 0, 0, 0, 0, 0, 0, 0, 1, 0, 1, 0, 0, 0, 0, 1, 0, 0, 1, 0, 0, 0, 0, 0, 1, 1, 0, 0, 0, 0, 0, 0, 0, 0, 0, 0, 0, 0, 0, 1, 0, 0, 0, 1, 0, 0, 0, 0, 0, 0, 0, 0, 0, 1, 0, 0, 0, 0, 1, 1, 0, 0, 0, 0, 0, 0, 1, 0, 0, 0, 0, 0, 0, 0, 0, 0, 0, 0, 0, 1, 0, 0, 1, 0, 1]\n"
          ]
        }
      ]
    },
    {
      "cell_type": "code",
      "metadata": {
        "colab": {
          "base_uri": "https://localhost:8080/"
        },
        "id": "-LXFwv_A_rct",
        "outputId": "3a728221-ee10-4aa5-f188-a2b17606df17"
      },
      "source": [
        "print(set(Y_pred_final))"
      ],
      "id": "-LXFwv_A_rct",
      "execution_count": 21,
      "outputs": [
        {
          "output_type": "stream",
          "name": "stdout",
          "text": [
            "{0.0, 0.1552, 0.0887, 0.1995, 0.0101, 0.4213, 0.0121, 0.0685, 0.268, 1.0, 0.0162, 0.0283, 0.0182, 0.0243, 0.0102, 0.0828, 0.113, 0.0908, 0.0042, 0.0264, 0.0446, 0.0406, 0.0627, 0.0144, 0.0164, 0.0366, 0.0225, 0.0064, 0.0508, 0.0024, 0.0125, 0.1599, 0.3009, 0.0952, 0.2608, 0.0106, 0.1478, 0.4019, 0.0449, 0.0308, 0.0006, 0.0349, 0.1014, 0.0772, 0.0188, 0.0047, 0.0612, 0.037, 0.0148, 0.0128, 0.0229, 0.0088, 0.0169, 0.0874, 0.1016, 0.1258, 0.0573, 0.0351, 0.0452, 0.0069, 0.0997, 0.1097, 0.0231, 0.011, 0.009, 0.0312, 0.0453, 0.005, 0.5328, 0.0131, 0.1261, 0.0676, 0.277, 0.0111, 0.3781, 0.0393, 0.0192, 0.0232, 0.0071, 0.0172, 0.0454, 0.0213, 0.106, 0.0314, 0.0334, 0.0092, 0.0496, 0.1445, 0.1525, 0.0134, 0.0517, 0.1895, 0.0054, 0.0518, 0.0719, 0.0699, 0.0135, 0.0256, 0.0095, 0.0196, 0.0136, 0.185, 0.1871, 0.3281, 0.0378, 0.0398, 0.0539, 0.1648, 0.0439, 0.058, 0.0036, 0.0137, 0.1166, 0.0238, 0.0359, 0.1146, 0.0077, 0.1186, 0.044, 0.0097, 0.0299, 0.0379, 0.1912, 0.2194, 0.0663, 0.0965, 0.032, 0.0179, 0.0139, 0.028, 0.0522, 0.1229, 0.0684, 0.0342, 0.008, 0.0604, 0.006}\n"
          ]
        }
      ]
    },
    {
      "cell_type": "code",
      "metadata": {
        "colab": {
          "base_uri": "https://localhost:8080/"
        },
        "id": "f6Hn0CSRAFb5",
        "outputId": "140ad4f9-163a-4c0f-c885-231f82f2649b"
      },
      "source": [
        "b=[]\n",
        "for i in Y_pred_final:\n",
        "  if i>0.08:\n",
        "    b.append(1)\n",
        "  else:\n",
        "    b.append(0)\n",
        "print(b)"
      ],
      "id": "f6Hn0CSRAFb5",
      "execution_count": 48,
      "outputs": [
        {
          "output_type": "stream",
          "name": "stdout",
          "text": [
            "[1, 0, 1, 0, 0, 0, 0, 1, 0, 0, 0, 0, 0, 0, 0, 0, 0, 0, 0, 0, 0, 0, 0, 0, 0, 0, 0, 1, 0, 1, 0, 0, 0, 0, 1, 0, 0, 0, 0, 0, 0, 0, 1, 0, 1, 0, 1, 0, 1, 1, 0, 0, 0, 0, 0, 0, 0, 0, 0, 1, 0, 1, 0, 0, 0, 1, 0, 0, 0, 0, 1, 0, 1, 0, 0, 0, 0, 1, 0, 0, 0, 0, 0, 0, 0, 0, 1, 0, 0, 0, 0, 0, 0, 0, 0, 0, 0, 0, 1, 1, 0, 0, 1, 0, 0, 0, 0, 0, 0, 0, 1, 1, 1, 0, 0, 1, 0, 0, 0, 0, 0, 0, 0, 0, 0, 0, 0, 0, 0, 0, 1, 0, 0, 1, 0, 0, 0, 0, 0, 1, 0, 0, 1, 0, 0, 0, 0, 0, 0, 0, 0, 0, 0, 0, 0, 0, 1, 0, 0, 0, 0, 0, 0, 0, 0, 0, 0, 1, 1, 0, 1, 0, 0, 1, 1, 0, 0, 0, 0, 0, 0, 1, 0, 0, 0, 1, 0, 0, 0, 0, 0, 0, 0, 0, 1, 0, 0, 1, 0, 1]\n"
          ]
        }
      ]
    },
    {
      "cell_type": "code",
      "metadata": {
        "colab": {
          "base_uri": "https://localhost:8080/"
        },
        "id": "-lFBNLHwARZJ",
        "outputId": "7dde9039-4f41-4003-abfb-96127e587066"
      },
      "source": [
        "from sklearn.metrics import classification_report\n",
        "print(classification_report(a,b))"
      ],
      "id": "-lFBNLHwARZJ",
      "execution_count": 49,
      "outputs": [
        {
          "output_type": "stream",
          "name": "stdout",
          "text": [
            "              precision    recall  f1-score   support\n",
            "\n",
            "           0       0.90      0.91      0.90       159\n",
            "           1       0.62      0.61      0.62        41\n",
            "\n",
            "    accuracy                           0.84       200\n",
            "   macro avg       0.76      0.76      0.76       200\n",
            "weighted avg       0.84      0.84      0.84       200\n",
            "\n"
          ]
        }
      ]
    },
    {
      "cell_type": "code",
      "metadata": {
        "id": "CIXeKlpHBmLR"
      },
      "source": [
        "reg.fit(X_train,Y_train)\n",
        "print(\"coeff of det\",reg.score(X_train,Y_train))\n",
        "print(\"int\",reg.intercept_)"
      ],
      "id": "CIXeKlpHBmLR",
      "execution_count": null,
      "outputs": []
    }
  ]
}