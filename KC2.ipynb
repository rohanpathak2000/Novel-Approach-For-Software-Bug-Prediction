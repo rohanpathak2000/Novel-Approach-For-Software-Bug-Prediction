{
 "cells": [
  {
   "cell_type": "code",
   "execution_count": 1,
   "id": "f05cc379",
   "metadata": {},
   "outputs": [],
   "source": [
    "import pandas as pd\n",
    "import numpy as np \n",
    "from sklearn.preprocessing import MinMaxScaler\n",
    "from sklearn.model_selection import train_test_split"
   ]
  },
  {
   "cell_type": "markdown",
   "id": "01158b77",
   "metadata": {},
   "source": [
    "### Merging different sets of metrics in one dataframe"
   ]
  },
  {
   "cell_type": "code",
   "execution_count": 2,
   "id": "e3557c0c",
   "metadata": {},
   "outputs": [],
   "source": [
    "def classification(to_convert):\n",
    "    final_list=[]\n",
    "    for i in to_convert:\n",
    "        if i>0.08:\n",
    "            final_list.append(1)\n",
    "        else:\n",
    "            final_list.append(0)\n",
    "    return final_list"
   ]
  },
  {
   "cell_type": "markdown",
   "id": "d8b92f69",
   "metadata": {},
   "source": [
    "### Separating features and target and feature scaling"
   ]
  },
  {
   "cell_type": "code",
   "execution_count": 3,
   "id": "07680ca5",
   "metadata": {},
   "outputs": [],
   "source": [
    "df = pd.read_csv('kc2.csv')\n",
    "from sklearn.preprocessing import LabelEncoder\n",
    "encoder = LabelEncoder()\n",
    "Y = df['problems']\n",
    "Y = encoder.fit_transform(Y)\n",
    "X = df.loc[:, df.columns != 'problems']\n",
    "\n",
    "X = X.apply(pd.to_numeric)\n",
    "##print(X.head())\n",
    "X_asDF = X\n",
    "\n",
    "# Feature Scaling\n",
    "scaler = MinMaxScaler()\n",
    "X = scaler.fit_transform(X)\n",
    "\n",
    "Y = [(float(i)-min(Y))/(max(Y)-min(Y)) for i in Y]\n"
   ]
  },
  {
   "cell_type": "markdown",
   "id": "7d54f1e5",
   "metadata": {},
   "source": [
    "### Extracting top 5 metrics and calculating Ru"
   ]
  },
  {
   "cell_type": "code",
   "execution_count": 4,
   "id": "bf2ddb4b",
   "metadata": {
    "scrolled": false
   },
   "outputs": [
    {
     "name": "stdout",
     "output_type": "stream",
     "text": [
      "[(16, 0.24582011884612776), (7, 0.243686553524181), (17, 0.22264726092325782), (8, 0.21341573940244818), (14, 0.16375149174512593)]\n",
      "Index(['uniq_Op', 'd', 'uniq_Opnd', 'i', 'lOBlank'], dtype='object')\n",
      "0.2763337042609625\n"
     ]
    }
   ],
   "source": [
    "X_train, X_test, Y_train, Y_test = train_test_split(X, Y, test_size=0.2, random_state=1)\n",
    "feature_scores = {}\n",
    "r_scores = []\n",
    "\n",
    "from sklearn.linear_model import LinearRegression\n",
    "import operator\n",
    "\n",
    "reg = LinearRegression()\n",
    "\n",
    "for i in range(X_train.shape[1]):\n",
    "    reg.fit(X_train[:,i].reshape(-1,1),Y_train)\n",
    "    feature_scores[i] = reg.score(X_train[:,i].reshape(-1,1),Y_train)\n",
    "\n",
    "sorted_feature_scores = dict(sorted(feature_scores.items(), key=operator.itemgetter(1),reverse=True))\n",
    "\n",
    "\n",
    "dict_items = sorted_feature_scores.items()\n",
    "\n",
    "top_n_metrics = list(dict_items)[:5]\n",
    "print(top_n_metrics)\n",
    "#print(X_asDF.columns[top_n_metrics[0][0]])\n",
    "\n",
    "list_keys = [x[0] for x in top_n_metrics]\n",
    "print(X_asDF.columns[list_keys])\n",
    "#print(list_keys)\n",
    "X_train_for_multiple  = X_train[:,list_keys]\n",
    "X_test_for_multiple  = X_test[:,list_keys]\n",
    "reg.fit(X_train_for_multiple, Y_train)\n",
    "\n",
    "rU = reg.score(X_train_for_multiple, Y_train)\n",
    "print(rU)"
   ]
  },
  {
   "cell_type": "markdown",
   "id": "1a591308",
   "metadata": {},
   "source": [
    "### Applying proposed algorithm with Polynomial Regression"
   ]
  },
  {
   "cell_type": "code",
   "execution_count": 7,
   "id": "6a25dbcf",
   "metadata": {},
   "outputs": [
    {
     "name": "stdout",
     "output_type": "stream",
     "text": [
      "0.5531120727134429\n"
     ]
    }
   ],
   "source": [
    "from sklearn.preprocessing import PolynomialFeatures\n",
    "poly = PolynomialFeatures(degree = 2)\n",
    "X_poly = poly.fit_transform(X)\n",
    "\n",
    "\n",
    "poly.fit(X_poly,Y)\n",
    "X_train, X_test, Y_train, Y_test = train_test_split(X_poly, Y, test_size=0.2, random_state=1)\n",
    "feature_scores = {}\n",
    "r_scores = []\n",
    "\n",
    "# Fitting Polynomial Regression to the dataset\n",
    "\n",
    "from sklearn.linear_model import LinearRegression, Lasso\n",
    "import operator\n",
    "\n",
    "reg = LinearRegression() \n",
    "for i in range(X_train.shape[1]):\n",
    "    reg.fit(X_train[:,i].reshape(-1,1),Y_train)\n",
    "    feature_scores[i] = reg.score(X_train[:,i].reshape(-1,1),Y_train)\n",
    "\n",
    "sorted_feature_scores = dict( sorted(feature_scores.items(), key=operator.itemgetter(1),reverse=True))\n",
    "\n",
    "\n",
    "dict_items = sorted_feature_scores.items()\n",
    "\n",
    "top_n_metrics = list(dict_items)[:5]\n",
    "#print(top_n_metrics)\n",
    "#print(X_asDF.columns[top_n_metrics[0][0]])\n",
    "\n",
    "list_keys = [x[0] for x in top_n_metrics]\n",
    "#print(list_keys)\n",
    "X_train_for_multiple  = X_train[:,list_keys]\n",
    "X_test_for_multiple  = X_test[:,list_keys]\n",
    "reg.fit(X_train_for_multiple, Y_train)\n",
    "\n",
    "rU = reg.score(X_train_for_multiple, Y_train)\n",
    "print(rU)"
   ]
  },
  {
   "cell_type": "markdown",
   "id": "a2f5e933",
   "metadata": {},
   "source": [
    "### Proposed Algorithm with Ridge Regression"
   ]
  },
  {
   "cell_type": "code",
   "execution_count": 8,
   "id": "2cc55115",
   "metadata": {},
   "outputs": [
    {
     "ename": "IndexError",
     "evalue": "index 926 is out of bounds for axis 1 with size 42",
     "output_type": "error",
     "traceback": [
      "\u001b[1;31m---------------------------------------------------------------------------\u001b[0m",
      "\u001b[1;31mIndexError\u001b[0m                                Traceback (most recent call last)",
      "\u001b[1;32m<ipython-input-8-2f180f25175b>\u001b[0m in \u001b[0;36m<module>\u001b[1;34m\u001b[0m\n\u001b[0;32m     21\u001b[0m \u001b[1;33m\u001b[0m\u001b[0m\n\u001b[0;32m     22\u001b[0m \u001b[0mX_train_for_multiple\u001b[0m  \u001b[1;33m=\u001b[0m \u001b[0mX_train\u001b[0m\u001b[1;33m[\u001b[0m\u001b[1;33m:\u001b[0m\u001b[1;33m,\u001b[0m\u001b[0mlist_keys\u001b[0m\u001b[1;33m]\u001b[0m\u001b[1;33m\u001b[0m\u001b[1;33m\u001b[0m\u001b[0m\n\u001b[1;32m---> 23\u001b[1;33m \u001b[0mX_for_proposed\u001b[0m \u001b[1;33m=\u001b[0m \u001b[0mX\u001b[0m\u001b[1;33m[\u001b[0m\u001b[1;33m:\u001b[0m\u001b[1;33m,\u001b[0m\u001b[0mlist_keys\u001b[0m\u001b[1;33m]\u001b[0m\u001b[1;33m\u001b[0m\u001b[1;33m\u001b[0m\u001b[0m\n\u001b[0m\u001b[0;32m     24\u001b[0m \u001b[0mX_test_for_multiple\u001b[0m  \u001b[1;33m=\u001b[0m \u001b[0mX_test\u001b[0m\u001b[1;33m[\u001b[0m\u001b[1;33m:\u001b[0m\u001b[1;33m,\u001b[0m\u001b[0mlist_keys\u001b[0m\u001b[1;33m]\u001b[0m\u001b[1;33m\u001b[0m\u001b[1;33m\u001b[0m\u001b[0m\n\u001b[0;32m     25\u001b[0m \u001b[0mreg\u001b[0m\u001b[1;33m.\u001b[0m\u001b[0mfit\u001b[0m\u001b[1;33m(\u001b[0m\u001b[0mX_train_for_multiple\u001b[0m\u001b[1;33m,\u001b[0m \u001b[0mY_train\u001b[0m\u001b[1;33m)\u001b[0m\u001b[1;33m\u001b[0m\u001b[1;33m\u001b[0m\u001b[0m\n",
      "\u001b[1;31mIndexError\u001b[0m: index 926 is out of bounds for axis 1 with size 42"
     ]
    }
   ],
   "source": [
    "feature_scores = {}\n",
    "r_scores = []\n",
    "\n",
    "# Fitting Polynomial Regression to the dataset\n",
    "\n",
    "from sklearn.linear_model import LinearRegression, Lasso, Ridge\n",
    "import operator\n",
    "\n",
    "reg = Ridge() \n",
    "for i in range(X_train.shape[1]):\n",
    "    reg.fit(X_train[:,i].reshape(-1,1),Y_train)\n",
    "    feature_scores[i] = reg.score(X_train[:,i].reshape(-1,1),Y_train)\n",
    "\n",
    "sorted_feature_scores = dict(sorted(feature_scores.items(), key=operator.itemgetter(1),reverse=True))\n",
    "\n",
    "dict_items = sorted_feature_scores.items()\n",
    "\n",
    "top_n_metrics = list(dict_items)[:5]\n",
    "\n",
    "list_keys = [x[0] for x in top_n_metrics]\n",
    "\n",
    "X_train_for_multiple  = X_train[:,list_keys]\n",
    "X_for_proposed = X[:,list_keys]\n",
    "X_test_for_multiple  = X_test[:,list_keys]\n",
    "reg.fit(X_train_for_multiple, Y_train)\n",
    "\n",
    "rU = reg.score(X_train_for_multiple, Y_train)\n",
    "print(rU)"
   ]
  },
  {
   "cell_type": "markdown",
   "id": "a4b1fd1f",
   "metadata": {},
   "source": [
    "### Calculating weights for the selected features"
   ]
  },
  {
   "cell_type": "code",
   "execution_count": 5,
   "id": "ffb6d8ef",
   "metadata": {},
   "outputs": [
    {
     "name": "stdout",
     "output_type": "stream",
     "text": [
      "0.2648459980210133\n",
      "0.2758572667733251\n",
      "0.27571469129573867\n",
      "0.2726177717764696\n",
      "0.27478772646868255\n"
     ]
    }
   ],
   "source": [
    "d = []\n",
    "for i in list_keys:\n",
    "    remaining_features = [j for j in list_keys if j != i ]\n",
    "    X_train_remaining = X_train[:,remaining_features]\n",
    "    X_test_remaining = X_test[:,remaining_features]\n",
    "    reg.fit(X_train_remaining, Y_train)\n",
    "    train_score = reg.score(X_train_remaining, Y_train)\n",
    "    print(train_score)\n",
    "    d.append(rU-train_score)"
   ]
  },
  {
   "cell_type": "markdown",
   "id": "bb0bcf9f",
   "metadata": {},
   "source": [
    "### Normalising weights for and predicting the bug proneness index"
   ]
  },
  {
   "cell_type": "code",
   "execution_count": 6,
   "id": "9ea56fd3",
   "metadata": {},
   "outputs": [
    {
     "name": "stdout",
     "output_type": "stream",
     "text": [
      "[1.0, 0.0, 0.012948142561366005, 0.294198159151765, 0.09713143223554654]\n"
     ]
    }
   ],
   "source": [
    "norm_d = [(float(i)-min(d))/(max(d)-min(d)) for i in d]\n",
    "print(norm_d)\n",
    "#Weights should be mapped to elements in the list_keys\n",
    "#norm_d are the normalized weights of the n metrics\n",
    "Y_pred = []\n",
    "for features_test in X_test:\n",
    "    tot = 0\n",
    "    for (i, wt) in zip(list_keys, norm_d):\n",
    "        tot = tot + features_test[i] * wt\n",
    "    Y_pred.append(tot)\n",
    "Y_pred = [(float(i)-min(Y_pred))/(max(Y_pred)-min(Y_pred)) for i in Y_pred]\n",
    "  "
   ]
  },
  {
   "cell_type": "markdown",
   "id": "a16e0b0a",
   "metadata": {},
   "source": [
    "### Printing the predicted and the actual target"
   ]
  },
  {
   "cell_type": "code",
   "execution_count": 7,
   "id": "04006f01",
   "metadata": {},
   "outputs": [
    {
     "data": {
      "text/plain": [
       "'\\nfor(predicted, actual) in zip(Y_pred_final, Y_test_final):\\n    print(f\"{predicted} - {actual}\") \\n    print()\\n'"
      ]
     },
     "execution_count": 7,
     "metadata": {},
     "output_type": "execute_result"
    }
   ],
   "source": [
    "## The paper doesn't mention normalising again but some values don't lie in the range of 0 to 1\n",
    "## Hence normalising again\n",
    "Y_pred = [(float(i)-min(Y_pred))/(max(Y_pred)-min(Y_pred)) for i in Y_pred]\n",
    "Y_pred_final = [round(i,4) for i in Y_pred]\n",
    "Y_test_final = [round(i,4) for i in Y_test]\n",
    "\n",
    "\"\"\"\n",
    "for(predicted, actual) in zip(Y_pred_final, Y_test_final):\n",
    "    print(f\"{predicted} - {actual}\") \n",
    "    print()\n",
    "\"\"\""
   ]
  },
  {
   "cell_type": "markdown",
   "id": "6f04ae94",
   "metadata": {},
   "source": [
    "## Function to classify bug count to 0 or 1"
   ]
  },
  {
   "cell_type": "code",
   "execution_count": 8,
   "id": "526e917c",
   "metadata": {},
   "outputs": [],
   "source": [
    "from imblearn.over_sampling import SMOTE\n",
    "Y_train_classified = classification(Y_train)\n",
    "Y_test_classified = classification(Y_test)\n",
    "Y_pred_classified=classification(Y_pred_final)"
   ]
  },
  {
   "cell_type": "code",
   "execution_count": 10,
   "id": "8406a42e",
   "metadata": {},
   "outputs": [
    {
     "data": {
      "text/plain": [
       "<matplotlib.collections.PathCollection at 0x1a1118151c0>"
      ]
     },
     "execution_count": 10,
     "metadata": {},
     "output_type": "execute_result"
    },
    {
     "data": {
      "image/png": "[encoded data removed]",
      "text/plain": [
       "<Figure size 432x288 with 1 Axes>"
      ]
     },
     "metadata": {
      "needs_background": "light"
     },
     "output_type": "display_data"
    }
   ],
   "source": [
    "# Plotting of simple linear regression model\n",
    "import matplotlib.pyplot as plt\n",
    "X_train_for_singlefeat = X_train[:,list_keys[0]]\n",
    "X_single_feat = X[:,list_keys[0]]\n",
    "X_single_feat_2d = X_single_feat.reshape(-1,1)\n",
    "X_test_for_singlefeat = X_test[:,list_keys[0]]\n",
    "X_train_for_singlefeat_2d = X_train_for_singlefeat.reshape(-1,1)\n",
    "reg.fit(X_train_for_singlefeat_2d,Y_train)\n",
    "X_test_for_singlefeat_2d = X_test_for_singlefeat.reshape(-1,1)\n",
    "Y_Predicted = reg.predict(X_test_for_singlefeat_2d)\n",
    "plt.xlabel(\"Actual Problem Index\")\n",
    "plt.ylabel(\"Predicted Problem index\")\n",
    "plt.scatter(Y_test_final,Y_Predicted)"
   ]
  },
  {
   "cell_type": "code",
   "execution_count": 11,
   "id": "2adcf73e",
   "metadata": {},
   "outputs": [
    {
     "data": {
      "text/plain": [
       "<matplotlib.collections.PathCollection at 0x1a111867d00>"
      ]
     },
     "execution_count": 11,
     "metadata": {},
     "output_type": "execute_result"
    },
    {
     "data": {
      "image/png": "[encoded data removed]",
      "text/plain": [
       "<Figure size 432x288 with 1 Axes>"
      ]
     },
     "metadata": {
      "needs_background": "light"
     },
     "output_type": "display_data"
    }
   ],
   "source": [
    "# Plotting of multiple linear regression\n",
    "\n",
    "reg.fit(X_train,Y_train)\n",
    "Y_Pred_multiplereg = reg.predict(X_test)\n",
    "plt.xlabel(\"Actual Problem Index\")\n",
    "plt.ylabel(\"Predicted Problem index\")\n",
    "plt.scatter(Y_test,Y_Pred_multiplereg)\n"
   ]
  },
  {
   "cell_type": "code",
   "execution_count": 13,
   "id": "1fbf5ec5",
   "metadata": {},
   "outputs": [
    {
     "data": {
      "text/plain": [
       "<matplotlib.collections.PathCollection at 0x1a111912ac0>"
      ]
     },
     "execution_count": 13,
     "metadata": {},
     "output_type": "execute_result"
    },
    {
     "data": {
      "image/png": "[encoded data removed]",
      "text/plain": [
       "<Figure size 432x288 with 1 Axes>"
      ]
     },
     "metadata": {
      "needs_background": "light"
     },
     "output_type": "display_data"
    }
   ],
   "source": [
    "# Plotting of prosposed model\n",
    "plt.xlabel(\"Actual Problem Index\")\n",
    "plt.ylabel(\"Predicted Problem index\")\n",
    "plt.scatter(Y_test_final,Y_pred_final)\n"
   ]
  },
  {
   "cell_type": "markdown",
   "id": "94b1d0b5",
   "metadata": {},
   "source": [
    "## Classificaton report for testing data\n",
    "### Simple Linear regression"
   ]
  },
  {
   "cell_type": "code",
   "execution_count": 14,
   "id": "59c6fbcf",
   "metadata": {},
   "outputs": [
    {
     "name": "stdout",
     "output_type": "stream",
     "text": [
      "Classification report : \n",
      "              precision    recall  f1-score   support\n",
      "\n",
      "           0       0.95      0.49      0.64        78\n",
      "           1       0.38      0.93      0.54        27\n",
      "\n",
      "    accuracy                           0.60       105\n",
      "   macro avg       0.67      0.71      0.59       105\n",
      "weighted avg       0.80      0.60      0.62       105\n",
      "\n"
     ]
    }
   ],
   "source": [
    "from sklearn.metrics import classification_report\n",
    "reg.fit(X_train_for_singlefeat_2d,Y_train)\n",
    "Y_pred_simple = reg.predict(X_test_for_singlefeat_2d)\n",
    "print(\"Classification report : \")\n",
    "print(classification_report(classification(Y_test), classification(Y_pred_simple)))"
   ]
  },
  {
   "cell_type": "markdown",
   "id": "10ec68df",
   "metadata": {},
   "source": [
    "### Multiple Linear regression"
   ]
  },
  {
   "cell_type": "code",
   "execution_count": 15,
   "id": "ca215fb8",
   "metadata": {},
   "outputs": [
    {
     "name": "stdout",
     "output_type": "stream",
     "text": [
      "Classification report : \n",
      "              precision    recall  f1-score   support\n",
      "\n",
      "           0       0.98      0.59      0.74        78\n",
      "           1       0.45      0.96      0.61        27\n",
      "\n",
      "    accuracy                           0.69       105\n",
      "   macro avg       0.71      0.78      0.67       105\n",
      "weighted avg       0.84      0.69      0.70       105\n",
      "\n"
     ]
    }
   ],
   "source": [
    "reg.fit(X_train,Y_train)\n",
    "Y_pred_multiple = reg.predict(X_test)\n",
    "print(\"Classification report : \")\n",
    "print(classification_report(classification(Y_test), classification(Y_pred_multiple)))"
   ]
  },
  {
   "cell_type": "markdown",
   "id": "91096144",
   "metadata": {},
   "source": [
    "### Proposed model"
   ]
  },
  {
   "cell_type": "code",
   "execution_count": 16,
   "id": "88785229",
   "metadata": {},
   "outputs": [
    {
     "name": "stdout",
     "output_type": "stream",
     "text": [
      "Classification report : \n",
      "              precision    recall  f1-score   support\n",
      "\n",
      "           0       1.00      0.32      0.49        78\n",
      "           1       0.34      1.00      0.50        27\n",
      "\n",
      "    accuracy                           0.50       105\n",
      "   macro avg       0.67      0.66      0.50       105\n",
      "weighted avg       0.83      0.50      0.49       105\n",
      "\n"
     ]
    }
   ],
   "source": [
    "Y_pred = []\n",
    "for features_test in X_test:\n",
    "    tot = 0\n",
    "    for (i, wt) in zip(list_keys, norm_d):\n",
    "        tot = tot + features_test[i] * wt\n",
    "    Y_pred.append(tot)\n",
    "Y_pred = [(float(i)-min(Y_pred))/(max(Y_pred)-min(Y_pred)) for i in Y_pred]\n",
    "print(\"Classification report : \")\n",
    "print(classification_report(classification(Y_test), classification(Y_pred)))"
   ]
  },
  {
   "cell_type": "code",
   "execution_count": 17,
   "id": "519f19f0",
   "metadata": {},
   "outputs": [],
   "source": [
    "# Accuracy - 3 \n",
    "# Precision - 3\n",
    "# Recall - 3\n",
    "# F measure - 3"
   ]
  },
  {
   "cell_type": "markdown",
   "id": "51685046",
   "metadata": {},
   "source": [
    "### Classification report for Training Data"
   ]
  },
  {
   "cell_type": "markdown",
   "id": "7bd2f656",
   "metadata": {},
   "source": [
    "### Simple Linear Regression"
   ]
  },
  {
   "cell_type": "code",
   "execution_count": 18,
   "id": "c7646191",
   "metadata": {},
   "outputs": [
    {
     "name": "stdout",
     "output_type": "stream",
     "text": [
      "Classification report : \n",
      "              precision    recall  f1-score   support\n",
      "\n",
      "           0       0.96      0.47      0.63       337\n",
      "           1       0.29      0.91      0.44        80\n",
      "\n",
      "    accuracy                           0.55       417\n",
      "   macro avg       0.62      0.69      0.53       417\n",
      "weighted avg       0.83      0.55      0.59       417\n",
      "\n"
     ]
    }
   ],
   "source": [
    "reg.fit(X_train_for_singlefeat_2d,Y_train)\n",
    "Y_pred_simple = reg.predict(X_train_for_singlefeat_2d)\n",
    "print(\"Classification report : \")\n",
    "print(classification_report(classification(Y_train), classification(Y_pred_simple)))"
   ]
  },
  {
   "cell_type": "markdown",
   "id": "94328e98",
   "metadata": {},
   "source": [
    "### Multiple Linear Regression"
   ]
  },
  {
   "cell_type": "code",
   "execution_count": 19,
   "id": "0d0c8d04",
   "metadata": {},
   "outputs": [
    {
     "name": "stdout",
     "output_type": "stream",
     "text": [
      "Classification report : \n",
      "              precision    recall  f1-score   support\n",
      "\n",
      "           0       0.96      0.58      0.72       337\n",
      "           1       0.33      0.90      0.49        80\n",
      "\n",
      "    accuracy                           0.64       417\n",
      "   macro avg       0.65      0.74      0.60       417\n",
      "weighted avg       0.84      0.64      0.68       417\n",
      "\n"
     ]
    }
   ],
   "source": [
    "reg.fit(X_train,Y_train)\n",
    "Y_pred_multiple = reg.predict(X_train)\n",
    "print(\"Classification report : \")\n",
    "print(classification_report(classification(Y_train), classification(Y_pred_multiple)))"
   ]
  },
  {
   "cell_type": "markdown",
   "id": "19afd29f",
   "metadata": {},
   "source": [
    "### Proposed Model"
   ]
  },
  {
   "cell_type": "code",
   "execution_count": 20,
   "id": "21505d18",
   "metadata": {},
   "outputs": [
    {
     "name": "stdout",
     "output_type": "stream",
     "text": [
      "Classification report : \n",
      "              precision    recall  f1-score   support\n",
      "\n",
      "           0       0.96      0.41      0.57       337\n",
      "           1       0.27      0.94      0.42        80\n",
      "\n",
      "    accuracy                           0.51       417\n",
      "   macro avg       0.62      0.67      0.50       417\n",
      "weighted avg       0.83      0.51      0.54       417\n",
      "\n"
     ]
    }
   ],
   "source": [
    "Y_pred = []\n",
    "for features_train in X_train:\n",
    "    tot = 0\n",
    "    for (i, wt) in zip(list_keys, norm_d):\n",
    "        tot = tot + features_train[i] * wt\n",
    "    Y_pred.append(tot)\n",
    "Y_pred = [(float(i)-min(Y_pred))/(max(Y_pred)-min(Y_pred)) for i in Y_pred]\n",
    "print(\"Classification report : \")\n",
    "print(classification_report(classification(Y_train), classification(Y_pred)))"
   ]
  },
  {
   "cell_type": "code",
   "execution_count": 21,
   "id": "01af423b",
   "metadata": {},
   "outputs": [],
   "source": [
    "# Accuracy - 2\n",
    "# Precision - 2\n",
    "# Recall - 2\n",
    "# F measure - 2"
   ]
  },
  {
   "cell_type": "markdown",
   "id": "ae67888d",
   "metadata": {},
   "source": [
    "### Classification Report for overall data"
   ]
  },
  {
   "cell_type": "markdown",
   "id": "40eaa910",
   "metadata": {},
   "source": [
    "### Simple Linear Regression"
   ]
  },
  {
   "cell_type": "code",
   "execution_count": 22,
   "id": "3ecf2bda",
   "metadata": {},
   "outputs": [
    {
     "name": "stdout",
     "output_type": "stream",
     "text": [
      "Classification report : \n",
      "              precision    recall  f1-score   support\n",
      "\n",
      "           0       0.96      0.47      0.63       415\n",
      "           1       0.31      0.92      0.46       107\n",
      "\n",
      "    accuracy                           0.56       522\n",
      "   macro avg       0.63      0.69      0.55       522\n",
      "weighted avg       0.82      0.56      0.60       522\n",
      "\n"
     ]
    }
   ],
   "source": [
    "reg.fit(X_train_for_singlefeat_2d,Y_train)\n",
    "Y_pred_simple = reg.predict(X_single_feat_2d)\n",
    "print(\"Classification report : \")\n",
    "print(classification_report(classification(Y), classification(Y_pred_simple)))"
   ]
  },
  {
   "cell_type": "markdown",
   "id": "4da3ad12",
   "metadata": {},
   "source": [
    "### Multiple Linear Regression"
   ]
  },
  {
   "cell_type": "code",
   "execution_count": 23,
   "id": "61237d10",
   "metadata": {},
   "outputs": [
    {
     "name": "stdout",
     "output_type": "stream",
     "text": [
      "Classification report : \n",
      "              precision    recall  f1-score   support\n",
      "\n",
      "           0       0.96      0.58      0.72       415\n",
      "           1       0.36      0.92      0.52       107\n",
      "\n",
      "    accuracy                           0.65       522\n",
      "   macro avg       0.66      0.75      0.62       522\n",
      "weighted avg       0.84      0.65      0.68       522\n",
      "\n"
     ]
    }
   ],
   "source": [
    "reg.fit(X_train,Y_train)\n",
    "Y_pred_overall = reg.predict(X)\n",
    "print(\"Classification report : \")\n",
    "print(classification_report(classification(Y), classification(Y_pred_overall)))"
   ]
  },
  {
   "cell_type": "markdown",
   "id": "fe3572a2",
   "metadata": {},
   "source": [
    "### Proposed Model"
   ]
  },
  {
   "cell_type": "code",
   "execution_count": 24,
   "id": "227b00fd",
   "metadata": {},
   "outputs": [
    {
     "name": "stdout",
     "output_type": "stream",
     "text": [
      "Classification report : \n",
      "              precision    recall  f1-score   support\n",
      "\n",
      "           0       0.97      0.41      0.58       415\n",
      "           1       0.29      0.94      0.45       107\n",
      "\n",
      "    accuracy                           0.52       522\n",
      "   macro avg       0.63      0.68      0.51       522\n",
      "weighted avg       0.83      0.52      0.55       522\n",
      "\n"
     ]
    }
   ],
   "source": [
    "Y_pred = []\n",
    "for features in X:\n",
    "    tot = 0\n",
    "    for (i, wt) in zip(list_keys, norm_d):\n",
    "        tot = tot + features[i] * wt\n",
    "    Y_pred.append(tot)\n",
    "Y_pred = [(float(i)-min(Y_pred))/(max(Y_pred)-min(Y_pred)) for i in Y_pred]\n",
    "print(\"Classification report : \")\n",
    "print(classification_report(classification(Y), classification(Y_pred)))"
   ]
  },
  {
   "cell_type": "code",
   "execution_count": 25,
   "id": "6a22ca69",
   "metadata": {},
   "outputs": [],
   "source": [
    "# Accuracy - 3\n",
    "# Precision - 2\n",
    "# Recall - 3\n",
    "# F measure - 3"
   ]
  },
  {
   "cell_type": "code",
   "execution_count": 26,
   "id": "e80b68d3",
   "metadata": {},
   "outputs": [],
   "source": [
    "\n",
    "f1_simple = [0.82,0.83,0.83]\n",
    "acc_simple = [0.83,0.84,0.84]\n",
    "prec_simple = [0.81,0.83,0.83]\n",
    "rec_simple = [0.83,0.84,0.84]\n",
    "\n",
    "f1_multiple = [0.82,0.85,0.84]\n",
    "acc_multiple = [0.82,0.86,0.85]\n",
    "prec_multiple = [0.82,0.85,0.84]\n",
    "rec_multiple = [0.82,0.86,0.85]\n",
    "\n",
    "f1_proposed = [0.84,0.84,0.84]\n",
    "acc_proposed = [0.84,0.85,0.85]\n",
    "prec_proposed = [0.84,0.84,0.84]\n",
    "rec_proposed = [0.84,0.85,0.85]"
   ]
  },
  {
   "cell_type": "code",
   "execution_count": 27,
   "id": "d58ca111",
   "metadata": {},
   "outputs": [
    {
     "data": {
      "image/png": "[encoded data removed]",
      "text/plain": [
       "<Figure size 432x288 with 1 Axes>"
      ]
     },
     "metadata": {
      "needs_background": "light"
     },
     "output_type": "display_data"
    }
   ],
   "source": [
    "N = 3\n",
    "ind = np.arange(N) \n",
    "width = 0.25  \n",
    "bar1 = plt.bar(ind, f1_simple, width, color = 'r')\n",
    "bar2 = plt.bar(ind+width, f1_multiple, width, color='g')\n",
    "bar3 = plt.bar(ind+width*2, f1_proposed, width, color = 'b')\n",
    "  \n",
    "plt.xlabel(\"Data\")\n",
    "plt.ylabel(\"F1 Score\")\n",
    "plt.title(\"F1 score of models\")\n",
    "  \n",
    "plt.xticks(ind+width,['Test', 'Train', 'Overall'])\n",
    "plt.legend( (bar1, bar2, bar3), ('Simple', 'Multiple', 'Proposed'),bbox_to_anchor =(1.3, 1.0) )\n",
    "plt.show()"
   ]
  },
  {
   "cell_type": "code",
   "execution_count": 28,
   "id": "cbdbcffb",
   "metadata": {
    "scrolled": true
   },
   "outputs": [
    {
     "data": {
      "image/png": "[encoded data removed]",
      "text/plain": [
       "<Figure size 432x288 with 1 Axes>"
      ]
     },
     "metadata": {
      "needs_background": "light"
     },
     "output_type": "display_data"
    }
   ],
   "source": [
    "N = 3\n",
    "ind = np.arange(N) \n",
    "width = 0.25  \n",
    "bar1 = plt.bar(ind, acc_simple, width, color = 'r')\n",
    "bar2 = plt.bar(ind+width, acc_multiple, width, color='g')\n",
    "bar3 = plt.bar(ind+width*2, acc_proposed, width, color = 'b')\n",
    "  \n",
    "plt.xlabel(\"Data\")\n",
    "plt.ylabel(\"Accuracy\")\n",
    "plt.title(\"Accuracy of models\")\n",
    "  \n",
    "plt.xticks(ind+width,['Test', 'Train', 'Overall'])\n",
    "plt.legend( (bar1, bar2, bar3), ('Simple', 'Multiple', 'Proposed'),bbox_to_anchor =(1.3, 1.0) )\n",
    "plt.show()"
   ]
  },
  {
   "cell_type": "code",
   "execution_count": 29,
   "id": "879865fc",
   "metadata": {},
   "outputs": [
    {
     "data": {
      "image/png": "[encoded data removed]",
      "text/plain": [
       "<Figure size 432x288 with 1 Axes>"
      ]
     },
     "metadata": {
      "needs_background": "light"
     },
     "output_type": "display_data"
    }
   ],
   "source": [
    "N = 3\n",
    "ind = np.arange(N) \n",
    "width = 0.25  \n",
    "bar1 = plt.bar(ind, prec_simple, width, color = 'r')\n",
    "bar2 = plt.bar(ind+width, prec_multiple, width, color='g')\n",
    "bar3 = plt.bar(ind+width*2, prec_proposed, width, color = 'b')\n",
    "  \n",
    "plt.xlabel(\"Data\")\n",
    "plt.ylabel(\"Precision\")\n",
    "plt.title(\"Precision of models\")\n",
    "  \n",
    "plt.xticks(ind+width,['Test', 'Train', 'Overall'])\n",
    "plt.legend( (bar1, bar2, bar3), ('Simple', 'Multiple', 'Proposed'),bbox_to_anchor =(1.3, 1.0) )\n",
    "plt.show()"
   ]
  },
  {
   "cell_type": "code",
   "execution_count": 30,
   "id": "bedceccd",
   "metadata": {},
   "outputs": [
    {
     "data": {
      "image/png": "[encoded data removed]",
      "text/plain": [
       "<Figure size 432x288 with 1 Axes>"
      ]
     },
     "metadata": {
      "needs_background": "light"
     },
     "output_type": "display_data"
    }
   ],
   "source": [
    "N = 3\n",
    "ind = np.arange(N) \n",
    "width = 0.25  \n",
    "bar1 = plt.bar(ind, rec_simple, width, color = 'r')\n",
    "bar2 = plt.bar(ind+width, rec_multiple, width, color='g')\n",
    "bar3 = plt.bar(ind+width*2, rec_proposed, width, color = 'b')\n",
    "  \n",
    "plt.xlabel(\"Data\")\n",
    "plt.ylabel(\"Recall\")\n",
    "plt.title(\"Recall of models\")\n",
    "  \n",
    "plt.xticks(ind+width,['Test', 'Train', 'Overall'])\n",
    "plt.legend( (bar1, bar2, bar3), ('Simple', 'Multiple', 'Proposed'),bbox_to_anchor =(1.3, 1.0) )\n",
    "plt.show()"
   ]
  },
  {
   "cell_type": "markdown",
   "id": "c99001d3",
   "metadata": {},
   "source": [
    "### Applying classification models to the proposed model(5 selected features)"
   ]
  },
  {
   "cell_type": "code",
   "execution_count": 38,
   "id": "7cac3603",
   "metadata": {},
   "outputs": [
    {
     "name": "stdout",
     "output_type": "stream",
     "text": [
      "Classification report : \n",
      "              precision    recall  f1-score   support\n",
      "\n",
      "           0       0.85      0.86      0.85        78\n",
      "           1       0.58      0.56      0.57        27\n",
      "\n",
      "    accuracy                           0.78       105\n",
      "   macro avg       0.71      0.71      0.71       105\n",
      "weighted avg       0.78      0.78      0.78       105\n",
      "\n"
     ]
    }
   ],
   "source": [
    "acc_scores = []\n",
    "f1_scores = []\n",
    "\n",
    "from sklearn.naive_bayes import GaussianNB, ComplementNB\n",
    "clf = GaussianNB()\n",
    "Y_train_clf = classification(Y_train)\n",
    "Y_test_clf = classification(Y_test)\n",
    "clf.fit(X_train_for_multiple, Y_train_clf)\n",
    "Y_pred = clf.predict(X_test_for_multiple)\n",
    "\n",
    "from sklearn.metrics import f1_score,accuracy_score,classification_report\n",
    "print(\"Classification report : \")\n",
    "print(classification_report(Y_test_clf, classification(Y_pred)))\n",
    "\n",
    "acc_scores.append(accuracy_score(Y_test_clf, classification(Y_pred)))\n",
    "f1_scores.append(f1_score(Y_test_clf, classification(Y_pred), average = 'weighted'))"
   ]
  },
  {
   "cell_type": "code",
   "execution_count": 39,
   "id": "1d765b78",
   "metadata": {},
   "outputs": [
    {
     "name": "stdout",
     "output_type": "stream",
     "text": [
      "Classification report : \n",
      "              precision    recall  f1-score   support\n",
      "\n",
      "           0       0.84      0.86      0.85        78\n",
      "           1       0.56      0.52      0.54        27\n",
      "\n",
      "    accuracy                           0.77       105\n",
      "   macro avg       0.70      0.69      0.69       105\n",
      "weighted avg       0.77      0.77      0.77       105\n",
      "\n"
     ]
    }
   ],
   "source": [
    "from sklearn.tree import DecisionTreeClassifier\n",
    "clf = DecisionTreeClassifier(criterion = \"entropy\", splitter=\"random\",min_samples_split=3)\n",
    "clf.fit(X_train_for_multiple, Y_train_clf)\n",
    "Y_pred = clf.predict(X_test_for_multiple)\n",
    "print(\"Classification report : \")\n",
    "print(classification_report(Y_test_clf, classification(Y_pred)))\n",
    "acc_scores.append(accuracy_score(Y_test_clf, classification(Y_pred)))\n",
    "f1_scores.append(f1_score(Y_test_clf, classification(Y_pred), average = 'weighted'))"
   ]
  },
  {
   "cell_type": "code",
   "execution_count": 40,
   "id": "38756a44",
   "metadata": {},
   "outputs": [
    {
     "name": "stdout",
     "output_type": "stream",
     "text": [
      "Classification report : \n",
      "              precision    recall  f1-score   support\n",
      "\n",
      "           0       0.74      1.00      0.85        78\n",
      "           1       0.00      0.00      0.00        27\n",
      "\n",
      "    accuracy                           0.74       105\n",
      "   macro avg       0.37      0.50      0.43       105\n",
      "weighted avg       0.55      0.74      0.63       105\n",
      "\n"
     ]
    },
    {
     "name": "stderr",
     "output_type": "stream",
     "text": [
      "C:\\ProgramData\\Anaconda3\\lib\\site-packages\\sklearn\\metrics\\_classification.py:1245: UndefinedMetricWarning: Precision and F-score are ill-defined and being set to 0.0 in labels with no predicted samples. Use `zero_division` parameter to control this behavior.\n",
      "  _warn_prf(average, modifier, msg_start, len(result))\n",
      "C:\\ProgramData\\Anaconda3\\lib\\site-packages\\sklearn\\metrics\\_classification.py:1245: UndefinedMetricWarning: Precision and F-score are ill-defined and being set to 0.0 in labels with no predicted samples. Use `zero_division` parameter to control this behavior.\n",
      "  _warn_prf(average, modifier, msg_start, len(result))\n",
      "C:\\ProgramData\\Anaconda3\\lib\\site-packages\\sklearn\\metrics\\_classification.py:1245: UndefinedMetricWarning: Precision and F-score are ill-defined and being set to 0.0 in labels with no predicted samples. Use `zero_division` parameter to control this behavior.\n",
      "  _warn_prf(average, modifier, msg_start, len(result))\n"
     ]
    }
   ],
   "source": [
    "from sklearn.linear_model import LogisticRegression\n",
    "clf = LogisticRegression(solver='saga', penalty = 'l2', C = 0.1, random_state=10)\n",
    "clf.fit(X_train_for_multiple, Y_train_clf)\n",
    "Y_pred = clf.predict(X_test_for_multiple)\n",
    "print(\"Classification report : \")\n",
    "print(classification_report(Y_test_clf, classification(Y_pred)))\n",
    "acc_scores.append(accuracy_score(Y_test_clf, classification(Y_pred)))\n",
    "f1_scores.append(f1_score(Y_test_clf, classification(Y_pred), average = 'weighted'))"
   ]
  },
  {
   "cell_type": "code",
   "execution_count": 41,
   "id": "70e090ff",
   "metadata": {},
   "outputs": [
    {
     "name": "stdout",
     "output_type": "stream",
     "text": [
      "Classification report : \n",
      "              precision    recall  f1-score   support\n",
      "\n",
      "           0       0.82      0.90      0.86        78\n",
      "           1       0.60      0.44      0.51        27\n",
      "\n",
      "    accuracy                           0.78       105\n",
      "   macro avg       0.71      0.67      0.68       105\n",
      "weighted avg       0.77      0.78      0.77       105\n",
      "\n"
     ]
    }
   ],
   "source": [
    "from sklearn.neighbors import KNeighborsClassifier\n",
    "clf = KNeighborsClassifier(n_neighbors=35)\n",
    "clf.fit(X_train_for_multiple, Y_train_clf)\n",
    "Y_pred = clf.predict(X_test_for_multiple)\n",
    "print(\"Classification report : \")\n",
    "print(classification_report(Y_test_clf, classification(Y_pred)))\n",
    "\n",
    "acc_scores.append(accuracy_score(Y_test_clf, classification(Y_pred)))\n",
    "f1_scores.append(f1_score(Y_test_clf, classification(Y_pred), average = 'weighted'))"
   ]
  },
  {
   "cell_type": "code",
   "execution_count": 42,
   "id": "72a3c0ac",
   "metadata": {
    "scrolled": true
   },
   "outputs": [
    {
     "name": "stdout",
     "output_type": "stream",
     "text": [
      "Classification report : \n",
      "              precision    recall  f1-score   support\n",
      "\n",
      "           0       0.86      0.90      0.88        78\n",
      "           1       0.67      0.59      0.63        27\n",
      "\n",
      "    accuracy                           0.82       105\n",
      "   macro avg       0.77      0.75      0.75       105\n",
      "weighted avg       0.81      0.82      0.82       105\n",
      "\n"
     ]
    }
   ],
   "source": [
    "from sklearn.ensemble import RandomForestClassifier\n",
    "rfs = RandomForestClassifier(n_estimators=300, criterion = \"gini\")\n",
    "rfs.fit(X_train_for_multiple, Y_train_clf)\n",
    "Y_pred = rfs.predict(X_test_for_multiple)\n",
    "print(\"Classification report : \")\n",
    "print(classification_report(Y_test_clf, classification(Y_pred)))\n",
    "\n",
    "acc_scores.append(accuracy_score(Y_test_clf, classification(Y_pred)))\n",
    "f1_scores.append(f1_score(Y_test_clf, classification(Y_pred), average = 'weighted'))"
   ]
  },
  {
   "cell_type": "code",
   "execution_count": 43,
   "id": "e71f9e8b",
   "metadata": {},
   "outputs": [
    {
     "data": {
      "image/png": "[encoded data removed]",
      "text/plain": [
       "<Figure size 432x288 with 1 Axes>"
      ]
     },
     "metadata": {
      "needs_background": "light"
     },
     "output_type": "display_data"
    }
   ],
   "source": [
    "X = [\"NB\", \"DT\",\"Logistic\", \"KNN\", \"RF\"]\n",
    "X_axis = np.arange(len(X))\n",
    "plt.bar(X_axis - 0.2, acc_scores, 0.4, label = 'Accuracy')\n",
    "plt.bar(X_axis + 0.2, f1_scores, 0.4, label = 'F1 Score')\n",
    "plt.xticks(X_axis, X)\n",
    "plt.xlabel(\"Classification Techniques\")\n",
    "plt.ylabel(\"Value\")\n",
    "plt.title(\"Evaluation of Classification Models\")\n",
    "plt.legend(bbox_to_anchor =(1.3, 1.0))\n",
    "plt.show()"
   ]
  },
  {
   "cell_type": "code",
   "execution_count": 44,
   "id": "a02cb8b5",
   "metadata": {},
   "outputs": [
    {
     "data": {
      "text/plain": [
       "5"
      ]
     },
     "execution_count": 44,
     "metadata": {},
     "output_type": "execute_result"
    }
   ],
   "source": [
    "len(acc_scores)"
   ]
  }
 ],
 "metadata": {
  "interpreter": {
   "hash": "b3ba2566441a7c06988d0923437866b63cedc61552a5af99d1f4fb67d367b25f"
  },
  "kernelspec": {
   "display_name": "Python 3",
   "language": "python",
   "name": "python3"
  },
  "language_info": {
   "codemirror_mode": {
    "name": "ipython",
    "version": 3
   },
   "file_extension": ".py",
   "mimetype": "text/x-python",
   "name": "python",
   "nbconvert_exporter": "python",
   "pygments_lexer": "ipython3",
   "version": "3.8.8"
  }
 },
 "nbformat": 4,
 "nbformat_minor": 5
}
