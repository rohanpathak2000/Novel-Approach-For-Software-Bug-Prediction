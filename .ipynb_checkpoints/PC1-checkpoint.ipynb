{
 "cells": [
  {
   "cell_type": "code",
   "execution_count": 1,
   "id": "f05cc379",
   "metadata": {},
   "outputs": [],
   "source": [
    "import pandas as pd\n",
    "import numpy as np \n",
    "from sklearn.preprocessing import MinMaxScaler, LabelEncoder\n",
    "from sklearn.model_selection import train_test_split"
   ]
  },
  {
   "cell_type": "code",
   "execution_count": 2,
   "id": "e3557c0c",
   "metadata": {},
   "outputs": [],
   "source": [
    "def classification(to_convert):\n",
    "    final_list=[]\n",
    "    for i in to_convert:\n",
    "        if i>0.08:\n",
    "            final_list.append(1)\n",
    "        else:\n",
    "            final_list.append(0)\n",
    "    return final_list"
   ]
  },
  {
   "cell_type": "markdown",
   "id": "d8b92f69",
   "metadata": {},
   "source": [
    "### Separating features and target and feature scaling"
   ]
  },
  {
   "cell_type": "code",
   "execution_count": 3,
   "id": "9251eac4",
   "metadata": {},
   "outputs": [],
   "source": [
    "df = pd.read_csv('pc1.csv')\n",
    "df.head()\n",
    "Y = df['defects']\n",
    "encoder = LabelEncoder()\n",
    "Y = encoder.fit_transform(Y)\n",
    "X = df.loc[:, df.columns != 'defects']\n",
    "\n",
    "X = X.apply(pd.to_numeric)\n",
    "##print(X.head())\n",
    "X_asDF = X\n",
    "\n",
    "# Feature Scaling\n",
    "scaler = MinMaxScaler()\n",
    "X = scaler.fit_transform(X)\n",
    "\n",
    "Y = [(float(i)-min(Y))/(max(Y)-min(Y)) for i in Y]"
   ]
  },
  {
   "cell_type": "markdown",
   "id": "7d54f1e5",
   "metadata": {},
   "source": [
    "### Extracting top 5 metrics and calculating Ru"
   ]
  },
  {
   "cell_type": "code",
   "execution_count": 4,
   "id": "bf2ddb4b",
   "metadata": {
    "scrolled": false
   },
   "outputs": [
    {
     "name": "stdout",
     "output_type": "stream",
     "text": [
      "[(17, 0.08636128979108426), (0, 0.07982420695049741), (13, 0.07508993613775528), (12, 0.07431582575958484), (10, 0.06232867673161413)]\n",
      "Index(['uniq_Opnd', 'loc', 'lOComment', 'lOCode', 'B'], dtype='object')\n",
      "0.11918355063158148\n"
     ]
    }
   ],
   "source": [
    "X_train, X_test, Y_train, Y_test = train_test_split(X, Y, test_size=0.2, random_state=1)\n",
    "feature_scores = {}\n",
    "r_scores = []\n",
    "\n",
    "from sklearn.linear_model import LinearRegression\n",
    "import operator\n",
    "\n",
    "reg = LinearRegression()\n",
    "\n",
    "for i in range(X_train.shape[1]):\n",
    "    reg.fit(X_train[:,i].reshape(-1,1),Y_train)\n",
    "    feature_scores[i] = reg.score(X_train[:,i].reshape(-1,1),Y_train)\n",
    "\n",
    "sorted_feature_scores = dict(sorted(feature_scores.items(), key=operator.itemgetter(1),reverse=True))\n",
    "\n",
    "\n",
    "dict_items = sorted_feature_scores.items()\n",
    "\n",
    "top_n_metrics = list(dict_items)[:5]\n",
    "print(top_n_metrics)\n",
    "#print(X_asDF.columns[top_n_metrics[0][0]])\n",
    "\n",
    "list_keys = [x[0] for x in top_n_metrics]\n",
    "print(X_asDF.columns[list_keys])\n",
    "#print(list_keys)\n",
    "X_train_for_multiple  = X_train[:,list_keys]\n",
    "X_test_for_multiple  = X_test[:,list_keys]\n",
    "reg.fit(X_train_for_multiple, Y_train)\n",
    "\n",
    "rU = reg.score(X_train_for_multiple, Y_train)\n",
    "print(rU)"
   ]
  },
  {
   "cell_type": "markdown",
   "id": "1a591308",
   "metadata": {},
   "source": [
    "### Applying proposed algorithm with Polynomial Regression"
   ]
  },
  {
   "cell_type": "code",
   "execution_count": 7,
   "id": "6a25dbcf",
   "metadata": {},
   "outputs": [
    {
     "name": "stdout",
     "output_type": "stream",
     "text": [
      "0.5531120727134429\n"
     ]
    }
   ],
   "source": [
    "from sklearn.preprocessing import PolynomialFeatures\n",
    "poly = PolynomialFeatures(degree = 2)\n",
    "X_poly = poly.fit_transform(X)\n",
    "\n",
    "\n",
    "poly.fit(X_poly,Y)\n",
    "X_train, X_test, Y_train, Y_test = train_test_split(X_poly, Y, test_size=0.2, random_state=1)\n",
    "feature_scores = {}\n",
    "r_scores = []\n",
    "\n",
    "# Fitting Polynomial Regression to the dataset\n",
    "\n",
    "from sklearn.linear_model import LinearRegression, Lasso\n",
    "import operator\n",
    "\n",
    "reg = LinearRegression() \n",
    "for i in range(X_train.shape[1]):\n",
    "    reg.fit(X_train[:,i].reshape(-1,1),Y_train)\n",
    "    feature_scores[i] = reg.score(X_train[:,i].reshape(-1,1),Y_train)\n",
    "\n",
    "sorted_feature_scores = dict( sorted(feature_scores.items(), key=operator.itemgetter(1),reverse=True))\n",
    "\n",
    "\n",
    "dict_items = sorted_feature_scores.items()\n",
    "\n",
    "top_n_metrics = list(dict_items)[:5]\n",
    "#print(top_n_metrics)\n",
    "#print(X_asDF.columns[top_n_metrics[0][0]])\n",
    "\n",
    "list_keys = [x[0] for x in top_n_metrics]\n",
    "#print(list_keys)\n",
    "X_train_for_multiple  = X_train[:,list_keys]\n",
    "X_test_for_multiple  = X_test[:,list_keys]\n",
    "reg.fit(X_train_for_multiple, Y_train)\n",
    "\n",
    "rU = reg.score(X_train_for_multiple, Y_train)\n",
    "print(rU)"
   ]
  },
  {
   "cell_type": "markdown",
   "id": "a2f5e933",
   "metadata": {},
   "source": [
    "### Proposed Algorithm with Ridge Regression"
   ]
  },
  {
   "cell_type": "code",
   "execution_count": 8,
   "id": "2cc55115",
   "metadata": {},
   "outputs": [
    {
     "ename": "IndexError",
     "evalue": "index 926 is out of bounds for axis 1 with size 42",
     "output_type": "error",
     "traceback": [
      "\u001b[1;31m---------------------------------------------------------------------------\u001b[0m",
      "\u001b[1;31mIndexError\u001b[0m                                Traceback (most recent call last)",
      "\u001b[1;32m<ipython-input-8-2f180f25175b>\u001b[0m in \u001b[0;36m<module>\u001b[1;34m\u001b[0m\n\u001b[0;32m     21\u001b[0m \u001b[1;33m\u001b[0m\u001b[0m\n\u001b[0;32m     22\u001b[0m \u001b[0mX_train_for_multiple\u001b[0m  \u001b[1;33m=\u001b[0m \u001b[0mX_train\u001b[0m\u001b[1;33m[\u001b[0m\u001b[1;33m:\u001b[0m\u001b[1;33m,\u001b[0m\u001b[0mlist_keys\u001b[0m\u001b[1;33m]\u001b[0m\u001b[1;33m\u001b[0m\u001b[1;33m\u001b[0m\u001b[0m\n\u001b[1;32m---> 23\u001b[1;33m \u001b[0mX_for_proposed\u001b[0m \u001b[1;33m=\u001b[0m \u001b[0mX\u001b[0m\u001b[1;33m[\u001b[0m\u001b[1;33m:\u001b[0m\u001b[1;33m,\u001b[0m\u001b[0mlist_keys\u001b[0m\u001b[1;33m]\u001b[0m\u001b[1;33m\u001b[0m\u001b[1;33m\u001b[0m\u001b[0m\n\u001b[0m\u001b[0;32m     24\u001b[0m \u001b[0mX_test_for_multiple\u001b[0m  \u001b[1;33m=\u001b[0m \u001b[0mX_test\u001b[0m\u001b[1;33m[\u001b[0m\u001b[1;33m:\u001b[0m\u001b[1;33m,\u001b[0m\u001b[0mlist_keys\u001b[0m\u001b[1;33m]\u001b[0m\u001b[1;33m\u001b[0m\u001b[1;33m\u001b[0m\u001b[0m\n\u001b[0;32m     25\u001b[0m \u001b[0mreg\u001b[0m\u001b[1;33m.\u001b[0m\u001b[0mfit\u001b[0m\u001b[1;33m(\u001b[0m\u001b[0mX_train_for_multiple\u001b[0m\u001b[1;33m,\u001b[0m \u001b[0mY_train\u001b[0m\u001b[1;33m)\u001b[0m\u001b[1;33m\u001b[0m\u001b[1;33m\u001b[0m\u001b[0m\n",
      "\u001b[1;31mIndexError\u001b[0m: index 926 is out of bounds for axis 1 with size 42"
     ]
    }
   ],
   "source": [
    "feature_scores = {}\n",
    "r_scores = []\n",
    "\n",
    "# Fitting Polynomial Regression to the dataset\n",
    "\n",
    "from sklearn.linear_model import LinearRegression, Lasso, Ridge\n",
    "import operator\n",
    "\n",
    "reg = Ridge() \n",
    "for i in range(X_train.shape[1]):\n",
    "    reg.fit(X_train[:,i].reshape(-1,1),Y_train)\n",
    "    feature_scores[i] = reg.score(X_train[:,i].reshape(-1,1),Y_train)\n",
    "\n",
    "sorted_feature_scores = dict(sorted(feature_scores.items(), key=operator.itemgetter(1),reverse=True))\n",
    "\n",
    "dict_items = sorted_feature_scores.items()\n",
    "\n",
    "top_n_metrics = list(dict_items)[:5]\n",
    "\n",
    "list_keys = [x[0] for x in top_n_metrics]\n",
    "\n",
    "X_train_for_multiple  = X_train[:,list_keys]\n",
    "X_for_proposed = X[:,list_keys]\n",
    "X_test_for_multiple  = X_test[:,list_keys]\n",
    "reg.fit(X_train_for_multiple, Y_train)\n",
    "\n",
    "rU = reg.score(X_train_for_multiple, Y_train)\n",
    "print(rU)"
   ]
  },
  {
   "cell_type": "markdown",
   "id": "a4b1fd1f",
   "metadata": {},
   "source": [
    "### Calculating weights for the selected features"
   ]
  },
  {
   "cell_type": "code",
   "execution_count": 5,
   "id": "ffb6d8ef",
   "metadata": {},
   "outputs": [
    {
     "name": "stdout",
     "output_type": "stream",
     "text": [
      "0.10669556597368535\n",
      "0.1088079393361423\n",
      "0.1076080809452239\n",
      "0.10779855137498484\n",
      "0.1173032920041337\n"
     ]
    }
   ],
   "source": [
    "d = []\n",
    "for i in list_keys:\n",
    "    remaining_features = [j for j in list_keys if j != i ]\n",
    "    X_train_remaining = X_train[:,remaining_features]\n",
    "    X_test_remaining = X_test[:,remaining_features]\n",
    "    reg.fit(X_train_remaining, Y_train)\n",
    "    train_score = reg.score(X_train_remaining, Y_train)\n",
    "    print(train_score)\n",
    "    d.append(rU-train_score)"
   ]
  },
  {
   "cell_type": "markdown",
   "id": "bb0bcf9f",
   "metadata": {},
   "source": [
    "### Normalising weights for and predicting the bug proneness index"
   ]
  },
  {
   "cell_type": "code",
   "execution_count": 6,
   "id": "9ea56fd3",
   "metadata": {},
   "outputs": [
    {
     "name": "stdout",
     "output_type": "stream",
     "text": [
      "[1.0, 0.800864638057807, 0.9139763820333151, 0.8960205610388605, 0.0]\n"
     ]
    }
   ],
   "source": [
    "norm_d = [(float(i)-min(d))/(max(d)-min(d)) for i in d]\n",
    "print(norm_d)\n",
    "#Weights should be mapped to elements in the list_keys\n",
    "#norm_d are the normalized weights of the n metrics\n",
    "Y_pred = []\n",
    "for features_test in X_test:\n",
    "    tot = 0\n",
    "    for (i, wt) in zip(list_keys, norm_d):\n",
    "        tot = tot + features_test[i] * wt\n",
    "    Y_pred.append(tot)\n",
    "Y_pred = [(float(i)-min(Y_pred))/(max(Y_pred)-min(Y_pred)) for i in Y_pred]\n",
    "  "
   ]
  },
  {
   "cell_type": "markdown",
   "id": "a16e0b0a",
   "metadata": {},
   "source": [
    "### Printing the predicted and the actual target"
   ]
  },
  {
   "cell_type": "code",
   "execution_count": 12,
   "id": "04006f01",
   "metadata": {},
   "outputs": [
    {
     "data": {
      "text/plain": [
       "'\\nfor(predicted, actual) in zip(Y_pred_final, Y_test_final):\\n    print(f\"{predicted} - {actual}\") \\n    print()\\n'"
      ]
     },
     "execution_count": 12,
     "metadata": {},
     "output_type": "execute_result"
    }
   ],
   "source": [
    "## The paper doesn't mention normalising again but some values don't lie in the range of 0 to 1\n",
    "## Hence normalising again\n",
    "Y_pred = [(float(i)-min(Y_pred))/(max(Y_pred)-min(Y_pred)) for i in Y_pred]\n",
    "Y_pred_final = [round(i,4) for i in Y_pred]\n",
    "Y_test_final = [round(i,4) for i in Y_test]\n",
    "\n",
    "\"\"\"\n",
    "for(predicted, actual) in zip(Y_pred_final, Y_test_final):\n",
    "    print(f\"{predicted} - {actual}\") \n",
    "    print()\n",
    "\"\"\""
   ]
  },
  {
   "cell_type": "markdown",
   "id": "6f04ae94",
   "metadata": {},
   "source": [
    "## Function to classify bug count to 0 or 1"
   ]
  },
  {
   "cell_type": "code",
   "execution_count": 13,
   "id": "526e917c",
   "metadata": {},
   "outputs": [],
   "source": [
    "from imblearn.over_sampling import SMOTE\n",
    "Y_train_classified = classification(Y_train)\n",
    "Y_test_classified = classification(Y_test)\n",
    "Y_pred_classified=classification(Y_pred_final)"
   ]
  },
  {
   "cell_type": "code",
   "execution_count": 14,
   "id": "8406a42e",
   "metadata": {},
   "outputs": [
    {
     "data": {
      "text/plain": [
       "<matplotlib.collections.PathCollection at 0x265905360d0>"
      ]
     },
     "execution_count": 14,
     "metadata": {},
     "output_type": "execute_result"
    },
    {
     "data": {
      "image/png": "[encoded data removed]",
      "text/plain": [
       "<Figure size 432x288 with 1 Axes>"
      ]
     },
     "metadata": {
      "needs_background": "light"
     },
     "output_type": "display_data"
    }
   ],
   "source": [
    "# Plotting of simple linear regression model\n",
    "\n",
    "import matplotlib.pyplot as plt\n",
    "X_train_for_singlefeat = X_train[:,list_keys[0]]\n",
    "X_single_feat = X[:,list_keys[0]]\n",
    "X_single_feat_2d = X_single_feat.reshape(-1,1)\n",
    "X_test_for_singlefeat = X_test[:,list_keys[0]]\n",
    "X_train_for_singlefeat_2d = X_train_for_singlefeat.reshape(-1,1)\n",
    "reg.fit(X_train_for_singlefeat_2d,Y_train)\n",
    "X_test_for_singlefeat_2d = X_test_for_singlefeat.reshape(-1,1)\n",
    "Y_Predicted = reg.predict(X_test_for_singlefeat_2d)\n",
    "plt.xlabel(\"Actual bug count\")\n",
    "plt.ylabel(\"Predicted bug index\")\n",
    "plt.scatter(Y_test_final,Y_Predicted)"
   ]
  },
  {
   "cell_type": "code",
   "execution_count": 15,
   "id": "2adcf73e",
   "metadata": {},
   "outputs": [
    {
     "data": {
      "text/plain": [
       "<matplotlib.collections.PathCollection at 0x26590618dc0>"
      ]
     },
     "execution_count": 15,
     "metadata": {},
     "output_type": "execute_result"
    },
    {
     "data": {
      "image/png": "[encoded data removed]",
      "text/plain": [
       "<Figure size 432x288 with 1 Axes>"
      ]
     },
     "metadata": {
      "needs_background": "light"
     },
     "output_type": "display_data"
    }
   ],
   "source": [
    "# Plotting of multiple linear regression\n",
    "\n",
    "reg.fit(X_train,Y_train)\n",
    "Y_Pred_multiplereg = reg.predict(X_test)\n",
    "plt.xlabel(\"Actual bug count\")\n",
    "plt.ylabel(\"Predicted bug index\")\n",
    "plt.scatter(Y_test,Y_Pred_multiplereg)\n"
   ]
  },
  {
   "cell_type": "code",
   "execution_count": 16,
   "id": "1fbf5ec5",
   "metadata": {},
   "outputs": [
    {
     "data": {
      "text/plain": [
       "<matplotlib.collections.PathCollection at 0x265906804f0>"
      ]
     },
     "execution_count": 16,
     "metadata": {},
     "output_type": "execute_result"
    },
    {
     "data": {
      "image/png": "[encoded data removed]",
      "text/plain": [
       "<Figure size 432x288 with 1 Axes>"
      ]
     },
     "metadata": {
      "needs_background": "light"
     },
     "output_type": "display_data"
    }
   ],
   "source": [
    "# Plotting of prosposed model\n",
    "plt.xlabel(\"Actual bug count\")\n",
    "plt.ylabel(\"Predicted bug index\")\n",
    "plt.scatter(Y_test_final,Y_pred_final)\n"
   ]
  },
  {
   "cell_type": "markdown",
   "id": "94b1d0b5",
   "metadata": {},
   "source": [
    "## Classificaton report for testing data\n",
    "### Simple Linear regression"
   ]
  },
  {
   "cell_type": "code",
   "execution_count": 17,
   "id": "59c6fbcf",
   "metadata": {},
   "outputs": [
    {
     "name": "stdout",
     "output_type": "stream",
     "text": [
      "Classification report : \n",
      "              precision    recall  f1-score   support\n",
      "\n",
      "           0       0.96      0.75      0.84       208\n",
      "           1       0.12      0.50      0.19        14\n",
      "\n",
      "    accuracy                           0.73       222\n",
      "   macro avg       0.54      0.62      0.52       222\n",
      "weighted avg       0.90      0.73      0.80       222\n",
      "\n"
     ]
    }
   ],
   "source": [
    "from sklearn.metrics import classification_report\n",
    "reg.fit(X_train_for_singlefeat_2d,Y_train)\n",
    "Y_pred_simple = reg.predict(X_test_for_singlefeat_2d)\n",
    "print(\"Classification report : \")\n",
    "print(classification_report(classification(Y_test), classification(Y_pred_simple)))"
   ]
  },
  {
   "cell_type": "markdown",
   "id": "10ec68df",
   "metadata": {},
   "source": [
    "### Multiple Linear regression"
   ]
  },
  {
   "cell_type": "code",
   "execution_count": 18,
   "id": "ca215fb8",
   "metadata": {},
   "outputs": [
    {
     "name": "stdout",
     "output_type": "stream",
     "text": [
      "Classification report : \n",
      "              precision    recall  f1-score   support\n",
      "\n",
      "           0       0.98      0.79      0.88       208\n",
      "           1       0.19      0.71      0.30        14\n",
      "\n",
      "    accuracy                           0.79       222\n",
      "   macro avg       0.58      0.75      0.59       222\n",
      "weighted avg       0.93      0.79      0.84       222\n",
      "\n"
     ]
    }
   ],
   "source": [
    "reg.fit(X_train,Y_train)\n",
    "Y_pred_multiple = reg.predict(X_test)\n",
    "print(\"Classification report : \")\n",
    "print(classification_report(classification(Y_test), classification(Y_pred_multiple)))"
   ]
  },
  {
   "cell_type": "markdown",
   "id": "91096144",
   "metadata": {},
   "source": [
    "### Proposed model"
   ]
  },
  {
   "cell_type": "code",
   "execution_count": 19,
   "id": "88785229",
   "metadata": {},
   "outputs": [
    {
     "name": "stdout",
     "output_type": "stream",
     "text": [
      "Classification report : \n",
      "              precision    recall  f1-score   support\n",
      "\n",
      "           0       0.96      0.79      0.87       208\n",
      "           1       0.15      0.57      0.24        14\n",
      "\n",
      "    accuracy                           0.77       222\n",
      "   macro avg       0.56      0.68      0.56       222\n",
      "weighted avg       0.91      0.77      0.83       222\n",
      "\n"
     ]
    }
   ],
   "source": [
    "Y_pred = []\n",
    "for features_test in X_test:\n",
    "    tot = 0\n",
    "    for (i, wt) in zip(list_keys, norm_d):\n",
    "        tot = tot + features_test[i] * wt\n",
    "    Y_pred.append(tot)\n",
    "Y_pred = [(float(i)-min(Y_pred))/(max(Y_pred)-min(Y_pred)) for i in Y_pred]\n",
    "print(\"Classification report : \")\n",
    "print(classification_report(classification(Y_test), classification(Y_pred)))"
   ]
  },
  {
   "cell_type": "code",
   "execution_count": 20,
   "id": "519f19f0",
   "metadata": {},
   "outputs": [],
   "source": [
    "# Accuracy - 3 \n",
    "# Precision - 3\n",
    "# Recall - 3\n",
    "# F measure - 3"
   ]
  },
  {
   "cell_type": "markdown",
   "id": "51685046",
   "metadata": {},
   "source": [
    "### Classification report for Training Data"
   ]
  },
  {
   "cell_type": "markdown",
   "id": "7bd2f656",
   "metadata": {},
   "source": [
    "### Simple Linear Regression"
   ]
  },
  {
   "cell_type": "code",
   "execution_count": 21,
   "id": "c7646191",
   "metadata": {},
   "outputs": [
    {
     "name": "stdout",
     "output_type": "stream",
     "text": [
      "Classification report : \n",
      "              precision    recall  f1-score   support\n",
      "\n",
      "           0       0.96      0.77      0.86       824\n",
      "           1       0.17      0.63      0.27        63\n",
      "\n",
      "    accuracy                           0.76       887\n",
      "   macro avg       0.57      0.70      0.56       887\n",
      "weighted avg       0.91      0.76      0.81       887\n",
      "\n"
     ]
    }
   ],
   "source": [
    "reg.fit(X_train_for_singlefeat_2d,Y_train)\n",
    "Y_pred_simple = reg.predict(X_train_for_singlefeat_2d)\n",
    "print(\"Classification report : \")\n",
    "print(classification_report(classification(Y_train), classification(Y_pred_simple)))"
   ]
  },
  {
   "cell_type": "markdown",
   "id": "94328e98",
   "metadata": {},
   "source": [
    "### Multiple Linear Regression"
   ]
  },
  {
   "cell_type": "code",
   "execution_count": 22,
   "id": "0d0c8d04",
   "metadata": {},
   "outputs": [
    {
     "name": "stdout",
     "output_type": "stream",
     "text": [
      "Classification report : \n",
      "              precision    recall  f1-score   support\n",
      "\n",
      "           0       0.97      0.74      0.84       824\n",
      "           1       0.18      0.75      0.29        63\n",
      "\n",
      "    accuracy                           0.74       887\n",
      "   macro avg       0.58      0.74      0.56       887\n",
      "weighted avg       0.92      0.74      0.80       887\n",
      "\n"
     ]
    }
   ],
   "source": [
    "reg.fit(X_train,Y_train)\n",
    "Y_pred_multiple = reg.predict(X_train)\n",
    "print(\"Classification report : \")\n",
    "print(classification_report(classification(Y_train), classification(Y_pred_multiple)))"
   ]
  },
  {
   "cell_type": "markdown",
   "id": "19afd29f",
   "metadata": {},
   "source": [
    "### Proposed Model"
   ]
  },
  {
   "cell_type": "code",
   "execution_count": 23,
   "id": "21505d18",
   "metadata": {},
   "outputs": [
    {
     "name": "stdout",
     "output_type": "stream",
     "text": [
      "Classification report : \n",
      "              precision    recall  f1-score   support\n",
      "\n",
      "           0       0.94      0.87      0.90       824\n",
      "           1       0.16      0.33      0.22        63\n",
      "\n",
      "    accuracy                           0.83       887\n",
      "   macro avg       0.55      0.60      0.56       887\n",
      "weighted avg       0.89      0.83      0.86       887\n",
      "\n"
     ]
    }
   ],
   "source": [
    "Y_pred = []\n",
    "for features_train in X_train:\n",
    "    tot = 0\n",
    "    for (i, wt) in zip(list_keys, norm_d):\n",
    "        tot = tot + features_train[i] * wt\n",
    "    Y_pred.append(tot)\n",
    "Y_pred = [(float(i)-min(Y_pred))/(max(Y_pred)-min(Y_pred)) for i in Y_pred]\n",
    "print(\"Classification report : \")\n",
    "print(classification_report(classification(Y_train), classification(Y_pred)))"
   ]
  },
  {
   "cell_type": "code",
   "execution_count": 24,
   "id": "01af423b",
   "metadata": {},
   "outputs": [],
   "source": [
    "# Accuracy - 2\n",
    "# Precision - 2\n",
    "# Recall - 2\n",
    "# F measure - 2"
   ]
  },
  {
   "cell_type": "markdown",
   "id": "ae67888d",
   "metadata": {},
   "source": [
    "### Classification Report for overall data"
   ]
  },
  {
   "cell_type": "markdown",
   "id": "40eaa910",
   "metadata": {},
   "source": [
    "### Simple Linear Regression"
   ]
  },
  {
   "cell_type": "code",
   "execution_count": 25,
   "id": "3ecf2bda",
   "metadata": {},
   "outputs": [
    {
     "name": "stdout",
     "output_type": "stream",
     "text": [
      "Classification report : \n",
      "              precision    recall  f1-score   support\n",
      "\n",
      "           0       0.96      0.77      0.85      1032\n",
      "           1       0.16      0.61      0.26        77\n",
      "\n",
      "    accuracy                           0.75      1109\n",
      "   macro avg       0.56      0.69      0.55      1109\n",
      "weighted avg       0.91      0.75      0.81      1109\n",
      "\n"
     ]
    }
   ],
   "source": [
    "reg.fit(X_train_for_singlefeat_2d,Y_train)\n",
    "Y_pred_simple = reg.predict(X_single_feat_2d)\n",
    "print(\"Classification report : \")\n",
    "print(classification_report(classification(Y), classification(Y_pred_simple)))"
   ]
  },
  {
   "cell_type": "markdown",
   "id": "4da3ad12",
   "metadata": {},
   "source": [
    "### Multiple Linear Regression"
   ]
  },
  {
   "cell_type": "code",
   "execution_count": 26,
   "id": "61237d10",
   "metadata": {},
   "outputs": [
    {
     "name": "stdout",
     "output_type": "stream",
     "text": [
      "Classification report : \n",
      "              precision    recall  f1-score   support\n",
      "\n",
      "           0       0.97      0.75      0.85      1032\n",
      "           1       0.18      0.74      0.29        77\n",
      "\n",
      "    accuracy                           0.75      1109\n",
      "   macro avg       0.58      0.74      0.57      1109\n",
      "weighted avg       0.92      0.75      0.81      1109\n",
      "\n"
     ]
    }
   ],
   "source": [
    "reg.fit(X_train,Y_train)\n",
    "Y_pred_overall = reg.predict(X)\n",
    "print(\"Classification report : \")\n",
    "print(classification_report(classification(Y), classification(Y_pred_overall)))"
   ]
  },
  {
   "cell_type": "markdown",
   "id": "fe3572a2",
   "metadata": {},
   "source": [
    "### Proposed Model"
   ]
  },
  {
   "cell_type": "code",
   "execution_count": 27,
   "id": "227b00fd",
   "metadata": {},
   "outputs": [
    {
     "name": "stdout",
     "output_type": "stream",
     "text": [
      "Classification report : \n",
      "              precision    recall  f1-score   support\n",
      "\n",
      "           0       0.95      0.87      0.91      1032\n",
      "           1       0.17      0.35      0.23        77\n",
      "\n",
      "    accuracy                           0.84      1109\n",
      "   macro avg       0.56      0.61      0.57      1109\n",
      "weighted avg       0.89      0.84      0.86      1109\n",
      "\n"
     ]
    }
   ],
   "source": [
    "Y_pred = []\n",
    "for features in X:\n",
    "    tot = 0\n",
    "    for (i, wt) in zip(list_keys, norm_d):\n",
    "        tot = tot + features[i] * wt\n",
    "    Y_pred.append(tot)\n",
    "Y_pred = [(float(i)-min(Y_pred))/(max(Y_pred)-min(Y_pred)) for i in Y_pred]\n",
    "print(\"Classification report : \")\n",
    "print(classification_report(classification(Y), classification(Y_pred)))"
   ]
  },
  {
   "cell_type": "markdown",
   "id": "c99001d3",
   "metadata": {},
   "source": [
    "### Applying classification models to the proposed model(5 selected features)"
   ]
  },
  {
   "cell_type": "code",
   "execution_count": 7,
   "id": "64aae14c",
   "metadata": {},
   "outputs": [],
   "source": [
    "from imblearn.over_sampling import SMOTE"
   ]
  },
  {
   "cell_type": "code",
   "execution_count": 8,
   "id": "07f8fe03",
   "metadata": {},
   "outputs": [
    {
     "name": "stdout",
     "output_type": "stream",
     "text": [
      "Classification report : \n",
      "              precision    recall  f1-score   support\n",
      "\n",
      "           0       0.60      0.92      0.72       208\n",
      "           1       0.82      0.38      0.51       208\n",
      "\n",
      "    accuracy                           0.65       416\n",
      "   macro avg       0.71      0.65      0.62       416\n",
      "weighted avg       0.71      0.65      0.62       416\n",
      "\n"
     ]
    }
   ],
   "source": [
    "acc_scores = []\n",
    "f1_scores = []\n",
    "sm = SMOTE(random_state = 2)\n",
    "from sklearn.naive_bayes import GaussianNB, ComplementNB\n",
    "clf = GaussianNB()\n",
    "Y_train_clf = classification(Y_train)\n",
    "Y_test_clf = classification(Y_test)\n",
    "X_train_res, y_train_res = sm.fit_resample(X_train_for_multiple, np.array(Y_train_clf).ravel())\n",
    "X_test_res, y_test_res = sm.fit_resample(X_test_for_multiple, np.array(Y_test_clf).ravel())\n",
    "clf.fit(X_train_res, y_train_res)\n",
    "Y_pred = clf.predict(X_test_res)\n",
    "\n",
    "from sklearn.metrics import f1_score,accuracy_score,classification_report\n",
    "print(\"Classification report : \")\n",
    "print(classification_report(y_test_res, classification(Y_pred)))\n",
    "\n",
    "acc_scores.append(accuracy_score(y_test_res, classification(Y_pred)))\n",
    "f1_scores.append(f1_score(y_test_res, classification(Y_pred), average='weighted'))"
   ]
  },
  {
   "cell_type": "code",
   "execution_count": 9,
   "id": "7cac3603",
   "metadata": {},
   "outputs": [
    {
     "name": "stdout",
     "output_type": "stream",
     "text": [
      "Classification report : \n",
      "              precision    recall  f1-score   support\n",
      "\n",
      "           0       0.96      0.94      0.95       208\n",
      "           1       0.28      0.36      0.31        14\n",
      "\n",
      "    accuracy                           0.90       222\n",
      "   macro avg       0.62      0.65      0.63       222\n",
      "weighted avg       0.91      0.90      0.91       222\n",
      "\n"
     ]
    }
   ],
   "source": [
    "acc_scores = []\n",
    "f1_scores = []\n",
    "\n",
    "from sklearn.naive_bayes import GaussianNB, ComplementNB\n",
    "clf = GaussianNB()\n",
    "Y_train_clf = classification(Y_train)\n",
    "Y_test_clf = classification(Y_test)\n",
    "clf.fit(X_train_for_multiple, Y_train_clf)\n",
    "Y_pred = clf.predict(X_test_for_multiple)\n",
    "\n",
    "from sklearn.metrics import f1_score,accuracy_score,classification_report\n",
    "print(\"Classification report : \")\n",
    "print(classification_report(Y_test_clf, classification(Y_pred)))\n",
    "\n",
    "acc_scores.append(accuracy_score(Y_test_clf, classification(Y_pred)))\n",
    "f1_scores.append(f1_score(Y_test_clf, classification(Y_pred), average = 'weighted'))"
   ]
  },
  {
   "cell_type": "code",
   "execution_count": 10,
   "id": "c4a434a2",
   "metadata": {},
   "outputs": [
    {
     "name": "stdout",
     "output_type": "stream",
     "text": [
      "Classification report : \n",
      "              precision    recall  f1-score   support\n",
      "\n",
      "           0       0.60      0.95      0.74       208\n",
      "           1       0.88      0.37      0.52       208\n",
      "\n",
      "    accuracy                           0.66       416\n",
      "   macro avg       0.74      0.66      0.63       416\n",
      "weighted avg       0.74      0.66      0.63       416\n",
      "\n"
     ]
    }
   ],
   "source": [
    "from sklearn.tree import DecisionTreeClassifier\n",
    "clf = DecisionTreeClassifier(criterion = \"entropy\", splitter=\"random\",min_samples_split=3)\n",
    "Y_train_clf = classification(Y_train)\n",
    "Y_test_clf = classification(Y_test)\n",
    "X_train_res, y_train_res = sm.fit_resample(X_train_for_multiple, np.array(Y_train_clf).ravel())\n",
    "X_test_res, y_test_res = sm.fit_resample(X_test_for_multiple, np.array(Y_test_clf).ravel())\n",
    "clf.fit(X_train_res, y_train_res)\n",
    "Y_pred = clf.predict(X_test_res)\n",
    "\n",
    "from sklearn.metrics import f1_score,accuracy_score,classification_report\n",
    "print(\"Classification report : \")\n",
    "print(classification_report(y_test_res, classification(Y_pred)))\n",
    "\n",
    "acc_scores.append(accuracy_score(y_test_res, classification(Y_pred)))\n",
    "f1_scores.append(f1_score(y_test_res, classification(Y_pred), average='weighted'))"
   ]
  },
  {
   "cell_type": "code",
   "execution_count": 11,
   "id": "1d765b78",
   "metadata": {},
   "outputs": [
    {
     "name": "stdout",
     "output_type": "stream",
     "text": [
      "Classification report : \n",
      "              precision    recall  f1-score   support\n",
      "\n",
      "           0       0.96      0.95      0.95       208\n",
      "           1       0.33      0.36      0.34        14\n",
      "\n",
      "    accuracy                           0.91       222\n",
      "   macro avg       0.64      0.65      0.65       222\n",
      "weighted avg       0.92      0.91      0.92       222\n",
      "\n"
     ]
    }
   ],
   "source": [
    "from sklearn.tree import DecisionTreeClassifier\n",
    "clf = DecisionTreeClassifier(criterion = \"entropy\", splitter=\"random\",min_samples_split=3)\n",
    "clf.fit(X_train_for_multiple, Y_train_clf)\n",
    "Y_pred = clf.predict(X_test_for_multiple)\n",
    "print(\"Classification report : \")\n",
    "print(classification_report(Y_test_clf, classification(Y_pred)))\n",
    "acc_scores.append(accuracy_score(Y_test_clf, classification(Y_pred)))\n",
    "f1_scores.append(f1_score(Y_test_clf, classification(Y_pred), average = 'weighted'))"
   ]
  },
  {
   "cell_type": "code",
   "execution_count": 12,
   "id": "55e6d273",
   "metadata": {},
   "outputs": [
    {
     "name": "stdout",
     "output_type": "stream",
     "text": [
      "Classification report : \n",
      "              precision    recall  f1-score   support\n",
      "\n",
      "           0       0.60      0.87      0.71       208\n",
      "           1       0.76      0.43      0.55       208\n",
      "\n",
      "    accuracy                           0.65       416\n",
      "   macro avg       0.68      0.65      0.63       416\n",
      "weighted avg       0.68      0.65      0.63       416\n",
      "\n"
     ]
    }
   ],
   "source": [
    "from sklearn.linear_model import LogisticRegression\n",
    "clf = LogisticRegression(solver='saga', penalty = 'l2', C = 0.1, random_state=10)\n",
    "Y_train_clf = classification(Y_train)\n",
    "Y_test_clf = classification(Y_test)\n",
    "X_train_res, y_train_res = sm.fit_resample(X_train_for_multiple, np.array(Y_train_clf).ravel())\n",
    "X_test_res, y_test_res = sm.fit_resample(X_test_for_multiple, np.array(Y_test_clf).ravel())\n",
    "clf.fit(X_train_res, y_train_res)\n",
    "Y_pred = clf.predict(X_test_res)\n",
    "\n",
    "from sklearn.metrics import f1_score,accuracy_score,classification_report\n",
    "print(\"Classification report : \")\n",
    "print(classification_report(y_test_res, classification(Y_pred)))\n",
    "\n",
    "acc_scores.append(accuracy_score(y_test_res, classification(Y_pred)))\n",
    "f1_scores.append(f1_score(y_test_res, classification(Y_pred), average='weighted'))"
   ]
  },
  {
   "cell_type": "code",
   "execution_count": 38,
   "id": "38756a44",
   "metadata": {},
   "outputs": [
    {
     "name": "stdout",
     "output_type": "stream",
     "text": [
      "Classification report : \n",
      "              precision    recall  f1-score   support\n",
      "\n",
      "           0       0.94      1.00      0.97       208\n",
      "           1       0.00      0.00      0.00        14\n",
      "\n",
      "    accuracy                           0.94       222\n",
      "   macro avg       0.47      0.50      0.48       222\n",
      "weighted avg       0.88      0.94      0.91       222\n",
      "\n"
     ]
    },
    {
     "name": "stderr",
     "output_type": "stream",
     "text": [
      "C:\\ProgramData\\Anaconda3\\lib\\site-packages\\sklearn\\metrics\\_classification.py:1245: UndefinedMetricWarning: Precision and F-score are ill-defined and being set to 0.0 in labels with no predicted samples. Use `zero_division` parameter to control this behavior.\n",
      "  _warn_prf(average, modifier, msg_start, len(result))\n",
      "C:\\ProgramData\\Anaconda3\\lib\\site-packages\\sklearn\\metrics\\_classification.py:1245: UndefinedMetricWarning: Precision and F-score are ill-defined and being set to 0.0 in labels with no predicted samples. Use `zero_division` parameter to control this behavior.\n",
      "  _warn_prf(average, modifier, msg_start, len(result))\n",
      "C:\\ProgramData\\Anaconda3\\lib\\site-packages\\sklearn\\metrics\\_classification.py:1245: UndefinedMetricWarning: Precision and F-score are ill-defined and being set to 0.0 in labels with no predicted samples. Use `zero_division` parameter to control this behavior.\n",
      "  _warn_prf(average, modifier, msg_start, len(result))\n"
     ]
    }
   ],
   "source": [
    "from sklearn.linear_model import LogisticRegression\n",
    "clf = LogisticRegression(solver='saga', penalty = 'l2', C = 0.1, random_state=10)\n",
    "clf.fit(X_train_for_multiple, Y_train_clf)\n",
    "Y_pred = clf.predict(X_test_for_multiple)\n",
    "print(\"Classification report : \")\n",
    "print(classification_report(Y_test_clf, classification(Y_pred)))\n",
    "acc_scores.append(accuracy_score(Y_test_clf, classification(Y_pred)))\n",
    "f1_scores.append(f1_score(Y_test_clf, classification(Y_pred), average = 'weighted'))"
   ]
  },
  {
   "cell_type": "code",
   "execution_count": 39,
   "id": "70e090ff",
   "metadata": {},
   "outputs": [
    {
     "name": "stdout",
     "output_type": "stream",
     "text": [
      "Classification report : \n",
      "              precision    recall  f1-score   support\n",
      "\n",
      "           0       0.94      1.00      0.97       208\n",
      "           1       0.00      0.00      0.00        14\n",
      "\n",
      "    accuracy                           0.94       222\n",
      "   macro avg       0.47      0.50      0.48       222\n",
      "weighted avg       0.88      0.94      0.91       222\n",
      "\n"
     ]
    },
    {
     "name": "stderr",
     "output_type": "stream",
     "text": [
      "C:\\ProgramData\\Anaconda3\\lib\\site-packages\\sklearn\\metrics\\_classification.py:1245: UndefinedMetricWarning: Precision and F-score are ill-defined and being set to 0.0 in labels with no predicted samples. Use `zero_division` parameter to control this behavior.\n",
      "  _warn_prf(average, modifier, msg_start, len(result))\n",
      "C:\\ProgramData\\Anaconda3\\lib\\site-packages\\sklearn\\metrics\\_classification.py:1245: UndefinedMetricWarning: Precision and F-score are ill-defined and being set to 0.0 in labels with no predicted samples. Use `zero_division` parameter to control this behavior.\n",
      "  _warn_prf(average, modifier, msg_start, len(result))\n",
      "C:\\ProgramData\\Anaconda3\\lib\\site-packages\\sklearn\\metrics\\_classification.py:1245: UndefinedMetricWarning: Precision and F-score are ill-defined and being set to 0.0 in labels with no predicted samples. Use `zero_division` parameter to control this behavior.\n",
      "  _warn_prf(average, modifier, msg_start, len(result))\n"
     ]
    }
   ],
   "source": [
    "from sklearn.neighbors import KNeighborsClassifier\n",
    "clf = KNeighborsClassifier(n_neighbors=35)\n",
    "clf.fit(X_train_for_multiple, Y_train_clf)\n",
    "Y_pred = clf.predict(X_test_for_multiple)\n",
    "print(\"Classification report : \")\n",
    "print(classification_report(Y_test_clf, classification(Y_pred)))\n",
    "\n",
    "acc_scores.append(accuracy_score(Y_test_clf, classification(Y_pred)))\n",
    "f1_scores.append(f1_score(Y_test_clf, classification(Y_pred), average = 'weighted'))"
   ]
  },
  {
   "cell_type": "code",
   "execution_count": 40,
   "id": "72a3c0ac",
   "metadata": {
    "scrolled": true
   },
   "outputs": [
    {
     "name": "stdout",
     "output_type": "stream",
     "text": [
      "Classification report : \n",
      "              precision    recall  f1-score   support\n",
      "\n",
      "           0       0.95      0.98      0.96       208\n",
      "           1       0.44      0.29      0.35        14\n",
      "\n",
      "    accuracy                           0.93       222\n",
      "   macro avg       0.70      0.63      0.66       222\n",
      "weighted avg       0.92      0.93      0.93       222\n",
      "\n"
     ]
    }
   ],
   "source": [
    "from sklearn.ensemble import RandomForestClassifier\n",
    "rfs = RandomForestClassifier(n_estimators=300, criterion = \"gini\")\n",
    "rfs.fit(X_train_for_multiple, Y_train_clf)\n",
    "Y_pred = rfs.predict(X_test_for_multiple)\n",
    "print(\"Classification report : \")\n",
    "print(classification_report(Y_test_clf, classification(Y_pred)))\n",
    "acc_scores.append(accuracy_score(Y_test_clf, classification(Y_pred)))\n",
    "f1_scores.append(f1_score(Y_test_clf, classification(Y_pred), average = 'weighted'))"
   ]
  },
  {
   "cell_type": "code",
   "execution_count": 41,
   "id": "e71f9e8b",
   "metadata": {},
   "outputs": [
    {
     "data": {
      "image/png": "[encoded data removed]",
      "text/plain": [
       "<Figure size 432x288 with 1 Axes>"
      ]
     },
     "metadata": {
      "needs_background": "light"
     },
     "output_type": "display_data"
    }
   ],
   "source": [
    "X = [\"NB\", \"DT\",\"Logistic\", \"KNN\", \"RF\"]\n",
    "X_axis = np.arange(len(X))\n",
    "  \n",
    "plt.bar(X_axis - 0.2, acc_scores, 0.4, label = 'Accuracy')\n",
    "plt.bar(X_axis + 0.2, f1_scores, 0.4, label = 'F1 Score')\n",
    "plt.xticks(X_axis, X)\n",
    "plt.xlabel(\"Classification Techniques\")\n",
    "plt.ylabel(\"Value\")\n",
    "plt.title(\"Evaluation of Classification Models\")\n",
    "plt.legend(bbox_to_anchor =(1.3, 1.0))\n",
    "plt.show()"
   ]
  },
  {
   "cell_type": "code",
   "execution_count": 42,
   "id": "a02cb8b5",
   "metadata": {},
   "outputs": [
    {
     "data": {
      "text/plain": [
       "5"
      ]
     },
     "execution_count": 42,
     "metadata": {},
     "output_type": "execute_result"
    }
   ],
   "source": [
    "len(acc_scores)"
   ]
  }
 ],
 "metadata": {
  "interpreter": {
   "hash": "b3ba2566441a7c06988d0923437866b63cedc61552a5af99d1f4fb67d367b25f"
  },
  "kernelspec": {
   "display_name": "Python 3",
   "language": "python",
   "name": "python3"
  },
  "language_info": {
   "codemirror_mode": {
    "name": "ipython",
    "version": 3
   },
   "file_extension": ".py",
   "mimetype": "text/x-python",
   "name": "python",
   "nbconvert_exporter": "python",
   "pygments_lexer": "ipython3",
   "version": "3.8.8"
  }
 },
 "nbformat": 4,
 "nbformat_minor": 5
}
