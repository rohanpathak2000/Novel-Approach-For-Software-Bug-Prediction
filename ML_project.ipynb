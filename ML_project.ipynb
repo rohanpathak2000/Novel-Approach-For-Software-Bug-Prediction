{
 "cells": [
  {
   "cell_type": "code",
   "execution_count": 1,
   "id": "f05cc379",
   "metadata": {},
   "outputs": [],
   "source": [
    "import pandas as pd\n",
    "import numpy as np "
   ]
  },
  {
   "cell_type": "markdown",
   "id": "01158b77",
   "metadata": {},
   "source": [
    "### Merging different sets of metrics in one dataframe"
   ]
  },
  {
   "cell_type": "code",
   "execution_count": 2,
   "id": "673b9e00",
   "metadata": {},
   "outputs": [],
   "source": [
    "df1 = pd.read_csv('bug-metrics.csv')\n",
    "df1 = df1.drop(columns = ['nonTrivialBugs', 'majorBugs', 'criticalBugs', 'highPriorityBugs'])\n",
    "df2 = pd.read_csv('change-metrics.csv')\n",
    "df2 = df2.drop(columns = ['nonTrivialBugs', 'majorBugs', 'criticalBugs', 'highPriorityBugs'])\n",
    "df = pd.merge(df1, df2, on = ['classname','bugs'])\n",
    "df3 = pd.read_csv('lin-ent.csv')\n",
    "df3 = df3.drop(columns = ['nonTrivialBugs', 'majorBugs', 'criticalBugs', 'highPriorityBugs'])\n",
    "df = pd.merge(df, df3, on = ['classname', 'bugs'] )\n",
    "df4 = pd.read_csv('complexity-code-change.csv')\n",
    "df = pd.merge(df, df4, on='classname')"
   ]
  },
  {
   "cell_type": "markdown",
   "id": "d8b92f69",
   "metadata": {},
   "source": [
    "### Separating features and target and feature scaling"
   ]
  },
  {
   "cell_type": "code",
   "execution_count": 3,
   "id": "4b8b0d4b",
   "metadata": {},
   "outputs": [],
   "source": [
    "from sklearn.preprocessing import MinMaxScaler\n",
    "\n",
    "# --> Debugging statements\n",
    "\n",
    "from sklearn.model_selection import train_test_split\n",
    "##print(df.columns)\n",
    "\n",
    "# classname has no use and the unnamed column was created due to a wrongly placed space\n",
    "# will clear it in the future\n",
    "df = df.drop(columns=['classname'])\n",
    "\n",
    "##print(df.dtypes)\n",
    "df.dropna()\n",
    "\n",
    "#Removing the actual bug count column to extract the metrics\n",
    "X = df.loc[:, df.columns != 'bugs']\n",
    "Y = df['bugs']\n",
    "\n",
    "##print(X.dtypes)\n",
    "\n",
    "X = X.apply(pd.to_numeric)\n",
    "##print(X.head())\n",
    "X_asDF = X\n",
    "\n",
    "# Feature Scaling\n",
    "scaler = MinMaxScaler()\n",
    "X = scaler.fit_transform(X)\n",
    "\n",
    "Y = [(float(i)-min(Y))/(max(Y)-min(Y)) for i in Y]"
   ]
  },
  {
   "cell_type": "markdown",
   "id": "7d54f1e5",
   "metadata": {},
   "source": [
    "### Extracting top 5 metrics and calculating Ru"
   ]
  },
  {
   "cell_type": "code",
   "execution_count": 4,
   "id": "bf2ddb4b",
   "metadata": {
    "scrolled": false
   },
   "outputs": [
    {
     "name": "stdout",
     "output_type": "stream",
     "text": [
      "0.5490264761576464\n"
     ]
    }
   ],
   "source": [
    "X_train, X_test, Y_train, Y_test = train_test_split(X, Y, test_size=0.2, random_state=1)\n",
    "feature_scores = {}\n",
    "r_scores = []\n",
    "\n",
    "from sklearn.linear_model import LinearRegression\n",
    "import operator\n",
    "\n",
    "reg = LinearRegression()\n",
    "\n",
    "for i in range(X_train.shape[1]):\n",
    "    reg.fit(X_train[:,i].reshape(-1,1),Y_train)\n",
    "    feature_scores[i] = reg.score(X_train[:,i].reshape(-1,1),Y_train)\n",
    "\n",
    "sorted_feature_scores = dict( sorted(feature_scores.items(), key=operator.itemgetter(1),reverse=True))\n",
    "\n",
    "\n",
    "dict_items = sorted_feature_scores.items()\n",
    "\n",
    "top_n_metrics = list(dict_items)[:5]\n",
    "#print(top_n_metrics)\n",
    "#print(X_asDF.columns[top_n_metrics[0][0]])\n",
    "\n",
    "list_keys = [x[0] for x in top_n_metrics]\n",
    "#print(list_keys)\n",
    "X_train_for_multiple  = X_train[:,list_keys]\n",
    "X_test_for_multiple  = X_test[:,list_keys]\n",
    "reg.fit(X_train_for_multiple, Y_train)\n",
    "\n",
    "rU = reg.score(X_train_for_multiple, Y_train)\n",
    "print(rU)"
   ]
  },
  {
   "cell_type": "markdown",
   "id": "a4b1fd1f",
   "metadata": {},
   "source": [
    "### Calculating weights for the selected features"
   ]
  },
  {
   "cell_type": "code",
   "execution_count": 5,
   "id": "ffb6d8ef",
   "metadata": {},
   "outputs": [
    {
     "name": "stdout",
     "output_type": "stream",
     "text": [
      "0.5404712079771785\n",
      "0.5421514586147131\n",
      "0.5458549186309055\n",
      "0.548752196228031\n",
      "0.546266253482119\n"
     ]
    }
   ],
   "source": [
    "d = []\n",
    "for i in list_keys:\n",
    "    remaining_features = [j for j in list_keys if j != i ]\n",
    "    X_train_remaining = X_train[:,remaining_features]\n",
    "    # X_test_remaining = X_test[:,remaining_features]\n",
    "    reg.fit(X_train_remaining, Y_train)\n",
    "    train_score = reg.score(X_train_remaining, Y_train)\n",
    "    print(train_score)\n",
    "    d.append(rU-train_score)"
   ]
  },
  {
   "cell_type": "markdown",
   "id": "bb0bcf9f",
   "metadata": {},
   "source": [
    "### Normalising weights for and predicting the bug proneness index"
   ]
  },
  {
   "cell_type": "code",
   "execution_count": 6,
   "id": "9ea56fd3",
   "metadata": {},
   "outputs": [
    {
     "name": "stdout",
     "output_type": "stream",
     "text": [
      "[1.0, 0.7970953965111994, 0.3498709947846131, 0.0, 0.30019880123076625]\n"
     ]
    }
   ],
   "source": [
    "norm_d = [(float(i)-min(d))/(max(d)-min(d)) for i in d]\n",
    "print(norm_d)\n",
    "#Weights should be mapped to elements in the list_keys\n",
    "#norm_d are the normalized weights of the n metrics\n",
    "\n",
    "Y_pred = []\n",
    "\n",
    "#print(list_keys)\n",
    "for features_test in X_test:\n",
    "    tot = 0\n",
    "    for (i, wt) in zip(list_keys, norm_d):\n",
    "        tot = tot + features_test[i] * wt\n",
    "    Y_pred.append(tot)\n",
    "    \n",
    "  "
   ]
  },
  {
   "cell_type": "markdown",
   "id": "a16e0b0a",
   "metadata": {},
   "source": [
    "### Printing the predicted and the actual target"
   ]
  },
  {
   "cell_type": "code",
   "execution_count": 7,
   "id": "04006f01",
   "metadata": {},
   "outputs": [
    {
     "name": "stdout",
     "output_type": "stream",
     "text": [
      "0.5328 - 0.1111\n",
      "\n",
      "0.0169 - 0.0\n",
      "\n",
      "0.185 - 0.0\n",
      "\n",
      "0.0 - 0.0\n",
      "\n",
      "0.0128 - 0.0\n",
      "\n",
      "0.0006 - 0.0\n",
      "\n",
      "0.0047 - 0.0\n",
      "\n",
      "0.0874 - 0.1111\n",
      "\n",
      "0.0024 - 0.0\n",
      "\n",
      "0.0349 - 0.0\n",
      "\n",
      "0.0071 - 0.0\n",
      "\n",
      "0.0196 - 0.0\n",
      "\n",
      "0.0 - 0.1111\n",
      "\n",
      "0.0 - 0.0\n",
      "\n",
      "0.0131 - 0.0\n",
      "\n",
      "0.0071 - 0.1111\n",
      "\n",
      "0.0172 - 0.0\n",
      "\n",
      "0.0101 - 0.0\n",
      "\n",
      "0.0508 - 0.0\n",
      "\n",
      "0.0 - 0.0\n",
      "\n",
      "0.0024 - 0.0\n",
      "\n",
      "0.0192 - 0.0\n",
      "\n",
      "0.0573 - 0.2222\n",
      "\n",
      "0.0024 - 0.0\n",
      "\n",
      "0.0139 - 0.0\n",
      "\n",
      "0.0 - 0.0\n",
      "\n",
      "0.0406 - 0.0\n",
      "\n",
      "0.1552 - 0.0\n",
      "\n",
      "0.0024 - 0.0\n",
      "\n",
      "0.0965 - 0.0\n",
      "\n",
      "0.0 - 0.0\n",
      "\n",
      "0.0024 - 0.0\n",
      "\n",
      "0.0144 - 0.0\n",
      "\n",
      "0.0518 - 0.0\n",
      "\n",
      "0.1261 - 0.0\n",
      "\n",
      "0.0213 - 0.0\n",
      "\n",
      "0.0077 - 0.0\n",
      "\n",
      "0.0342 - 0.0\n",
      "\n",
      "0.0024 - 0.0\n",
      "\n",
      "0.0 - 0.0\n",
      "\n",
      "0.0 - 0.2222\n",
      "\n",
      "0.0231 - 0.0\n",
      "\n",
      "0.1525 - 0.0\n",
      "\n",
      "0.0676 - 0.0\n",
      "\n",
      "0.1014 - 0.0\n",
      "\n",
      "0.0102 - 0.0\n",
      "\n",
      "0.1016 - 0.1111\n",
      "\n",
      "0.032 - 0.0\n",
      "\n",
      "0.277 - 0.4444\n",
      "\n",
      "0.1871 - 0.4444\n",
      "\n",
      "0.0238 - 0.1111\n",
      "\n",
      "0.0359 - 0.1111\n",
      "\n",
      "0.0071 - 0.0\n",
      "\n",
      "0.0 - 0.0\n",
      "\n",
      "0.0179 - 0.0\n",
      "\n",
      "0.0449 - 0.0\n",
      "\n",
      "0.0 - 0.0\n",
      "\n",
      "0.0439 - 0.0\n",
      "\n",
      "0.0125 - 0.1111\n",
      "\n",
      "0.1912 - 0.2222\n",
      "\n",
      "0.0 - 0.0\n",
      "\n",
      "0.1995 - 0.5556\n",
      "\n",
      "0.0366 - 0.0\n",
      "\n",
      "0.0 - 0.0\n",
      "\n",
      "0.0256 - 0.0\n",
      "\n",
      "0.4213 - 0.1111\n",
      "\n",
      "0.0136 - 0.0\n",
      "\n",
      "0.0095 - 0.0\n",
      "\n",
      "0.0 - 0.0\n",
      "\n",
      "0.0047 - 0.0\n",
      "\n",
      "0.106 - 0.1111\n",
      "\n",
      "0.0663 - 0.0\n",
      "\n",
      "0.3281 - 0.3333\n",
      "\n",
      "0.0024 - 0.0\n",
      "\n",
      "0.0 - 0.0\n",
      "\n",
      "0.0 - 0.0\n",
      "\n",
      "0.0 - 0.1111\n",
      "\n",
      "0.1445 - 0.1111\n",
      "\n",
      "0.0172 - 0.0\n",
      "\n",
      "0.008 - 0.1111\n",
      "\n",
      "0.0172 - 0.0\n",
      "\n",
      "0.058 - 0.0\n",
      "\n",
      "0.0351 - 0.0\n",
      "\n",
      "0.0314 - 0.0\n",
      "\n",
      "0.0378 - 0.0\n",
      "\n",
      "0.0312 - 0.0\n",
      "\n",
      "0.2194 - 0.0\n",
      "\n",
      "0.0172 - 0.0\n",
      "\n",
      "0.0162 - 0.0\n",
      "\n",
      "0.0 - 0.0\n",
      "\n",
      "0.0299 - 0.0\n",
      "\n",
      "0.0024 - 0.0\n",
      "\n",
      "0.0042 - 0.0\n",
      "\n",
      "0.0125 - 0.0\n",
      "\n",
      "0.0496 - 0.0\n",
      "\n",
      "0.0121 - 0.0\n",
      "\n",
      "0.0077 - 0.0\n",
      "\n",
      "0.0006 - 0.0\n",
      "\n",
      "0.1186 - 0.2222\n",
      "\n",
      "0.1599 - 0.1111\n",
      "\n",
      "0.0006 - 0.0\n",
      "\n",
      "0.0517 - 0.0\n",
      "\n",
      "0.1166 - 0.0\n",
      "\n",
      "0.0125 - 0.0\n",
      "\n",
      "0.0283 - 0.0\n",
      "\n",
      "0.0024 - 0.1111\n",
      "\n",
      "0.0024 - 0.0\n",
      "\n",
      "0.0446 - 0.2222\n",
      "\n",
      "0.0134 - 0.0\n",
      "\n",
      "0.0102 - 0.0\n",
      "\n",
      "0.0828 - 0.0\n",
      "\n",
      "0.1146 - 0.1111\n",
      "\n",
      "0.0887 - 0.0\n",
      "\n",
      "0.0024 - 0.0\n",
      "\n",
      "0.0024 - 0.0\n",
      "\n",
      "0.1229 - 0.1111\n",
      "\n",
      "0.0 - 0.0\n",
      "\n",
      "0.0102 - 0.0\n",
      "\n",
      "0.0106 - 0.0\n",
      "\n",
      "0.0334 - 0.0\n",
      "\n",
      "0.0024 - 0.0\n",
      "\n",
      "0.0188 - 0.0\n",
      "\n",
      "0.0182 - 0.0\n",
      "\n",
      "0.0684 - 0.2222\n",
      "\n",
      "0.0398 - 0.0\n",
      "\n",
      "0.011 - 0.1111\n",
      "\n",
      "0.005 - 0.0\n",
      "\n",
      "0.0719 - 0.0\n",
      "\n",
      "0.009 - 0.0\n",
      "\n",
      "0.0111 - 0.0\n",
      "\n",
      "0.113 - 0.2222\n",
      "\n",
      "0.0164 - 0.0\n",
      "\n",
      "0.0169 - 0.0\n",
      "\n",
      "0.3009 - 0.1111\n",
      "\n",
      "0.0088 - 0.0\n",
      "\n",
      "0.0699 - 0.0\n",
      "\n",
      "0.0627 - 0.0\n",
      "\n",
      "0.0454 - 0.0\n",
      "\n",
      "0.0036 - 0.0\n",
      "\n",
      "0.0952 - 0.1111\n",
      "\n",
      "0.0229 - 0.1111\n",
      "\n",
      "0.0 - 0.0\n",
      "\n",
      "0.2608 - 0.0\n",
      "\n",
      "0.0024 - 0.0\n",
      "\n",
      "0.0092 - 0.0\n",
      "\n",
      "0.0359 - 0.0\n",
      "\n",
      "0.0 - 0.0\n",
      "\n",
      "0.0024 - 0.0\n",
      "\n",
      "0.0137 - 0.0\n",
      "\n",
      "0.0308 - 0.0\n",
      "\n",
      "0.0047 - 0.0\n",
      "\n",
      "0.0604 - 0.0\n",
      "\n",
      "0.0539 - 0.0\n",
      "\n",
      "0.0024 - 0.0\n",
      "\n",
      "0.0238 - 0.1111\n",
      "\n",
      "0.0064 - 0.0\n",
      "\n",
      "0.1478 - 0.0\n",
      "\n",
      "0.0196 - 0.0\n",
      "\n",
      "0.0522 - 0.2222\n",
      "\n",
      "0.0047 - 0.0\n",
      "\n",
      "0.0264 - 0.0\n",
      "\n",
      "0.0685 - 0.0\n",
      "\n",
      "0.0334 - 0.0\n",
      "\n",
      "0.0047 - 0.0\n",
      "\n",
      "0.0135 - 0.0\n",
      "\n",
      "0.0071 - 0.0\n",
      "\n",
      "0.0612 - 0.0\n",
      "\n",
      "0.0908 - 0.0\n",
      "\n",
      "0.3781 - 0.4444\n",
      "\n",
      "0.044 - 0.0\n",
      "\n",
      "0.0997 - 0.0\n",
      "\n",
      "0.028 - 0.0\n",
      "\n",
      "0.006 - 0.0\n",
      "\n",
      "0.268 - 0.1111\n",
      "\n",
      "1.0 - 0.7778\n",
      "\n",
      "0.0 - 0.0\n",
      "\n",
      "0.0024 - 0.0\n",
      "\n",
      "0.0393 - 0.0\n",
      "\n",
      "0.037 - 0.0\n",
      "\n",
      "0.0 - 0.0\n",
      "\n",
      "0.0047 - 0.0\n",
      "\n",
      "0.4019 - 0.6667\n",
      "\n",
      "0.0097 - 0.0\n",
      "\n",
      "0.0148 - 0.0\n",
      "\n",
      "0.0453 - 0.0\n",
      "\n",
      "0.1097 - 0.0\n",
      "\n",
      "0.0144 - 0.0\n",
      "\n",
      "0.0452 - 0.0\n",
      "\n",
      "0.0232 - 0.0\n",
      "\n",
      "0.0225 - 0.0\n",
      "\n",
      "0.0069 - 0.0\n",
      "\n",
      "0.0 - 0.0\n",
      "\n",
      "0.0379 - 0.0\n",
      "\n",
      "0.0243 - 0.0\n",
      "\n",
      "0.1895 - 0.3333\n",
      "\n",
      "0.0054 - 0.0\n",
      "\n",
      "0.0772 - 0.0\n",
      "\n",
      "0.1258 - 0.3333\n",
      "\n",
      "0.0101 - 0.0\n",
      "\n",
      "0.1648 - 0.1111\n",
      "\n"
     ]
    }
   ],
   "source": [
    "## The paper doesn't mention normalising again but some values don't lie in the range of 0 to 1\n",
    "## Hence normalising again\n",
    "Y_pred = [(float(i)-min(Y_pred))/(max(Y_pred)-min(Y_pred)) for i in Y_pred]\n",
    "Y_pred_final = [round(i,4) for i in Y_pred]\n",
    "Y_test_final = [round(i,4) for i in Y_test]\n",
    "for(predicted, actual) in zip(Y_pred_final, Y_test_final):\n",
    "    print(f\"{predicted} - {actual}\") \n",
    "    print()"
   ]
  },
  {
   "cell_type": "code",
   "execution_count": 8,
   "id": "2e4b99e0",
   "metadata": {},
   "outputs": [
    {
     "name": "stdout",
     "output_type": "stream",
     "text": [
      "[0.5327692852842281, 0.01690233241257171, 0.18495033531538796, 0.0, 0.012806328811375587]\n"
     ]
    }
   ],
   "source": [
    "## For comparison and visualization \n",
    "# For Linear\n",
    "print(Y_pred[:5])"
   ]
  },
  {
   "cell_type": "code",
   "execution_count": 9,
   "id": "aec6b115",
   "metadata": {},
   "outputs": [
    {
     "name": "stdout",
     "output_type": "stream",
     "text": [
      "[0.1111111111111111, 0.0, 0.0, 0.0, 0.0, 0.0, 0.0, 0.1111111111111111, 0.0, 0.0, 0.0, 0.0, 0.1111111111111111, 0.0, 0.0, 0.1111111111111111, 0.0, 0.0, 0.0, 0.0]\n"
     ]
    }
   ],
   "source": [
    "print(Y_test[:20])"
   ]
  },
  {
   "cell_type": "code",
   "execution_count": 10,
   "id": "22d2897f",
   "metadata": {},
   "outputs": [
    {
     "data": {
      "text/html": [
       "<div>\n",
       "<style scoped>\n",
       "    .dataframe tbody tr th:only-of-type {\n",
       "        vertical-align: middle;\n",
       "    }\n",
       "\n",
       "    .dataframe tbody tr th {\n",
       "        vertical-align: top;\n",
       "    }\n",
       "\n",
       "    .dataframe thead th {\n",
       "        text-align: right;\n",
       "    }\n",
       "</style>\n",
       "<table border=\"1\" class=\"dataframe\">\n",
       "  <thead>\n",
       "    <tr style=\"text-align: right;\">\n",
       "      <th></th>\n",
       "      <th>numberOfBugsFoundUntil:</th>\n",
       "      <th>numberOfNonTrivialBugsFoundUntil:</th>\n",
       "      <th>numberOfMajorBugsFoundUntil:</th>\n",
       "      <th>numberOfCriticalBugsFoundUntil:</th>\n",
       "      <th>numberOfHighPriorityBugsFoundUntil:</th>\n",
       "      <th>bugs</th>\n",
       "      <th>numberOfVersionsUntil:</th>\n",
       "      <th>numberOfFixesUntil:</th>\n",
       "      <th>numberOfRefactoringsUntil:</th>\n",
       "      <th>numberOfAuthorsUntil:</th>\n",
       "      <th>...</th>\n",
       "      <th>numberOfPrivateMethods</th>\n",
       "      <th>numberOfPublicAttributes</th>\n",
       "      <th>numberOfPublicMethods</th>\n",
       "      <th>rfc</th>\n",
       "      <th>wmc</th>\n",
       "      <th>CvsEntropy</th>\n",
       "      <th>CvsWEntropy</th>\n",
       "      <th>CvsLinEntropy</th>\n",
       "      <th>CvsLogEntropy</th>\n",
       "      <th>CvsExpEntropy</th>\n",
       "    </tr>\n",
       "  </thead>\n",
       "  <tbody>\n",
       "    <tr>\n",
       "      <th>0</th>\n",
       "      <td>3</td>\n",
       "      <td>2</td>\n",
       "      <td>0</td>\n",
       "      <td>0</td>\n",
       "      <td>0</td>\n",
       "      <td>0</td>\n",
       "      <td>65</td>\n",
       "      <td>4</td>\n",
       "      <td>0</td>\n",
       "      <td>8</td>\n",
       "      <td>...</td>\n",
       "      <td>0.0</td>\n",
       "      <td>0.000000</td>\n",
       "      <td>0.000000</td>\n",
       "      <td>0.000000</td>\n",
       "      <td>0.000000</td>\n",
       "      <td>10.91310</td>\n",
       "      <td>0.008302</td>\n",
       "      <td>0.014767</td>\n",
       "      <td>0.253257</td>\n",
       "      <td>0.001125</td>\n",
       "    </tr>\n",
       "    <tr>\n",
       "      <th>1</th>\n",
       "      <td>0</td>\n",
       "      <td>0</td>\n",
       "      <td>0</td>\n",
       "      <td>0</td>\n",
       "      <td>0</td>\n",
       "      <td>0</td>\n",
       "      <td>2</td>\n",
       "      <td>0</td>\n",
       "      <td>0</td>\n",
       "      <td>2</td>\n",
       "      <td>...</td>\n",
       "      <td>0.0</td>\n",
       "      <td>0.000000</td>\n",
       "      <td>0.000000</td>\n",
       "      <td>0.000000</td>\n",
       "      <td>0.000000</td>\n",
       "      <td>1.10349</td>\n",
       "      <td>0.000657</td>\n",
       "      <td>0.001886</td>\n",
       "      <td>0.027116</td>\n",
       "      <td>0.000351</td>\n",
       "    </tr>\n",
       "    <tr>\n",
       "      <th>2</th>\n",
       "      <td>55</td>\n",
       "      <td>48</td>\n",
       "      <td>6</td>\n",
       "      <td>4</td>\n",
       "      <td>2</td>\n",
       "      <td>1</td>\n",
       "      <td>120</td>\n",
       "      <td>10</td>\n",
       "      <td>0</td>\n",
       "      <td>12</td>\n",
       "      <td>...</td>\n",
       "      <td>0.0</td>\n",
       "      <td>0.000000</td>\n",
       "      <td>0.000905</td>\n",
       "      <td>0.036114</td>\n",
       "      <td>0.041101</td>\n",
       "      <td>37.86060</td>\n",
       "      <td>0.228509</td>\n",
       "      <td>0.106180</td>\n",
       "      <td>1.028400</td>\n",
       "      <td>0.210412</td>\n",
       "    </tr>\n",
       "    <tr>\n",
       "      <th>3</th>\n",
       "      <td>3</td>\n",
       "      <td>3</td>\n",
       "      <td>0</td>\n",
       "      <td>0</td>\n",
       "      <td>0</td>\n",
       "      <td>0</td>\n",
       "      <td>28</td>\n",
       "      <td>4</td>\n",
       "      <td>0</td>\n",
       "      <td>5</td>\n",
       "      <td>...</td>\n",
       "      <td>0.0</td>\n",
       "      <td>0.000000</td>\n",
       "      <td>0.001756</td>\n",
       "      <td>0.002711</td>\n",
       "      <td>0.002314</td>\n",
       "      <td>5.86013</td>\n",
       "      <td>0.009105</td>\n",
       "      <td>0.010113</td>\n",
       "      <td>0.143680</td>\n",
       "      <td>0.003485</td>\n",
       "    </tr>\n",
       "    <tr>\n",
       "      <th>4</th>\n",
       "      <td>15</td>\n",
       "      <td>13</td>\n",
       "      <td>1</td>\n",
       "      <td>1</td>\n",
       "      <td>0</td>\n",
       "      <td>0</td>\n",
       "      <td>93</td>\n",
       "      <td>17</td>\n",
       "      <td>0</td>\n",
       "      <td>8</td>\n",
       "      <td>...</td>\n",
       "      <td>0.0</td>\n",
       "      <td>0.000695</td>\n",
       "      <td>0.000000</td>\n",
       "      <td>0.003749</td>\n",
       "      <td>0.001594</td>\n",
       "      <td>13.59600</td>\n",
       "      <td>0.016005</td>\n",
       "      <td>0.025751</td>\n",
       "      <td>0.338602</td>\n",
       "      <td>0.021378</td>\n",
       "    </tr>\n",
       "  </tbody>\n",
       "</table>\n",
       "<p>5 rows × 43 columns</p>\n",
       "</div>"
      ],
      "text/plain": [
       "   numberOfBugsFoundUntil:  numberOfNonTrivialBugsFoundUntil:  \\\n",
       "0                        3                                  2   \n",
       "1                        0                                  0   \n",
       "2                       55                                 48   \n",
       "3                        3                                  3   \n",
       "4                       15                                 13   \n",
       "\n",
       "   numberOfMajorBugsFoundUntil:  numberOfCriticalBugsFoundUntil:  \\\n",
       "0                             0                                0   \n",
       "1                             0                                0   \n",
       "2                             6                                4   \n",
       "3                             0                                0   \n",
       "4                             1                                1   \n",
       "\n",
       "   numberOfHighPriorityBugsFoundUntil:  bugs   numberOfVersionsUntil:   \\\n",
       "0                                    0     0                        65   \n",
       "1                                    0     0                         2   \n",
       "2                                    2     1                       120   \n",
       "3                                    0     0                        28   \n",
       "4                                    0     0                        93   \n",
       "\n",
       "    numberOfFixesUntil:    numberOfRefactoringsUntil:   \\\n",
       "0                      4                             0   \n",
       "1                      0                             0   \n",
       "2                     10                             0   \n",
       "3                      4                             0   \n",
       "4                     17                             0   \n",
       "\n",
       "    numberOfAuthorsUntil:   ...  numberOfPrivateMethods  \\\n",
       "0                        8  ...                     0.0   \n",
       "1                        2  ...                     0.0   \n",
       "2                       12  ...                     0.0   \n",
       "3                        5  ...                     0.0   \n",
       "4                        8  ...                     0.0   \n",
       "\n",
       "   numberOfPublicAttributes  numberOfPublicMethods       rfc       wmc  \\\n",
       "0                  0.000000               0.000000  0.000000  0.000000   \n",
       "1                  0.000000               0.000000  0.000000  0.000000   \n",
       "2                  0.000000               0.000905  0.036114  0.041101   \n",
       "3                  0.000000               0.001756  0.002711  0.002314   \n",
       "4                  0.000695               0.000000  0.003749  0.001594   \n",
       "\n",
       "   CvsEntropy  CvsWEntropy  CvsLinEntropy  CvsLogEntropy  CvsExpEntropy  \n",
       "0    10.91310     0.008302       0.014767       0.253257       0.001125  \n",
       "1     1.10349     0.000657       0.001886       0.027116       0.000351  \n",
       "2    37.86060     0.228509       0.106180       1.028400       0.210412  \n",
       "3     5.86013     0.009105       0.010113       0.143680       0.003485  \n",
       "4    13.59600     0.016005       0.025751       0.338602       0.021378  \n",
       "\n",
       "[5 rows x 43 columns]"
      ]
     },
     "execution_count": 10,
     "metadata": {},
     "output_type": "execute_result"
    }
   ],
   "source": [
    "df.head()"
   ]
  },
  {
   "cell_type": "markdown",
   "id": "6f04ae94",
   "metadata": {},
   "source": [
    "## Function to classify bug count to 0 or 1"
   ]
  },
  {
   "cell_type": "code",
   "execution_count": 11,
   "id": "e3557c0c",
   "metadata": {},
   "outputs": [],
   "source": [
    "def classification(to_convert):\n",
    "    final_list=[]\n",
    "    for i in to_convert:\n",
    "        if i>0.08:\n",
    "            final_list.append(1)\n",
    "        else:\n",
    "            final_list.append(0)\n",
    "    return final_list"
   ]
  },
  {
   "cell_type": "code",
   "execution_count": 12,
   "id": "526e917c",
   "metadata": {},
   "outputs": [],
   "source": [
    "Y_test_classified=classification(Y_test_final)\n",
    "Y_pred_classified=classification(Y_pred_final)"
   ]
  },
  {
   "cell_type": "code",
   "execution_count": 13,
   "id": "dbab6844",
   "metadata": {},
   "outputs": [
    {
     "name": "stdout",
     "output_type": "stream",
     "text": [
      "              precision    recall  f1-score   support\n",
      "\n",
      "           0       0.90      0.91      0.90       159\n",
      "           1       0.62      0.61      0.62        41\n",
      "\n",
      "    accuracy                           0.84       200\n",
      "   macro avg       0.76      0.76      0.76       200\n",
      "weighted avg       0.84      0.84      0.84       200\n",
      "\n"
     ]
    }
   ],
   "source": [
    "from sklearn.metrics import classification_report\n",
    "print(classification_report(Y_test_classified,Y_pred_classified))"
   ]
  },
  {
   "cell_type": "code",
   "execution_count": 14,
   "id": "8406a42e",
   "metadata": {},
   "outputs": [
    {
     "data": {
      "text/plain": [
       "<matplotlib.collections.PathCollection at 0x2d88bb4a910>"
      ]
     },
     "execution_count": 14,
     "metadata": {},
     "output_type": "execute_result"
    },
    {
     "data": {
      "image/png": "[encoded data removed]",
      "text/plain": [
       "<Figure size 432x288 with 1 Axes>"
      ]
     },
     "metadata": {
      "needs_background": "light"
     },
     "output_type": "display_data"
    }
   ],
   "source": [
    "# Plotting of simple linear regression model\n",
    "\n",
    "import matplotlib.pyplot as plt\n",
    "X_train_for_singlefeat = X_train[:,list_keys[0]]\n",
    "X_test_for_singlefeat = X_test[:,list_keys[0]]\n",
    "X_train_for_singlefeat = X_train_for_singlefeat.reshape(-1,1)\n",
    "reg.fit(X_train_for_singlefeat,Y_train)\n",
    "X_test_for_singlefeat_2d = X_test_for_singlefeat.reshape(-1,1)\n",
    "Y_Predicted = reg.predict(X_test_for_singlefeat_2d)\n",
    "#plt.scatter(X_test_for_singlefeat_2d,Y_test_final)\n",
    "plt.xlabel(\"Actual bug count\")\n",
    "plt.ylabel(\"Predicted bug index\")\n",
    "#Y_test_final_arr = np.array(Y_test_final)\n",
    "#slope,intercept = np.polyfit(Y_test_final_arr,Y_pred_final,1)\n",
    "#Y_intercept = slope*Y_test_final_arr + intercept\n",
    "#plt.plot(X_test_for_singlefeat_2d,Y_Predicted)\n",
    "plt.scatter(Y_test_final,Y_Predicted)"
   ]
  },
  {
   "cell_type": "code",
   "execution_count": 15,
   "id": "2adcf73e",
   "metadata": {},
   "outputs": [
    {
     "data": {
      "text/plain": [
       "<matplotlib.collections.PathCollection at 0x2d88bc44d90>"
      ]
     },
     "execution_count": 15,
     "metadata": {},
     "output_type": "execute_result"
    },
    {
     "data": {
      "image/png": "[encoded data removed]",
      "text/plain": [
       "<Figure size 432x288 with 1 Axes>"
      ]
     },
     "metadata": {
      "needs_background": "light"
     },
     "output_type": "display_data"
    }
   ],
   "source": [
    "# Plotting of multiple linear regression\n",
    "\n",
    "reg.fit(X_train,Y_train)\n",
    "Y_Pred_multiplereg = reg.predict(X_test)\n",
    "#plt.plot(Y_test,Y_Predicted_multiplereg)\n",
    "plt.scatter(Y_test,Y_Pred_multiplereg)"
   ]
  },
  {
   "cell_type": "code",
   "execution_count": 16,
   "id": "1fbf5ec5",
   "metadata": {},
   "outputs": [
    {
     "data": {
      "text/plain": [
       "<matplotlib.collections.PathCollection at 0x2d88bcaf400>"
      ]
     },
     "execution_count": 16,
     "metadata": {},
     "output_type": "execute_result"
    },
    {
     "data": {
      "image/png": "[encoded data removed]",
      "text/plain": [
       "<Figure size 432x288 with 1 Axes>"
      ]
     },
     "metadata": {
      "needs_background": "light"
     },
     "output_type": "display_data"
    }
   ],
   "source": [
    "# Plotting of prosposed model\n",
    "\n",
    "plt.scatter(Y_test_final,Y_pred_final)"
   ]
  },
  {
   "cell_type": "markdown",
   "id": "94b1d0b5",
   "metadata": {},
   "source": [
    "## Classificaton report for testing data\n",
    "### Simple Linear regression"
   ]
  },
  {
   "cell_type": "code",
   "execution_count": 17,
   "id": "59c6fbcf",
   "metadata": {},
   "outputs": [
    {
     "name": "stdout",
     "output_type": "stream",
     "text": [
      "Classification report : \n",
      "              precision    recall  f1-score   support\n",
      "\n",
      "           0       0.86      0.94      0.90       159\n",
      "           1       0.63      0.41      0.50        41\n",
      "\n",
      "    accuracy                           0.83       200\n",
      "   macro avg       0.75      0.68      0.70       200\n",
      "weighted avg       0.81      0.83      0.82       200\n",
      "\n"
     ]
    }
   ],
   "source": [
    "reg.fit(X_train_for_singlefeat,Y_train)\n",
    "Y_pred_simple = reg.predict(X_test_for_singlefeat_2d)\n",
    "print(\"Classification report : \")\n",
    "print(classification_report(classification(Y_test), classification(Y_pred_simple)))\n"
   ]
  },
  {
   "cell_type": "markdown",
   "id": "10ec68df",
   "metadata": {},
   "source": [
    "### Multiple Linear regression"
   ]
  },
  {
   "cell_type": "code",
   "execution_count": 18,
   "id": "ca215fb8",
   "metadata": {},
   "outputs": [
    {
     "name": "stdout",
     "output_type": "stream",
     "text": [
      "Classification report : \n",
      "              precision    recall  f1-score   support\n",
      "\n",
      "           0       0.87      0.91      0.89       159\n",
      "           1       0.59      0.49      0.53        41\n",
      "\n",
      "    accuracy                           0.82       200\n",
      "   macro avg       0.73      0.70      0.71       200\n",
      "weighted avg       0.82      0.82      0.82       200\n",
      "\n"
     ]
    }
   ],
   "source": [
    "reg.fit(X_train,Y_train)\n",
    "Y_pred_multiple = reg.predict(X_test)\n",
    "print(\"Classification report : \")\n",
    "print(classification_report(classification(Y_test), classification(Y_pred_multiple)))"
   ]
  },
  {
   "cell_type": "markdown",
   "id": "91096144",
   "metadata": {},
   "source": [
    "### Proposed model"
   ]
  },
  {
   "cell_type": "code",
   "execution_count": 19,
   "id": "88785229",
   "metadata": {},
   "outputs": [
    {
     "name": "stdout",
     "output_type": "stream",
     "text": [
      "Classification report : \n",
      "              precision    recall  f1-score   support\n",
      "\n",
      "           0       0.88      0.93      0.91       159\n",
      "           1       0.66      0.51      0.58        41\n",
      "\n",
      "    accuracy                           0.84       200\n",
      "   macro avg       0.77      0.72      0.74       200\n",
      "weighted avg       0.83      0.84      0.84       200\n",
      "\n"
     ]
    }
   ],
   "source": [
    "reg.fit(X_train_for_multiple,Y_train)\n",
    "Y_pred_proposed = reg.predict(X_test_for_multiple)\n",
    "print(\"Classification report : \")\n",
    "print(classification_report(classification(Y_test), classification(Y_pred_proposed)))"
   ]
  },
  {
   "cell_type": "markdown",
   "id": "c99001d3",
   "metadata": {},
   "source": [
    "### Applying classification models to the proposed model(5 selected features)"
   ]
  },
  {
   "cell_type": "code",
   "execution_count": 20,
   "id": "fc2cea3c",
   "metadata": {},
   "outputs": [
    {
     "name": "stdout",
     "output_type": "stream",
     "text": [
      "{0, 1, 2, 3, 4, 5, 6, 7, 8, 9}\n"
     ]
    }
   ],
   "source": [
    "from sklearn.metrics import classification_report\n",
    "from sklearn.naive_bayes import GaussianNB,ComplementNB\n",
    "Y = df['bugs']\n",
    "Y_nb = []\n",
    "print(set(Y))"
   ]
  },
  {
   "cell_type": "code",
   "execution_count": 21,
   "id": "7cac3603",
   "metadata": {},
   "outputs": [
    {
     "name": "stdout",
     "output_type": "stream",
     "text": [
      "Classification report : \n",
      "              precision    recall  f1-score   support\n",
      "\n",
      "           0       0.88      0.93      0.91       159\n",
      "           1       0.66      0.51      0.58        41\n",
      "\n",
      "    accuracy                           0.84       200\n",
      "   macro avg       0.77      0.72      0.74       200\n",
      "weighted avg       0.83      0.84      0.84       200\n",
      "\n"
     ]
    }
   ],
   "source": [
    "clf = GaussianNB()\n",
    "clf.fit(X_train_for_multiple, classification(Y_train))\n",
    "Y_pred = clf.predict(X_test_for_multiple)\n",
    "\n",
    "from sklearn.metrics import accuracy_score,classification_report\n",
    "print(\"Classification report : \")\n",
    "print(classification_report(classification(Y_test), classification(Y_pred)))"
   ]
  },
  {
   "cell_type": "code",
   "execution_count": 23,
   "id": "966c0a1f",
   "metadata": {},
   "outputs": [
    {
     "name": "stdout",
     "output_type": "stream",
     "text": [
      "Classification report : \n",
      "              precision    recall  f1-score   support\n",
      "\n",
      "           0       0.85      0.66      0.74       159\n",
      "           1       0.30      0.56      0.39        41\n",
      "\n",
      "    accuracy                           0.64       200\n",
      "   macro avg       0.58      0.61      0.57       200\n",
      "weighted avg       0.74      0.64      0.67       200\n",
      "\n"
     ]
    }
   ],
   "source": [
    "clf = ComplementNB()\n",
    "clf.fit(X_train_for_multiple, classification(Y_train))\n",
    "Y_pred = clf.predict(X_test_for_multiple)\n",
    "print(\"Classification report : \")\n",
    "print(classification_report(classification(Y_test), classification(Y_pred)))"
   ]
  },
  {
   "cell_type": "code",
   "execution_count": 24,
   "id": "1d765b78",
   "metadata": {},
   "outputs": [
    {
     "name": "stdout",
     "output_type": "stream",
     "text": [
      "Classification report : \n",
      "              precision    recall  f1-score   support\n",
      "\n",
      "           0       0.85      0.89      0.87       159\n",
      "           1       0.49      0.41      0.45        41\n",
      "\n",
      "    accuracy                           0.79       200\n",
      "   macro avg       0.67      0.65      0.66       200\n",
      "weighted avg       0.78      0.79      0.78       200\n",
      "\n"
     ]
    }
   ],
   "source": [
    "from sklearn.tree import DecisionTreeClassifier\n",
    "clf = DecisionTreeClassifier(criterion = \"entropy\", splitter=\"random\",min_samples_split=3)\n",
    "clf.fit(X_train_for_multiple, classification(Y_train))\n",
    "Y_pred = clf.predict(X_test_for_multiple)\n",
    "print(\"Classification report : \")\n",
    "print(classification_report(classification(Y_test), classification(Y_pred)))"
   ]
  },
  {
   "cell_type": "code",
   "execution_count": 25,
   "id": "38756a44",
   "metadata": {},
   "outputs": [
    {
     "name": "stdout",
     "output_type": "stream",
     "text": [
      "Classification report : \n",
      "              precision    recall  f1-score   support\n",
      "\n",
      "           0       0.81      1.00      0.90       159\n",
      "           1       1.00      0.10      0.18        41\n",
      "\n",
      "    accuracy                           0.81       200\n",
      "   macro avg       0.91      0.55      0.54       200\n",
      "weighted avg       0.85      0.81      0.75       200\n",
      "\n"
     ]
    }
   ],
   "source": [
    "from sklearn.linear_model import LogisticRegression\n",
    "clf = LogisticRegression(solver='saga', penalty = 'l2', C = 0.1, random_state=10)\n",
    "clf.fit(X_train_for_multiple, classification(Y_train))\n",
    "Y_pred = clf.predict(X_test_for_multiple)\n",
    "print(\"Classification report : \")\n",
    "print(classification_report(classification(Y_test), classification(Y_pred)))"
   ]
  },
  {
   "cell_type": "code",
   "execution_count": 26,
   "id": "70e090ff",
   "metadata": {},
   "outputs": [
    {
     "name": "stdout",
     "output_type": "stream",
     "text": [
      "Classification report : \n",
      "              precision    recall  f1-score   support\n",
      "\n",
      "           0       0.86      0.95      0.90       159\n",
      "           1       0.67      0.39      0.49        41\n",
      "\n",
      "    accuracy                           0.83       200\n",
      "   macro avg       0.76      0.67      0.70       200\n",
      "weighted avg       0.82      0.83      0.82       200\n",
      "\n"
     ]
    }
   ],
   "source": [
    "from sklearn.neighbors import KNeighborsClassifier\n",
    "clf = KNeighborsClassifier()\n",
    "clf.fit(X_train_for_multiple, classification(Y_train))\n",
    "Y_pred = clf.predict(X_test_for_multiple)\n",
    "print(\"Classification report : \")\n",
    "print(classification_report(classification(Y_test), classification(Y_pred)))"
   ]
  },
  {
   "cell_type": "code",
   "execution_count": 27,
   "id": "72a3c0ac",
   "metadata": {},
   "outputs": [
    {
     "name": "stdout",
     "output_type": "stream",
     "text": [
      "Classification report : \n",
      "              precision    recall  f1-score   support\n",
      "\n",
      "           0       0.86      0.95      0.90       159\n",
      "           1       0.67      0.39      0.49        41\n",
      "\n",
      "    accuracy                           0.83       200\n",
      "   macro avg       0.76      0.67      0.70       200\n",
      "weighted avg       0.82      0.83      0.82       200\n",
      "\n"
     ]
    }
   ],
   "source": [
    "from sklearn.ensemble import RandomForestClassifier\n",
    "rfs = RandomForestClassifier(n_estimators=200, criterion = \"gini\")\n",
    "clf.fit(X_train_for_multiple, classification(Y_train))\n",
    "Y_pred = clf.predict(X_test_for_multiple)\n",
    "print(\"Classification report : \")\n",
    "print(classification_report(classification(Y_test), classification(Y_pred)))"
   ]
  },
  {
   "cell_type": "code",
   "execution_count": null,
   "id": "ec9483c9",
   "metadata": {},
   "outputs": [],
   "source": []
  }
 ],
 "metadata": {
  "interpreter": {
   "hash": "b3ba2566441a7c06988d0923437866b63cedc61552a5af99d1f4fb67d367b25f"
  },
  "kernelspec": {
   "display_name": "Python 3.8.8 64-bit ('base': conda)",
   "name": "python3"
  },
  "language_info": {
   "codemirror_mode": {
    "name": "ipython",
    "version": 3
   },
   "file_extension": ".py",
   "mimetype": "text/x-python",
   "name": "python",
   "nbconvert_exporter": "python",
   "pygments_lexer": "ipython3",
   "version": "3.8.8"
  }
 },
 "nbformat": 4,
 "nbformat_minor": 5
}
