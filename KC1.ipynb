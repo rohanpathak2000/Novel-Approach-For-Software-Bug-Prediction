{
 "cells": [
  {
   "cell_type": "code",
   "execution_count": 15,
   "id": "f05cc379",
   "metadata": {},
   "outputs": [],
   "source": [
    "import pandas as pd\n",
    "import numpy as np \n",
    "from sklearn.preprocessing import MinMaxScaler\n",
    "from sklearn.model_selection import train_test_split"
   ]
  },
  {
   "cell_type": "markdown",
   "id": "01158b77",
   "metadata": {},
   "source": [
    "### Merging different sets of metrics in one dataframe"
   ]
  },
  {
   "cell_type": "code",
   "execution_count": 16,
   "id": "e3557c0c",
   "metadata": {},
   "outputs": [],
   "source": [
    "def classification(to_convert):\n",
    "    final_list=[]\n",
    "    for i in to_convert:\n",
    "        if i>0.08:\n",
    "            final_list.append(1)\n",
    "        else:\n",
    "            final_list.append(0)\n",
    "    return final_list"
   ]
  },
  {
   "cell_type": "markdown",
   "id": "d8b92f69",
   "metadata": {},
   "source": [
    "### Separating features and target and feature scaling"
   ]
  },
  {
   "cell_type": "code",
   "execution_count": 17,
   "id": "88acf200",
   "metadata": {},
   "outputs": [],
   "source": [
    "df = pd.read_csv('kc1.csv')\n",
    "df.dropna()\n",
    "\n",
    "#Removing the actual bug count column to extract the metrics\n",
    "X = df.loc[:, df.columns != 'defects']\n",
    "Y = df['defects']\n",
    "\n",
    "##print(X.dtypes)\n",
    "\n",
    "X = X.apply(pd.to_numeric)\n",
    "##print(X.head())\n",
    "X_asDF = X\n",
    "\n",
    "# Feature Scaling\n",
    "scaler = MinMaxScaler()\n",
    "X = scaler.fit_transform(X)\n",
    "\n",
    "Y = [(float(i)-min(Y))/(max(Y)-min(Y)) for i in Y]"
   ]
  },
  {
   "cell_type": "markdown",
   "id": "7d54f1e5",
   "metadata": {},
   "source": [
    "### Extracting top 5 metrics and calculating Ru"
   ]
  },
  {
   "cell_type": "code",
   "execution_count": 18,
   "id": "11c01b1f",
   "metadata": {},
   "outputs": [],
   "source": [
    "X_train, X_test, Y_train, Y_test = train_test_split(X, Y, test_size=0.2, random_state=1)"
   ]
  },
  {
   "cell_type": "markdown",
   "id": "770b701e",
   "metadata": {},
   "source": [
    "### Simple Linear Regression"
   ]
  },
  {
   "cell_type": "code",
   "execution_count": 12,
   "id": "bf2ddb4b",
   "metadata": {
    "scrolled": false
   },
   "outputs": [
    {
     "name": "stdout",
     "output_type": "stream",
     "text": [
      "[(7, 0.15286654340971373), (17, 0.15167318530644902), (16, 0.1493627837895436), (19, 0.13253658760466003), (4, 0.12694486218079892)]\n",
      "Index(['d', 'uniq_Opnd', 'uniq_Op', 'total_Opnd', 'n'], dtype='object')\n",
      "0.18131911782010535\n"
     ]
    }
   ],
   "source": [
    "\n",
    "feature_scores = {}\n",
    "r_scores = []\n",
    "\n",
    "from sklearn.linear_model import LinearRegression\n",
    "import operator\n",
    "\n",
    "reg = LinearRegression()\n",
    "\n",
    "for i in range(X_train.shape[1]):\n",
    "    reg.fit(X_train[:,i].reshape(-1,1),Y_train)\n",
    "    feature_scores[i] = reg.score(X_train[:,i].reshape(-1,1),Y_train)\n",
    "\n",
    "sorted_feature_scores = dict(sorted(feature_scores.items(), key=operator.itemgetter(1),reverse=True))\n",
    "\n",
    "\n",
    "dict_items = sorted_feature_scores.items()\n",
    "\n",
    "top_n_metrics = list(dict_items)[:5]\n",
    "print(top_n_metrics)\n",
    "#print(X_asDF.columns[top_n_metrics[0][0]])\n",
    "\n",
    "list_keys = [x[0] for x in top_n_metrics]\n",
    "print(X_asDF.columns[list_keys])\n",
    "#print(list_keys)\n",
    "X_train_for_multiple  = X_train[:,list_keys]\n",
    "X_test_for_multiple  = X_test[:,list_keys]\n",
    "reg.fit(X_train_for_multiple, Y_train)\n",
    "\n",
    "rU = reg.score(X_train_for_multiple, Y_train)\n",
    "print(rU)"
   ]
  },
  {
   "cell_type": "markdown",
   "id": "1a591308",
   "metadata": {},
   "source": [
    "### Applying proposed algorithm with Polynomial Regression"
   ]
  },
  {
   "cell_type": "code",
   "execution_count": 13,
   "id": "6a25dbcf",
   "metadata": {},
   "outputs": [
    {
     "name": "stdout",
     "output_type": "stream",
     "text": [
      "0.17849226757839387\n"
     ]
    }
   ],
   "source": [
    "from sklearn.preprocessing import PolynomialFeatures\n",
    "poly = PolynomialFeatures(degree = 2)\n",
    "X_poly = poly.fit_transform(X)\n",
    "\n",
    "\n",
    "poly.fit(X_poly,Y)\n",
    "X_train, X_test, Y_train, Y_test = train_test_split(X_poly, Y, test_size=0.2, random_state=1)\n",
    "feature_scores = {}\n",
    "r_scores = []\n",
    "\n",
    "# Fitting Polynomial Regression to the dataset\n",
    "\n",
    "from sklearn.linear_model import LinearRegression, Lasso\n",
    "import operator\n",
    "\n",
    "reg = LinearRegression() \n",
    "for i in range(X_train.shape[1]):\n",
    "    reg.fit(X_train[:,i].reshape(-1,1),Y_train)\n",
    "    feature_scores[i] = reg.score(X_train[:,i].reshape(-1,1),Y_train)\n",
    "\n",
    "sorted_feature_scores = dict( sorted(feature_scores.items(), key=operator.itemgetter(1),reverse=True))\n",
    "\n",
    "\n",
    "dict_items = sorted_feature_scores.items()\n",
    "\n",
    "top_n_metrics = list(dict_items)[:5]\n",
    "#print(top_n_metrics)\n",
    "#print(X_asDF.columns[top_n_metrics[0][0]])\n",
    "\n",
    "list_keys = [x[0] for x in top_n_metrics]\n",
    "#print(list_keys)\n",
    "X_train_for_multiple  = X_train[:,list_keys]\n",
    "X_test_for_multiple  = X_test[:,list_keys]\n",
    "reg.fit(X_train_for_multiple, Y_train)\n",
    "\n",
    "rU = reg.score(X_train_for_multiple, Y_train)\n",
    "print(rU)"
   ]
  },
  {
   "cell_type": "markdown",
   "id": "a2f5e933",
   "metadata": {},
   "source": [
    "### Proposed Algorithm with Ridge Regression"
   ]
  },
  {
   "cell_type": "code",
   "execution_count": 19,
   "id": "2cc55115",
   "metadata": {},
   "outputs": [
    {
     "name": "stdout",
     "output_type": "stream",
     "text": [
      "0.16951983055116715\n"
     ]
    }
   ],
   "source": [
    "feature_scores = {}\n",
    "r_scores = []\n",
    "\n",
    "# Fitting Polynomial Regression to the dataset\n",
    "\n",
    "from sklearn.linear_model import LinearRegression, Lasso, Ridge\n",
    "import operator\n",
    "\n",
    "reg = Ridge() \n",
    "for i in range(X_train.shape[1]):\n",
    "    reg.fit(X_train[:,i].reshape(-1,1),Y_train)\n",
    "    feature_scores[i] = reg.score(X_train[:,i].reshape(-1,1),Y_train)\n",
    "\n",
    "sorted_feature_scores = dict(sorted(feature_scores.items(), key=operator.itemgetter(1),reverse=True))\n",
    "\n",
    "dict_items = sorted_feature_scores.items()\n",
    "\n",
    "top_n_metrics = list(dict_items)[:5]\n",
    "\n",
    "list_keys = [x[0] for x in top_n_metrics]\n",
    "\n",
    "X_train_for_multiple  = X_train[:,list_keys]\n",
    "X_for_proposed = X[:,list_keys]\n",
    "X_test_for_multiple  = X_test[:,list_keys]\n",
    "reg.fit(X_train_for_multiple, Y_train)\n",
    "\n",
    "rU = reg.score(X_train_for_multiple, Y_train)\n",
    "print(rU)"
   ]
  },
  {
   "cell_type": "markdown",
   "id": "a4b1fd1f",
   "metadata": {},
   "source": [
    "### Calculating weights for the selected features"
   ]
  },
  {
   "cell_type": "code",
   "execution_count": 20,
   "id": "ffb6d8ef",
   "metadata": {},
   "outputs": [
    {
     "name": "stdout",
     "output_type": "stream",
     "text": [
      "0.1626291328945152\n",
      "0.15877840067256432\n",
      "0.17059753635370056\n",
      "0.16936421642940858\n",
      "0.16706227990611233\n"
     ]
    }
   ],
   "source": [
    "d = []\n",
    "for i in list_keys:\n",
    "    remaining_features = [j for j in list_keys if j != i ]\n",
    "    X_train_remaining = X_train[:,remaining_features]\n",
    "    X_test_remaining = X_test[:,remaining_features]\n",
    "    reg.fit(X_train_remaining, Y_train)\n",
    "    train_score = reg.score(X_train_remaining, Y_train)\n",
    "    print(train_score)\n",
    "    d.append(rU-train_score)"
   ]
  },
  {
   "cell_type": "markdown",
   "id": "bb0bcf9f",
   "metadata": {},
   "source": [
    "### Normalising weights for and predicting the bug proneness index"
   ]
  },
  {
   "cell_type": "code",
   "execution_count": 21,
   "id": "9ea56fd3",
   "metadata": {},
   "outputs": [
    {
     "name": "stdout",
     "output_type": "stream",
     "text": [
      "[0.6741951081840294, 1.0, 0.0, 0.10434941755177658, 0.29911294217821915]\n"
     ]
    }
   ],
   "source": [
    "norm_d = [(float(i)-min(d))/(max(d)-min(d)) for i in d]\n",
    "print(norm_d)\n",
    "#Weights should be mapped to elements in the list_keys\n",
    "#norm_d are the normalized weights of the n metrics\n",
    "Y_pred = []\n",
    "for features_test in X_test:\n",
    "    tot = 0\n",
    "    for (i, wt) in zip(list_keys, norm_d):\n",
    "        tot = tot + features_test[i] * wt\n",
    "    Y_pred.append(tot)\n",
    "Y_pred = [(float(i)-min(Y_pred))/(max(Y_pred)-min(Y_pred)) for i in Y_pred]\n",
    "  "
   ]
  },
  {
   "cell_type": "markdown",
   "id": "6f04ae94",
   "metadata": {},
   "source": [
    "## Function to classify bug count to 0 or 1"
   ]
  },
  {
   "cell_type": "code",
   "execution_count": 23,
   "id": "8406a42e",
   "metadata": {},
   "outputs": [
    {
     "data": {
      "text/plain": [
       "<matplotlib.collections.PathCollection at 0x12afd12fbb0>"
      ]
     },
     "execution_count": 23,
     "metadata": {},
     "output_type": "execute_result"
    },
    {
     "data": {
      "image/png": "[encoded data removed]",
      "text/plain": [
       "<Figure size 432x288 with 1 Axes>"
      ]
     },
     "metadata": {
      "needs_background": "light"
     },
     "output_type": "display_data"
    }
   ],
   "source": [
    "# Plotting of simple linear regression model\n",
    "\n",
    "import matplotlib.pyplot as plt\n",
    "X_train_for_singlefeat = X_train[:,list_keys[0]]\n",
    "X_single_feat = X[:,list_keys[0]]\n",
    "X_single_feat_2d = X_single_feat.reshape(-1,1)\n",
    "X_test_for_singlefeat = X_test[:,list_keys[0]]\n",
    "X_train_for_singlefeat_2d = X_train_for_singlefeat.reshape(-1,1)\n",
    "reg.fit(X_train_for_singlefeat_2d,Y_train)\n",
    "X_test_for_singlefeat_2d = X_test_for_singlefeat.reshape(-1,1)\n",
    "Y_Predicted = reg.predict(X_test_for_singlefeat_2d)\n",
    "plt.xlabel(\"Actual bug count\")\n",
    "plt.ylabel(\"Predicted bug index\")\n",
    "plt.scatter(Y_test,Y_Predicted)"
   ]
  },
  {
   "cell_type": "code",
   "execution_count": 24,
   "id": "2adcf73e",
   "metadata": {},
   "outputs": [
    {
     "data": {
      "text/plain": [
       "<matplotlib.collections.PathCollection at 0x12afd1a87f0>"
      ]
     },
     "execution_count": 24,
     "metadata": {},
     "output_type": "execute_result"
    },
    {
     "data": {
      "image/png": "[encoded data removed]",
      "text/plain": [
       "<Figure size 432x288 with 1 Axes>"
      ]
     },
     "metadata": {
      "needs_background": "light"
     },
     "output_type": "display_data"
    }
   ],
   "source": [
    "# Plotting of multiple linear regression\n",
    "\n",
    "reg.fit(X_train,Y_train)\n",
    "Y_Pred_multiplereg = reg.predict(X_test)\n",
    "plt.xlabel(\"Actual bug count\")\n",
    "plt.ylabel(\"Predicted bug index\")\n",
    "plt.scatter(Y_test,Y_Pred_multiplereg)\n"
   ]
  },
  {
   "cell_type": "code",
   "execution_count": 25,
   "id": "1fbf5ec5",
   "metadata": {},
   "outputs": [
    {
     "data": {
      "text/plain": [
       "<matplotlib.collections.PathCollection at 0x12afd2007c0>"
      ]
     },
     "execution_count": 25,
     "metadata": {},
     "output_type": "execute_result"
    },
    {
     "data": {
      "image/png": "[encoded data removed]",
      "text/plain": [
       "<Figure size 432x288 with 1 Axes>"
      ]
     },
     "metadata": {
      "needs_background": "light"
     },
     "output_type": "display_data"
    }
   ],
   "source": [
    "# Plotting of prosposed model\n",
    "plt.xlabel(\"Actual bug count\")\n",
    "plt.ylabel(\"Predicted bug index\")\n",
    "plt.scatter(Y_test,Y_pred)\n"
   ]
  },
  {
   "cell_type": "markdown",
   "id": "94b1d0b5",
   "metadata": {},
   "source": [
    "## Classificaton report for testing data\n",
    "### Simple Linear regression"
   ]
  },
  {
   "cell_type": "code",
   "execution_count": null,
   "id": "59c6fbcf",
   "metadata": {},
   "outputs": [],
   "source": [
    "from sklearn.metrics import classification_report\n",
    "reg.fit(X_train_for_singlefeat_2d,Y_train)\n",
    "Y_pred_simple = reg.predict(X_test_for_singlefeat_2d)\n",
    "print(\"Classification report : \")\n",
    "print(classification_report(classification(Y_test), classification(Y_pred_simple)))"
   ]
  },
  {
   "cell_type": "markdown",
   "id": "10ec68df",
   "metadata": {},
   "source": [
    "### Multiple Linear regression"
   ]
  },
  {
   "cell_type": "code",
   "execution_count": null,
   "id": "ca215fb8",
   "metadata": {},
   "outputs": [],
   "source": [
    "reg.fit(X_train,Y_train)\n",
    "Y_pred_multiple = reg.predict(X_test)\n",
    "print(\"Classification report : \")\n",
    "print(classification_report(classification(Y_test), classification(Y_pred_multiple)))"
   ]
  },
  {
   "cell_type": "markdown",
   "id": "91096144",
   "metadata": {},
   "source": [
    "### Proposed model"
   ]
  },
  {
   "cell_type": "code",
   "execution_count": null,
   "id": "88785229",
   "metadata": {},
   "outputs": [],
   "source": [
    "Y_pred = []\n",
    "for features_test in X_test:\n",
    "    tot = 0\n",
    "    for (i, wt) in zip(list_keys, norm_d):\n",
    "        tot = tot + features_test[i] * wt\n",
    "    Y_pred.append(tot)\n",
    "Y_pred = [(float(i)-min(Y_pred))/(max(Y_pred)-min(Y_pred)) for i in Y_pred]\n",
    "print(\"Classification report : \")\n",
    "print(classification_report(classification(Y_test), classification(Y_pred)))"
   ]
  },
  {
   "cell_type": "code",
   "execution_count": null,
   "id": "519f19f0",
   "metadata": {},
   "outputs": [],
   "source": [
    "# Accuracy - 3 \n",
    "# Precision - 3\n",
    "# Recall - 3\n",
    "# F measure - 3"
   ]
  },
  {
   "cell_type": "markdown",
   "id": "51685046",
   "metadata": {},
   "source": [
    "### Classification report for Training Data"
   ]
  },
  {
   "cell_type": "markdown",
   "id": "7bd2f656",
   "metadata": {},
   "source": [
    "### Simple Linear Regression"
   ]
  },
  {
   "cell_type": "code",
   "execution_count": null,
   "id": "c7646191",
   "metadata": {},
   "outputs": [],
   "source": [
    "reg.fit(X_train_for_singlefeat_2d,Y_train)\n",
    "Y_pred_simple = reg.predict(X_train_for_singlefeat_2d)\n",
    "print(\"Classification report : \")\n",
    "print(classification_report(classification(Y_train), classification(Y_pred_simple)))"
   ]
  },
  {
   "cell_type": "markdown",
   "id": "94328e98",
   "metadata": {},
   "source": [
    "### Multiple Linear Regression"
   ]
  },
  {
   "cell_type": "code",
   "execution_count": null,
   "id": "0d0c8d04",
   "metadata": {},
   "outputs": [],
   "source": [
    "reg.fit(X_train,Y_train)\n",
    "Y_pred_multiple = reg.predict(X_train)\n",
    "print(\"Classification report : \")\n",
    "print(classification_report(classification(Y_train), classification(Y_pred_multiple)))"
   ]
  },
  {
   "cell_type": "markdown",
   "id": "19afd29f",
   "metadata": {},
   "source": [
    "### Proposed Model"
   ]
  },
  {
   "cell_type": "code",
   "execution_count": null,
   "id": "21505d18",
   "metadata": {},
   "outputs": [],
   "source": [
    "Y_pred = []\n",
    "for features_train in X_train:\n",
    "    tot = 0\n",
    "    for (i, wt) in zip(list_keys, norm_d):\n",
    "        tot = tot + features_train[i] * wt\n",
    "    Y_pred.append(tot)\n",
    "Y_pred = [(float(i)-min(Y_pred))/(max(Y_pred)-min(Y_pred)) for i in Y_pred]\n",
    "print(\"Classification report : \")\n",
    "print(classification_report(classification(Y_train), classification(Y_pred)))"
   ]
  },
  {
   "cell_type": "code",
   "execution_count": null,
   "id": "01af423b",
   "metadata": {},
   "outputs": [],
   "source": [
    "# Accuracy - 2\n",
    "# Precision - 2\n",
    "# Recall - 2\n",
    "# F measure - 2"
   ]
  },
  {
   "cell_type": "markdown",
   "id": "ae67888d",
   "metadata": {},
   "source": [
    "### Classification Report for overall data"
   ]
  },
  {
   "cell_type": "markdown",
   "id": "40eaa910",
   "metadata": {},
   "source": [
    "### Simple Linear Regression"
   ]
  },
  {
   "cell_type": "code",
   "execution_count": null,
   "id": "3ecf2bda",
   "metadata": {},
   "outputs": [],
   "source": [
    "reg.fit(X_train_for_singlefeat_2d,Y_train)\n",
    "Y_pred_simple = reg.predict(X_single_feat_2d)\n",
    "print(\"Classification report : \")\n",
    "print(classification_report(classification(Y), classification(Y_pred_simple)))"
   ]
  },
  {
   "cell_type": "markdown",
   "id": "4da3ad12",
   "metadata": {},
   "source": [
    "### Multiple Linear Regression"
   ]
  },
  {
   "cell_type": "code",
   "execution_count": null,
   "id": "61237d10",
   "metadata": {},
   "outputs": [],
   "source": [
    "reg.fit(X_train,Y_train)\n",
    "Y_pred_overall = reg.predict(X)\n",
    "print(\"Classification report : \")\n",
    "print(classification_report(classification(Y), classification(Y_pred_overall)))"
   ]
  },
  {
   "cell_type": "markdown",
   "id": "fe3572a2",
   "metadata": {},
   "source": [
    "### Proposed Model"
   ]
  },
  {
   "cell_type": "code",
   "execution_count": null,
   "id": "227b00fd",
   "metadata": {},
   "outputs": [],
   "source": [
    "Y_pred = []\n",
    "for features in X:\n",
    "    tot = 0\n",
    "    for (i, wt) in zip(list_keys, norm_d):\n",
    "        tot = tot + features[i] * wt\n",
    "    Y_pred.append(tot)\n",
    "Y_pred = [(float(i)-min(Y_pred))/(max(Y_pred)-min(Y_pred)) for i in Y_pred]\n",
    "print(\"Classification report : \")\n",
    "print(classification_report(classification(Y), classification(Y_pred)))"
   ]
  },
  {
   "cell_type": "code",
   "execution_count": null,
   "id": "6a22ca69",
   "metadata": {},
   "outputs": [],
   "source": [
    "# Accuracy - 3\n",
    "# Precision - 2\n",
    "# Recall - 3\n",
    "# F measure - 3"
   ]
  },
  {
   "cell_type": "code",
   "execution_count": 25,
   "id": "e80b68d3",
   "metadata": {},
   "outputs": [],
   "source": [
    "\n",
    "f1_simple = [0.82,0.83,0.83]\n",
    "acc_simple = [0.83,0.84,0.84]\n",
    "prec_simple = [0.81,0.83,0.83]\n",
    "rec_simple = [0.83,0.84,0.84]\n",
    "\n",
    "f1_multiple = [0.82,0.85,0.84]\n",
    "acc_multiple = [0.82,0.86,0.85]\n",
    "prec_multiple = [0.82,0.85,0.84]\n",
    "rec_multiple = [0.82,0.86,0.85]\n",
    "\n",
    "f1_proposed = [0.84,0.84,0.84]\n",
    "acc_proposed = [0.84,0.85,0.85]\n",
    "prec_proposed = [0.84,0.84,0.84]\n",
    "rec_proposed = [0.84,0.85,0.85]"
   ]
  },
  {
   "cell_type": "code",
   "execution_count": 26,
   "id": "d58ca111",
   "metadata": {},
   "outputs": [
    {
     "data": {
      "image/png": "[encoded data removed]",
      "text/plain": [
       "<Figure size 432x288 with 1 Axes>"
      ]
     },
     "metadata": {
      "needs_background": "light"
     },
     "output_type": "display_data"
    }
   ],
   "source": [
    "N = 3\n",
    "ind = np.arange(N) \n",
    "width = 0.25  \n",
    "bar1 = plt.bar(ind, f1_simple, width, color = 'r')\n",
    "bar2 = plt.bar(ind+width, f1_multiple, width, color='g')\n",
    "bar3 = plt.bar(ind+width*2, f1_proposed, width, color = 'b')\n",
    "  \n",
    "plt.xlabel(\"Data\")\n",
    "plt.ylabel(\"F1 Score\")\n",
    "plt.title(\"F1 score of models\")\n",
    "  \n",
    "plt.xticks(ind+width,['Test', 'Train', 'Overall'])\n",
    "plt.legend( (bar1, bar2, bar3), ('Simple', 'Multiple', 'Proposed'),bbox_to_anchor =(1.3, 1.0) )\n",
    "plt.show()"
   ]
  },
  {
   "cell_type": "code",
   "execution_count": 27,
   "id": "cbdbcffb",
   "metadata": {
    "scrolled": true
   },
   "outputs": [
    {
     "data": {
      "image/png": "[encoded data removed]",
      "text/plain": [
       "<Figure size 432x288 with 1 Axes>"
      ]
     },
     "metadata": {
      "needs_background": "light"
     },
     "output_type": "display_data"
    }
   ],
   "source": [
    "N = 3\n",
    "ind = np.arange(N) \n",
    "width = 0.25  \n",
    "bar1 = plt.bar(ind, acc_simple, width, color = 'r')\n",
    "bar2 = plt.bar(ind+width, acc_multiple, width, color='g')\n",
    "bar3 = plt.bar(ind+width*2, acc_proposed, width, color = 'b')\n",
    "  \n",
    "plt.xlabel(\"Data\")\n",
    "plt.ylabel(\"Accuracy\")\n",
    "plt.title(\"Accuracy of models\")\n",
    "  \n",
    "plt.xticks(ind+width,['Test', 'Train', 'Overall'])\n",
    "plt.legend( (bar1, bar2, bar3), ('Simple', 'Multiple', 'Proposed'),bbox_to_anchor =(1.3, 1.0) )\n",
    "plt.show()"
   ]
  },
  {
   "cell_type": "code",
   "execution_count": 28,
   "id": "879865fc",
   "metadata": {},
   "outputs": [
    {
     "data": {
      "image/png": "[encoded data removed]",
      "text/plain": [
       "<Figure size 432x288 with 1 Axes>"
      ]
     },
     "metadata": {
      "needs_background": "light"
     },
     "output_type": "display_data"
    }
   ],
   "source": [
    "N = 3\n",
    "ind = np.arange(N) \n",
    "width = 0.25  \n",
    "bar1 = plt.bar(ind, prec_simple, width, color = 'r')\n",
    "bar2 = plt.bar(ind+width, prec_multiple, width, color='g')\n",
    "bar3 = plt.bar(ind+width*2, prec_proposed, width, color = 'b')\n",
    "  \n",
    "plt.xlabel(\"Data\")\n",
    "plt.ylabel(\"Precision\")\n",
    "plt.title(\"Precision of models\")\n",
    "  \n",
    "plt.xticks(ind+width,['Test', 'Train', 'Overall'])\n",
    "plt.legend( (bar1, bar2, bar3), ('Simple', 'Multiple', 'Proposed'),bbox_to_anchor =(1.3, 1.0) )\n",
    "plt.show()"
   ]
  },
  {
   "cell_type": "code",
   "execution_count": 29,
   "id": "bedceccd",
   "metadata": {},
   "outputs": [
    {
     "data": {
      "image/png": "[encoded data removed]",
      "text/plain": [
       "<Figure size 432x288 with 1 Axes>"
      ]
     },
     "metadata": {
      "needs_background": "light"
     },
     "output_type": "display_data"
    }
   ],
   "source": [
    "N = 3\n",
    "ind = np.arange(N) \n",
    "width = 0.25  \n",
    "bar1 = plt.bar(ind, rec_simple, width, color = 'r')\n",
    "bar2 = plt.bar(ind+width, rec_multiple, width, color='g')\n",
    "bar3 = plt.bar(ind+width*2, rec_proposed, width, color = 'b')\n",
    "  \n",
    "plt.xlabel(\"Data\")\n",
    "plt.ylabel(\"Recall\")\n",
    "plt.title(\"Recall of models\")\n",
    "  \n",
    "plt.xticks(ind+width,['Test', 'Train', 'Overall'])\n",
    "plt.legend( (bar1, bar2, bar3), ('Simple', 'Multiple', 'Proposed'),bbox_to_anchor =(1.3, 1.0) )\n",
    "plt.show()"
   ]
  },
  {
   "cell_type": "markdown",
   "id": "c99001d3",
   "metadata": {},
   "source": [
    "### Applying classification models to the proposed model(5 selected features)"
   ]
  },
  {
   "cell_type": "code",
   "execution_count": 26,
   "id": "72a35004",
   "metadata": {},
   "outputs": [],
   "source": [
    "from imblearn.over_sampling import SMOTE\n",
    "sm = SMOTE(random_state = 2)"
   ]
  },
  {
   "cell_type": "code",
   "execution_count": 28,
   "id": "8e5213ae",
   "metadata": {},
   "outputs": [
    {
     "name": "stdout",
     "output_type": "stream",
     "text": [
      "Classification report : \n",
      "              precision    recall  f1-score   support\n",
      "\n",
      "           0       0.67      0.84      0.75       364\n",
      "           1       0.79      0.58      0.67       364\n",
      "\n",
      "    accuracy                           0.71       728\n",
      "   macro avg       0.73      0.71      0.71       728\n",
      "weighted avg       0.73      0.71      0.71       728\n",
      "\n"
     ]
    }
   ],
   "source": [
    "from sklearn.naive_bayes import GaussianNB, ComplementNB\n",
    "clf = GaussianNB()\n",
    "Y_train_clf = classification(Y_train)\n",
    "Y_test_clf = classification(Y_test)\n",
    "X_train_res, y_train_res = sm.fit_resample(X_train_for_multiple, np.array(Y_train_clf).ravel())\n",
    "X_test_res, y_test_res = sm.fit_resample(X_test_for_multiple, np.array(Y_test_clf).ravel())\n",
    "clf.fit(X_train_res, y_train_res)\n",
    "Y_pred = clf.predict(X_test_res)\n",
    "\n",
    "from sklearn.metrics import f1_score,accuracy_score,classification_report\n",
    "print(\"Classification report : \")\n",
    "print(classification_report(y_test_res, classification(Y_pred)))\n"
   ]
  },
  {
   "cell_type": "code",
   "execution_count": 29,
   "id": "7cac3603",
   "metadata": {},
   "outputs": [
    {
     "name": "stdout",
     "output_type": "stream",
     "text": [
      "Classification report : \n",
      "              precision    recall  f1-score   support\n",
      "\n",
      "           0       0.91      0.90      0.90       364\n",
      "           1       0.39      0.41      0.40        58\n",
      "\n",
      "    accuracy                           0.83       422\n",
      "   macro avg       0.65      0.66      0.65       422\n",
      "weighted avg       0.84      0.83      0.83       422\n",
      "\n"
     ]
    }
   ],
   "source": [
    "acc_scores = []\n",
    "f1_scores = []\n",
    "\n",
    "from sklearn.naive_bayes import GaussianNB, ComplementNB\n",
    "clf = GaussianNB()\n",
    "Y_train_clf = classification(Y_train)\n",
    "Y_test_clf = classification(Y_test)\n",
    "clf.fit(X_train_for_multiple, Y_train_clf)\n",
    "Y_pred = clf.predict(X_test_for_multiple)\n",
    "print(\"Classification report : \")\n",
    "print(classification_report(Y_test_clf, classification(Y_pred)))\n",
    "\n",
    "acc_scores.append(accuracy_score(Y_test_clf, classification(Y_pred)))\n",
    "f1_scores.append(f1_score(Y_test_clf, classification(Y_pred), average = 'weighted'))"
   ]
  },
  {
   "cell_type": "code",
   "execution_count": 31,
   "id": "f0e2fa00",
   "metadata": {},
   "outputs": [
    {
     "name": "stdout",
     "output_type": "stream",
     "text": [
      "Classification report : \n",
      "              precision    recall  f1-score   support\n",
      "\n",
      "           0       0.63      0.85      0.72       364\n",
      "           1       0.77      0.49      0.60       364\n",
      "\n",
      "    accuracy                           0.67       728\n",
      "   macro avg       0.70      0.67      0.66       728\n",
      "weighted avg       0.70      0.67      0.66       728\n",
      "\n"
     ]
    }
   ],
   "source": [
    "from sklearn.tree import DecisionTreeClassifier\n",
    "clf = DecisionTreeClassifier(criterion = \"entropy\", splitter=\"random\",min_samples_split=3)\n",
    "clf.fit(X_train_res,y_train_res)\n",
    "Y_pred = clf.predict(X_test_res)\n",
    "print(\"Classification report : \")\n",
    "print(classification_report(y_test_res, classification(Y_pred)))"
   ]
  },
  {
   "cell_type": "code",
   "execution_count": 38,
   "id": "1d765b78",
   "metadata": {},
   "outputs": [
    {
     "name": "stdout",
     "output_type": "stream",
     "text": [
      "Classification report : \n",
      "              precision    recall  f1-score   support\n",
      "\n",
      "           0       0.90      0.91      0.90       364\n",
      "           1       0.38      0.36      0.37        58\n",
      "\n",
      "    accuracy                           0.83       422\n",
      "   macro avg       0.64      0.63      0.64       422\n",
      "weighted avg       0.83      0.83      0.83       422\n",
      "\n"
     ]
    }
   ],
   "source": [
    "from sklearn.tree import DecisionTreeClassifier\n",
    "clf = DecisionTreeClassifier(criterion = \"entropy\", splitter=\"random\",min_samples_split=3)\n",
    "clf.fit(X_train_for_multiple, Y_train_clf)\n",
    "Y_pred = clf.predict(X_test_for_multiple)\n",
    "print(\"Classification report : \")\n",
    "print(classification_report(Y_test_clf, classification(Y_pred)))\n",
    "acc_scores.append(accuracy_score(Y_test_clf, classification(Y_pred)))\n",
    "f1_scores.append(f1_score(Y_test_clf, classification(Y_pred), average = 'weighted'))"
   ]
  },
  {
   "cell_type": "code",
   "execution_count": 39,
   "id": "38756a44",
   "metadata": {},
   "outputs": [
    {
     "name": "stdout",
     "output_type": "stream",
     "text": [
      "Classification report : \n",
      "              precision    recall  f1-score   support\n",
      "\n",
      "           0       0.87      0.99      0.93       364\n",
      "           1       0.50      0.05      0.09        58\n",
      "\n",
      "    accuracy                           0.86       422\n",
      "   macro avg       0.68      0.52      0.51       422\n",
      "weighted avg       0.82      0.86      0.81       422\n",
      "\n"
     ]
    }
   ],
   "source": [
    "import warnings\n",
    "warnings.filterwarnings(\"ignore\")\n",
    "from sklearn.linear_model import LogisticRegression\n",
    "clf = LogisticRegression(solver='saga', penalty = 'l2', C = 0.1, random_state=10)\n",
    "clf.fit(X_train_for_multiple, Y_train_clf)\n",
    "Y_pred = clf.predict(X_test_for_multiple)\n",
    "print(\"Classification report : \")\n",
    "print(classification_report(Y_test_clf, classification(Y_pred)))\n",
    "acc_scores.append(accuracy_score(Y_test_clf, classification(Y_pred)))\n",
    "f1_scores.append(f1_score(Y_test_clf, classification(Y_pred), average = 'weighted'))"
   ]
  },
  {
   "cell_type": "code",
   "execution_count": 40,
   "id": "70e090ff",
   "metadata": {},
   "outputs": [
    {
     "name": "stdout",
     "output_type": "stream",
     "text": [
      "Classification report : \n",
      "              precision    recall  f1-score   support\n",
      "\n",
      "           0       0.88      0.98      0.93       364\n",
      "           1       0.56      0.17      0.26        58\n",
      "\n",
      "    accuracy                           0.87       422\n",
      "   macro avg       0.72      0.58      0.60       422\n",
      "weighted avg       0.84      0.87      0.84       422\n",
      "\n"
     ]
    }
   ],
   "source": [
    "from sklearn.neighbors import KNeighborsClassifier\n",
    "clf = KNeighborsClassifier(n_neighbors=35)\n",
    "clf.fit(X_train_for_multiple, Y_train_clf)\n",
    "Y_pred = clf.predict(X_test_for_multiple)\n",
    "print(\"Classification report : \")\n",
    "print(classification_report(Y_test_clf, classification(Y_pred)))\n",
    "acc_scores.append(accuracy_score(Y_test_clf, classification(Y_pred)))\n",
    "f1_scores.append(f1_score(Y_test_clf, classification(Y_pred), average = 'weighted'))"
   ]
  },
  {
   "cell_type": "code",
   "execution_count": 41,
   "id": "72a3c0ac",
   "metadata": {
    "scrolled": true
   },
   "outputs": [
    {
     "name": "stdout",
     "output_type": "stream",
     "text": [
      "Classification report : \n",
      "              precision    recall  f1-score   support\n",
      "\n",
      "           0       0.90      0.94      0.92       364\n",
      "           1       0.46      0.31      0.37        58\n",
      "\n",
      "    accuracy                           0.86       422\n",
      "   macro avg       0.68      0.63      0.64       422\n",
      "weighted avg       0.84      0.86      0.84       422\n",
      "\n"
     ]
    }
   ],
   "source": [
    "from sklearn.ensemble import RandomForestClassifier\n",
    "rfs = RandomForestClassifier(n_estimators=300, criterion = \"gini\")\n",
    "rfs.fit(X_train_for_multiple, Y_train_clf)\n",
    "Y_pred = rfs.predict(X_test_for_multiple)\n",
    "print(\"Classification report : \")\n",
    "print(classification_report(Y_test_clf, classification(Y_pred)))\n",
    "\n",
    "acc_scores.append(accuracy_score(Y_test_clf, classification(Y_pred)))\n",
    "f1_scores.append(f1_score(Y_test_clf, classification(Y_pred), average = 'weighted'))"
   ]
  },
  {
   "cell_type": "code",
   "execution_count": 42,
   "id": "e71f9e8b",
   "metadata": {},
   "outputs": [
    {
     "data": {
      "image/png": "[encoded data removed]",
      "text/plain": [
       "<Figure size 432x288 with 1 Axes>"
      ]
     },
     "metadata": {
      "needs_background": "light"
     },
     "output_type": "display_data"
    }
   ],
   "source": [
    "X = [\"NB\", \"DT\",\"Logistic\", \"KNN\", \"RF\"]\n",
    "X_axis = np.arange(len(X))  \n",
    "plt.bar(X_axis - 0.2, acc_scores, 0.4, label = 'Accuracy')\n",
    "plt.bar(X_axis + 0.2, f1_scores, 0.4, label = 'F1 Score')\n",
    "plt.xticks(X_axis, X)\n",
    "plt.xlabel(\"Classification Techniques\")\n",
    "plt.ylabel(\"Value\")\n",
    "plt.title(\"Evaluation of Classification Models\")\n",
    "plt.legend(bbox_to_anchor =(1.3, 1.0))\n",
    "plt.show()"
   ]
  },
  {
   "cell_type": "code",
   "execution_count": 43,
   "id": "a02cb8b5",
   "metadata": {},
   "outputs": [
    {
     "data": {
      "text/plain": [
       "5"
      ]
     },
     "execution_count": 43,
     "metadata": {},
     "output_type": "execute_result"
    }
   ],
   "source": [
    "len(acc_scores)"
   ]
  }
 ],
 "metadata": {
  "interpreter": {
   "hash": "b3ba2566441a7c06988d0923437866b63cedc61552a5af99d1f4fb67d367b25f"
  },
  "kernelspec": {
   "display_name": "Python 3",
   "language": "python",
   "name": "python3"
  },
  "language_info": {
   "codemirror_mode": {
    "name": "ipython",
    "version": 3
   },
   "file_extension": ".py",
   "mimetype": "text/x-python",
   "name": "python",
   "nbconvert_exporter": "python",
   "pygments_lexer": "ipython3",
   "version": "3.8.8"
  }
 },
 "nbformat": 4,
 "nbformat_minor": 5
}
